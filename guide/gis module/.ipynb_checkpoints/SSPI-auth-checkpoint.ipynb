{
 "cells": [
  {
   "cell_type": "code",
   "execution_count": 2,
   "metadata": {
    "collapsed": false
   },
   "outputs": [],
   "source": [
    "import win32api,sspi\n",
    "user = win32api.GetUserName()"
   ]
  },
  {
   "cell_type": "code",
   "execution_count": 4,
   "metadata": {
    "collapsed": false
   },
   "outputs": [
    {
     "data": {
      "text/plain": [
       "'rohit'"
      ]
     },
     "execution_count": 4,
     "metadata": {},
     "output_type": "execute_result"
    }
   ],
   "source": [
    "user"
   ]
  },
  {
   "cell_type": "code",
   "execution_count": 5,
   "metadata": {
    "collapsed": true
   },
   "outputs": [],
   "source": [
    "sspi_client = sspi.ClientAuth(\"NTLM\",user)"
   ]
  },
  {
   "cell_type": "code",
   "execution_count": 6,
   "metadata": {
    "collapsed": true
   },
   "outputs": [],
   "source": [
    "error_msg, output_buffer = sspi_client.authorize(None)"
   ]
  },
  {
   "cell_type": "code",
   "execution_count": 11,
   "metadata": {
    "collapsed": false
   },
   "outputs": [],
   "source": [
    "import base64\n",
    "auth_req = output_buffer[0].Buffer\n",
    "auth_req = base64.b64encode(auth_req)"
   ]
  },
  {
   "cell_type": "code",
   "execution_count": 12,
   "metadata": {
    "collapsed": false
   },
   "outputs": [
    {
     "data": {
      "text/plain": [
       "b'TlRMTVNTUAABAAAAt7II4gkACQA0AAAADAAMACgAAAAKADk4AAAAD1JPSElUU1VSRkFDRVdPUktHUk9VUA=='"
      ]
     },
     "execution_count": 12,
     "metadata": {},
     "output_type": "execute_result"
    }
   ],
   "source": [
    "auth_req"
   ]
  },
  {
   "cell_type": "code",
   "execution_count": null,
   "metadata": {
    "collapsed": true
   },
   "outputs": [],
   "source": []
  },
  {
   "cell_type": "code",
   "execution_count": null,
   "metadata": {
    "collapsed": true
   },
   "outputs": [],
   "source": []
  },
  {
   "cell_type": "code",
   "execution_count": 1,
   "metadata": {
    "collapsed": false
   },
   "outputs": [
    {
     "ename": "NameError",
     "evalue": "name 'AuthBase' is not defined",
     "output_type": "error",
     "traceback": [
      "\u001b[0;31m---------------------------------------------------------------------------\u001b[0m",
      "\u001b[0;31mNameError\u001b[0m                                 Traceback (most recent call last)",
      "\u001b[0;32m<ipython-input-1-556b0bb7d0ae>\u001b[0m in \u001b[0;36m<module>\u001b[0;34m()\u001b[0m\n\u001b[0;32m----> 1\u001b[0;31m \u001b[0;32mclass\u001b[0m \u001b[0mSSPIAuth\u001b[0m\u001b[0;34m(\u001b[0m\u001b[0mAuthBase\u001b[0m\u001b[0;34m)\u001b[0m\u001b[0;34m:\u001b[0m\u001b[0;34m\u001b[0m\u001b[0m\n\u001b[0m\u001b[1;32m      2\u001b[0m     \u001b[0;32mdef\u001b[0m \u001b[0m__init__\u001b[0m\u001b[0;34m(\u001b[0m\u001b[0mself\u001b[0m\u001b[0;34m,\u001b[0m\u001b[0muser\u001b[0m\u001b[0;34m=\u001b[0m\u001b[0;32mNone\u001b[0m\u001b[0;34m)\u001b[0m\u001b[0;34m:\u001b[0m\u001b[0;34m\u001b[0m\u001b[0m\n\u001b[1;32m      3\u001b[0m        \u001b[0;32mimport\u001b[0m \u001b[0mwin32api\u001b[0m\u001b[0;34m,\u001b[0m\u001b[0msspi\u001b[0m\u001b[0;34m\u001b[0m\u001b[0m\n\u001b[1;32m      4\u001b[0m        \u001b[0;32mif\u001b[0m \u001b[0;32mnot\u001b[0m \u001b[0muser\u001b[0m\u001b[0;34m:\u001b[0m\u001b[0;34m\u001b[0m\u001b[0m\n\u001b[1;32m      5\u001b[0m            \u001b[0muser\u001b[0m \u001b[0;34m=\u001b[0m \u001b[0mwin32api\u001b[0m\u001b[0;34m.\u001b[0m\u001b[0mGetUserName\u001b[0m\u001b[0;34m(\u001b[0m\u001b[0;34m)\u001b[0m\u001b[0;34m\u001b[0m\u001b[0m\n",
      "\u001b[0;31mNameError\u001b[0m: name 'AuthBase' is not defined"
     ]
    }
   ],
   "source": [
    "class SSPIAuth(AuthBase):\n",
    "    def __init__(self,user=None):\n",
    "       import win32api,sspi\n",
    "       if not user:\n",
    "           user = win32api.GetUserName()\n",
    "       self.sspi_client = sspi.ClientAuth(\"NTLM\",user)\n",
    "       self.adapter = HTTPAdapter()\n",
    "\n",
    "\n",
    "    def create_auth_req(self):\n",
    "       import pywintypes\n",
    "\n",
    "       output_buffer = None\n",
    "       error_msg = None\n",
    "       try:\n",
    "           error_msg, output_buffer = self.sspi_client.authorize(None)\n",
    "       except pywintypes.error:\n",
    "            return None\n",
    "       auth_req = output_buffer[0].Buffer\n",
    "       auth_req = base64.b64encode(auth_req)\n",
    "       return auth_req\n",
    "\n",
    "\n",
    "    def create_challenge_response(self,challenge):\n",
    "      import pywintypes\n",
    "      output_buffer = None\n",
    "      input_buffer = challenge\n",
    "      error_msg = None\n",
    "      try:\n",
    "          error_msg, output_buffer = self.sspi_client.authorize(input_buffer)\n",
    "      except pywintypes.error:\n",
    "          return None\n",
    "      response_msg = output_buffer[0].Buffer\n",
    "      response_msg = base64.b64encode(response_msg)\n",
    "      return response_msg\n",
    "\n",
    "\n",
    "    def retry_using_SSPI_auth(self, auth_header_field, auth_header,\n",
    "                                   response, args):\n",
    "        \"\"\"Attempts to authenticate using HTTP NTLM challenge/response\"\"\"\n",
    "\n",
    "        if auth_header in response.request.headers:\n",
    "            return response\n",
    "\n",
    "        request = copy_request(response.request)\n",
    "\n",
    "\n",
    "        # initial auth header with username. will result in challenge\n",
    "        #auth = 'NTLM %s' % ntlm.create_NTLM_NEGOTIATE_MESSAGE(\"%s\\\\%s\" % (self.domain,self.username))\n",
    "        auth = 'NTLM %s' % self.create_auth_req()\n",
    "        request.headers[auth_header] = auth\n",
    "\n",
    "        # we must keep the connection because NTLM authenticates the connection, not single requests\n",
    "        request.headers[\"Connection\"] = \"Keep-Alive\"\n",
    "\n",
    "        # A streaming response breaks authentication.\n",
    "        # This can be fixed by not streaming this request, which is safe because\n",
    "        # the returned response3 will still have stream=True set if specified in\n",
    "        # args. In addition, we expect this request to give us a challenge\n",
    "        # and not the real content, so the content will be short anyway.\n",
    "        args_nostream = dict(args, stream=False)\n",
    "        response2 = self.adapter.send(request, **args_nostream)\n",
    "\n",
    "        # needed to make NTLM auth compatible with requests-2.3.0\n",
    "        response2.content\n",
    "\n",
    "        # this is important for some web applications that store authentication-related info in cookies (it took a long time to figure out)\n",
    "        if response2.headers.get('set-cookie'):\n",
    "            request.headers['Cookie'] = response2.headers.get('set-cookie')\n",
    "\n",
    "        # get the challenge\n",
    "        auth_header_value = response2.headers[auth_header_field]\n",
    "        ntlm_header_value = list(filter(lambda s: s.startswith('NTLM '), auth_header_value.split(',')))[0].strip()\n",
    "        auth = self.create_challenge_response(base64.b64decode(ntlm_header_value.split(' ')[1]))\n",
    "\n",
    "        # build response\n",
    "        request = copy_request(request)\n",
    "\n",
    "        auth = 'NTLM %s' % auth\n",
    "        request.headers[auth_header] = auth\n",
    "\n",
    "        response3 = self.adapter.send(request, **args)\n",
    "\n",
    "        # Update the history.\n",
    "        response3.history.append(response)\n",
    "        response3.history.append(response2)\n",
    "\n",
    "        return response3\n",
    "\n",
    "    def response_hook(self, r, **kwargs):\n",
    "\n",
    "        if r.status_code == 401 and 'ntlm' in r.headers.get('www-authenticate','').lower():\n",
    "            return self.retry_using_SSPI_auth('www-authenticate', 'Authorization', r, kwargs)\n",
    "\n",
    "\n",
    "        if r.status_code == 407 and 'ntlm' in r.headers.get('proxy-authenticate','').lower():\n",
    "            return self.retry_using_SSPI_auth('proxy-authenticate',\n",
    "                                                   'Proxy-authorization', r,\n",
    "                                                   kwargs)\n",
    "\n",
    "        return r\n",
    "\n",
    "    def __call__(self, r):\n",
    "        r.register_hook('response', self.response_hook)\n",
    "        return r"
   ]
  },
  {
   "cell_type": "code",
   "execution_count": null,
   "metadata": {
    "collapsed": true
   },
   "outputs": [],
   "source": []
  }
 ],
 "metadata": {
  "kernelspec": {
   "display_name": "Python 3",
   "language": "python",
   "name": "python3"
  },
  "language_info": {
   "codemirror_mode": {
    "name": "ipython",
    "version": 3
   },
   "file_extension": ".py",
   "mimetype": "text/x-python",
   "name": "python",
   "nbconvert_exporter": "python",
   "pygments_lexer": "ipython3",
   "version": "3.4.5"
  }
 },
 "nbformat": 4,
 "nbformat_minor": 0
}
