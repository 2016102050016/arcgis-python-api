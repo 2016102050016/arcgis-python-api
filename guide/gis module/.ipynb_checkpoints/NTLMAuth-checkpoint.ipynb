{
 "cells": [
  {
   "cell_type": "code",
   "execution_count": 1,
   "metadata": {
    "collapsed": true
   },
   "outputs": [],
   "source": [
    "from arcgis import GIS"
   ]
  },
  {
   "cell_type": "code",
   "execution_count": 3,
   "metadata": {
    "collapsed": false
   },
   "outputs": [],
   "source": [
    "import urllib\n",
    "from ntlm3 import HTTPNtlmAuthHandler\n",
    "import ssl\n",
    "ssl._create_default_https_context = ssl._create_unverified_context\n",
    "user = 'avworld\\\\rohi3999'\n",
    "password = 'H15nd@C1t1114'\n",
    "url = \"https://dev002783.esri.com/portal/sharing/rest/?f=json\"\n",
    "\n",
    "# determine a base_uri for which the username and password can be used\n",
    "parsed_url = urllib.parse.urlparse(url)\n",
    "base_uri = urllib.parse.urlunparse((parsed_url[0],parsed_url[1],\"\",\"\",\"\",\"\"))\n",
    "\n",
    "passman = urllib.request.HTTPPasswordMgrWithDefaultRealm()\n",
    "passman.add_password(None, base_uri, user, password)"
   ]
  },
  {
   "cell_type": "code",
   "execution_count": 43,
   "metadata": {
    "collapsed": false
   },
   "outputs": [],
   "source": [
    "class NtlmAuthHandler(urllib.request.BaseHandler):\n",
    "    \n",
    "    def __init__(self, passwd=None):\n",
    "        if passwd is None:\n",
    "            passwd = HTTPPasswordMgr()\n",
    "        self.passwd = passwd\n",
    "        self.add_password = self.passwd.add_password\n",
    "        \n",
    "    def http_error_401(self, req, fp, code, msg, headers):\n",
    "        print('***NtlmAuthHandler.http_error_401')\n",
    "        url = req.full_url\n",
    "        response = self.http_error_ntlm_auth_reqed(url, req, headers)\n",
    "        return response\n",
    "    \n",
    "    def http_error_ntlm_auth_reqed(self, host, req, headers):\n",
    "        # host may be an authority (without userinfo) or a URL with an\n",
    "        # authority\n",
    "        # XXX could be multiple headers\n",
    "        print('***NtlmAuthHandler.http_error_ntlm_auth_reqed')\n",
    "        print(str(headers))\n",
    "        ntlmsig = 'WWW-Authenticate: NTLM'\n",
    "        if ntlmsig in str(headers):\n",
    "            print('*** NTLM AUTH')\n",
    "            return self.retry_http_ntlm_auth(host, req)\n",
    "\n",
    "    def retry_http_ntlm_auth(self, host, req):\n",
    "        print('***NtlmAuthHandler.retry_http_ntlm_auth')\n",
    "        user, pw = self.passwd.find_user_password(None, host)\n",
    "        print('***u='+user)\n",
    "        print('***pw='+pw)\n",
    "        print('***sel='+req.selector)\n",
    "        print('***req='+str(req))\n",
    "        \n",
    "        \n",
    "        \n",
    "        host = req.host\n",
    "        if not host:\n",
    "            raise URLError('no host given')\n",
    "\n",
    "        #h = httplib.HTTPSConnection(host)\n",
    "        \n",
    "        \n",
    "        req.add_unredirected_header(\"Connection\", \"Keep-Alive\")\n",
    "        req.add_unredirected_header(\"Authorization\",  \"NTLM TlRMTVNTUAABAAAAB7IIogcABwA0AAAADAAMACgAAAAFASgKAAAAD1JPSElUU1VSRkFDRUFWV09STEQ=\")\n",
    "\n",
    "        resp =  self.parent.open(req, timeout=req.timeout)\n",
    "        \n",
    "        print(resp.text)\n",
    "        \"\"\"\n",
    "        headers = dict(req.unredirected_hdrs)\n",
    "        headers.update(dict((k, v) for k, v in req.headers.items()\n",
    "                            if k not in headers))\n",
    "        \n",
    "        \n",
    "        headers[\"Connection\"] = \"Keep-Alive\"\n",
    "        headers[\"Authorization\"] = \"NTLM TlRMTVNTUAABAAAAB7IIogcABwA0AAAADAAMACgAAAAFASgKAAAAD1JPSElUU1VSRkFDRUFWV09STEQ=\n",
    "        \n",
    "        \n",
    "        \n",
    "        headers = dict((name.title(), val) for name, val in headers.items())\n",
    "\n",
    "        try:\n",
    "            h.request(req.get_method(), req.selector, req.data, headers)\n",
    "        except OSError as err: # timeout error\n",
    "            raise URLError(err)\n",
    "\n",
    "        r = h.getresponse()\n",
    "        \n",
    "        \n",
    "        \n",
    "        if pw is not None:\n",
    "            raw = \"%s:%s\" % (user, pw)\n",
    "            auth = \"Basic \" + base64.b64encode(raw.encode()).decode(\"ascii\")\n",
    "            if req.get_header(self.auth_header, None) == auth:\n",
    "                return None\n",
    "            req.add_unredirected_header(self.auth_header, auth)\n",
    "            return self.parent.open(req, timeout=req.timeout)\n",
    "        else:\n",
    "            return None\n",
    "        \"\"\"\n"
   ]
  },
  {
   "cell_type": "code",
   "execution_count": 44,
   "metadata": {
    "collapsed": true
   },
   "outputs": [],
   "source": [
    "# create the NTLM authentication handler\n",
    "auth_NTLM = NtlmAuthHandler(passman) #HTTPNtlmAuthHandler.HTTPNtlmAuthHandler(passman)"
   ]
  },
  {
   "cell_type": "code",
   "execution_count": 45,
   "metadata": {
    "collapsed": false
   },
   "outputs": [
    {
     "name": "stdout",
     "output_type": "stream",
     "text": [
      "***NtlmAuthHandler.http_error_401\n",
      "***NtlmAuthHandler.http_error_ntlm_auth_reqed\n",
      "Content-Type: text/html\n",
      "Server: Microsoft-IIS/8.5\n",
      "WWW-Authenticate: Negotiate\n",
      "WWW-Authenticate: NTLM\n",
      "X-Powered-By: ASP.NET\n",
      "Date: Sun, 09 Oct 2016 05:50:16 GMT\n",
      "Connection: close\n",
      "Content-Length: 1293\n",
      "\n",
      "\n",
      "*** NTLM AUTH\n",
      "***NtlmAuthHandler.retry_http_ntlm_auth\n",
      "***u=avworld\\rohi3999\n",
      "***pw=H15nd@C1t1114\n",
      "***sel=/portal/sharing/rest/?f=json\n",
      "***req=<urllib.request.Request object at 0x00000000007AB358>\n"
     ]
    },
    {
     "ename": "NameError",
     "evalue": "name 'http_class' is not defined",
     "output_type": "error",
     "traceback": [
      "\u001b[0;31m---------------------------------------------------------------------------\u001b[0m",
      "\u001b[0;31mNameError\u001b[0m                                 Traceback (most recent call last)",
      "\u001b[0;32m<ipython-input-45-74eec8dc6e88>\u001b[0m in \u001b[0;36m<module>\u001b[0;34m()\u001b[0m\n\u001b[1;32m     19\u001b[0m \u001b[0;34m\u001b[0m\u001b[0m\n\u001b[1;32m     20\u001b[0m \u001b[0;31m# retrieve the result\u001b[0m\u001b[0;34m\u001b[0m\u001b[0;34m\u001b[0m\u001b[0m\n\u001b[0;32m---> 21\u001b[0;31m \u001b[0mresponse\u001b[0m \u001b[0;34m=\u001b[0m \u001b[0murllib\u001b[0m\u001b[0;34m.\u001b[0m\u001b[0mrequest\u001b[0m\u001b[0;34m.\u001b[0m\u001b[0murlopen\u001b[0m\u001b[0;34m(\u001b[0m\u001b[0murl\u001b[0m\u001b[0;34m)\u001b[0m\u001b[0;34m\u001b[0m\u001b[0m\n\u001b[0m\u001b[1;32m     22\u001b[0m \u001b[0mprint\u001b[0m\u001b[0;34m(\u001b[0m\u001b[0;34m(\u001b[0m\u001b[0mresponse\u001b[0m\u001b[0;34m.\u001b[0m\u001b[0mread\u001b[0m\u001b[0;34m(\u001b[0m\u001b[0;34m)\u001b[0m\u001b[0;34m)\u001b[0m\u001b[0;34m)\u001b[0m\u001b[0;34m\u001b[0m\u001b[0m\n",
      "\u001b[0;32mC:\\Users\\rohit\\Anaconda3\\envs\\geo\\lib\\urllib\\request.py\u001b[0m in \u001b[0;36murlopen\u001b[0;34m(url, data, timeout, cafile, capath, cadefault, context)\u001b[0m\n\u001b[1;32m    159\u001b[0m     \u001b[0;32melse\u001b[0m\u001b[0;34m:\u001b[0m\u001b[0;34m\u001b[0m\u001b[0m\n\u001b[1;32m    160\u001b[0m         \u001b[0mopener\u001b[0m \u001b[0;34m=\u001b[0m \u001b[0m_opener\u001b[0m\u001b[0;34m\u001b[0m\u001b[0m\n\u001b[0;32m--> 161\u001b[0;31m     \u001b[0;32mreturn\u001b[0m \u001b[0mopener\u001b[0m\u001b[0;34m.\u001b[0m\u001b[0mopen\u001b[0m\u001b[0;34m(\u001b[0m\u001b[0murl\u001b[0m\u001b[0;34m,\u001b[0m \u001b[0mdata\u001b[0m\u001b[0;34m,\u001b[0m \u001b[0mtimeout\u001b[0m\u001b[0;34m)\u001b[0m\u001b[0;34m\u001b[0m\u001b[0m\n\u001b[0m\u001b[1;32m    162\u001b[0m \u001b[0;34m\u001b[0m\u001b[0m\n\u001b[1;32m    163\u001b[0m \u001b[0;32mdef\u001b[0m \u001b[0minstall_opener\u001b[0m\u001b[0;34m(\u001b[0m\u001b[0mopener\u001b[0m\u001b[0;34m)\u001b[0m\u001b[0;34m:\u001b[0m\u001b[0;34m\u001b[0m\u001b[0m\n",
      "\u001b[0;32mC:\\Users\\rohit\\Anaconda3\\envs\\geo\\lib\\urllib\\request.py\u001b[0m in \u001b[0;36mopen\u001b[0;34m(self, fullurl, data, timeout)\u001b[0m\n\u001b[1;32m    468\u001b[0m         \u001b[0;32mfor\u001b[0m \u001b[0mprocessor\u001b[0m \u001b[0;32min\u001b[0m \u001b[0mself\u001b[0m\u001b[0;34m.\u001b[0m\u001b[0mprocess_response\u001b[0m\u001b[0;34m.\u001b[0m\u001b[0mget\u001b[0m\u001b[0;34m(\u001b[0m\u001b[0mprotocol\u001b[0m\u001b[0;34m,\u001b[0m \u001b[0;34m[\u001b[0m\u001b[0;34m]\u001b[0m\u001b[0;34m)\u001b[0m\u001b[0;34m:\u001b[0m\u001b[0;34m\u001b[0m\u001b[0m\n\u001b[1;32m    469\u001b[0m             \u001b[0mmeth\u001b[0m \u001b[0;34m=\u001b[0m \u001b[0mgetattr\u001b[0m\u001b[0;34m(\u001b[0m\u001b[0mprocessor\u001b[0m\u001b[0;34m,\u001b[0m \u001b[0mmeth_name\u001b[0m\u001b[0;34m)\u001b[0m\u001b[0;34m\u001b[0m\u001b[0m\n\u001b[0;32m--> 470\u001b[0;31m             \u001b[0mresponse\u001b[0m \u001b[0;34m=\u001b[0m \u001b[0mmeth\u001b[0m\u001b[0;34m(\u001b[0m\u001b[0mreq\u001b[0m\u001b[0;34m,\u001b[0m \u001b[0mresponse\u001b[0m\u001b[0;34m)\u001b[0m\u001b[0;34m\u001b[0m\u001b[0m\n\u001b[0m\u001b[1;32m    471\u001b[0m \u001b[0;34m\u001b[0m\u001b[0m\n\u001b[1;32m    472\u001b[0m         \u001b[0;32mreturn\u001b[0m \u001b[0mresponse\u001b[0m\u001b[0;34m\u001b[0m\u001b[0m\n",
      "\u001b[0;32mC:\\Users\\rohit\\Anaconda3\\envs\\geo\\lib\\urllib\\request.py\u001b[0m in \u001b[0;36mhttp_response\u001b[0;34m(self, request, response)\u001b[0m\n\u001b[1;32m    578\u001b[0m         \u001b[0;32mif\u001b[0m \u001b[0;32mnot\u001b[0m \u001b[0;34m(\u001b[0m\u001b[0;36m200\u001b[0m \u001b[0;34m<=\u001b[0m \u001b[0mcode\u001b[0m \u001b[0;34m<\u001b[0m \u001b[0;36m300\u001b[0m\u001b[0;34m)\u001b[0m\u001b[0;34m:\u001b[0m\u001b[0;34m\u001b[0m\u001b[0m\n\u001b[1;32m    579\u001b[0m             response = self.parent.error(\n\u001b[0;32m--> 580\u001b[0;31m                 'http', request, response, code, msg, hdrs)\n\u001b[0m\u001b[1;32m    581\u001b[0m \u001b[0;34m\u001b[0m\u001b[0m\n\u001b[1;32m    582\u001b[0m         \u001b[0;32mreturn\u001b[0m \u001b[0mresponse\u001b[0m\u001b[0;34m\u001b[0m\u001b[0m\n",
      "\u001b[0;32mC:\\Users\\rohit\\Anaconda3\\envs\\geo\\lib\\urllib\\request.py\u001b[0m in \u001b[0;36merror\u001b[0;34m(self, proto, *args)\u001b[0m\n\u001b[1;32m    500\u001b[0m             \u001b[0mhttp_err\u001b[0m \u001b[0;34m=\u001b[0m \u001b[0;36m0\u001b[0m\u001b[0;34m\u001b[0m\u001b[0m\n\u001b[1;32m    501\u001b[0m         \u001b[0margs\u001b[0m \u001b[0;34m=\u001b[0m \u001b[0;34m(\u001b[0m\u001b[0mdict\u001b[0m\u001b[0;34m,\u001b[0m \u001b[0mproto\u001b[0m\u001b[0;34m,\u001b[0m \u001b[0mmeth_name\u001b[0m\u001b[0;34m)\u001b[0m \u001b[0;34m+\u001b[0m \u001b[0margs\u001b[0m\u001b[0;34m\u001b[0m\u001b[0m\n\u001b[0;32m--> 502\u001b[0;31m         \u001b[0mresult\u001b[0m \u001b[0;34m=\u001b[0m \u001b[0mself\u001b[0m\u001b[0;34m.\u001b[0m\u001b[0m_call_chain\u001b[0m\u001b[0;34m(\u001b[0m\u001b[0;34m*\u001b[0m\u001b[0margs\u001b[0m\u001b[0;34m)\u001b[0m\u001b[0;34m\u001b[0m\u001b[0m\n\u001b[0m\u001b[1;32m    503\u001b[0m         \u001b[0;32mif\u001b[0m \u001b[0mresult\u001b[0m\u001b[0;34m:\u001b[0m\u001b[0;34m\u001b[0m\u001b[0m\n\u001b[1;32m    504\u001b[0m             \u001b[0;32mreturn\u001b[0m \u001b[0mresult\u001b[0m\u001b[0;34m\u001b[0m\u001b[0m\n",
      "\u001b[0;32mC:\\Users\\rohit\\Anaconda3\\envs\\geo\\lib\\urllib\\request.py\u001b[0m in \u001b[0;36m_call_chain\u001b[0;34m(self, chain, kind, meth_name, *args)\u001b[0m\n\u001b[1;32m    440\u001b[0m         \u001b[0;32mfor\u001b[0m \u001b[0mhandler\u001b[0m \u001b[0;32min\u001b[0m \u001b[0mhandlers\u001b[0m\u001b[0;34m:\u001b[0m\u001b[0;34m\u001b[0m\u001b[0m\n\u001b[1;32m    441\u001b[0m             \u001b[0mfunc\u001b[0m \u001b[0;34m=\u001b[0m \u001b[0mgetattr\u001b[0m\u001b[0;34m(\u001b[0m\u001b[0mhandler\u001b[0m\u001b[0;34m,\u001b[0m \u001b[0mmeth_name\u001b[0m\u001b[0;34m)\u001b[0m\u001b[0;34m\u001b[0m\u001b[0m\n\u001b[0;32m--> 442\u001b[0;31m             \u001b[0mresult\u001b[0m \u001b[0;34m=\u001b[0m \u001b[0mfunc\u001b[0m\u001b[0;34m(\u001b[0m\u001b[0;34m*\u001b[0m\u001b[0margs\u001b[0m\u001b[0;34m)\u001b[0m\u001b[0;34m\u001b[0m\u001b[0m\n\u001b[0m\u001b[1;32m    443\u001b[0m             \u001b[0;32mif\u001b[0m \u001b[0mresult\u001b[0m \u001b[0;32mis\u001b[0m \u001b[0;32mnot\u001b[0m \u001b[0;32mNone\u001b[0m\u001b[0;34m:\u001b[0m\u001b[0;34m\u001b[0m\u001b[0m\n\u001b[1;32m    444\u001b[0m                 \u001b[0;32mreturn\u001b[0m \u001b[0mresult\u001b[0m\u001b[0;34m\u001b[0m\u001b[0m\n",
      "\u001b[0;32m<ipython-input-43-3ccd82959d51>\u001b[0m in \u001b[0;36mhttp_error_401\u001b[0;34m(self, req, fp, code, msg, headers)\u001b[0m\n\u001b[1;32m     10\u001b[0m         \u001b[0mprint\u001b[0m\u001b[0;34m(\u001b[0m\u001b[0;34m'***NtlmAuthHandler.http_error_401'\u001b[0m\u001b[0;34m)\u001b[0m\u001b[0;34m\u001b[0m\u001b[0m\n\u001b[1;32m     11\u001b[0m         \u001b[0murl\u001b[0m \u001b[0;34m=\u001b[0m \u001b[0mreq\u001b[0m\u001b[0;34m.\u001b[0m\u001b[0mfull_url\u001b[0m\u001b[0;34m\u001b[0m\u001b[0m\n\u001b[0;32m---> 12\u001b[0;31m         \u001b[0mresponse\u001b[0m \u001b[0;34m=\u001b[0m \u001b[0mself\u001b[0m\u001b[0;34m.\u001b[0m\u001b[0mhttp_error_ntlm_auth_reqed\u001b[0m\u001b[0;34m(\u001b[0m\u001b[0murl\u001b[0m\u001b[0;34m,\u001b[0m \u001b[0mreq\u001b[0m\u001b[0;34m,\u001b[0m \u001b[0mheaders\u001b[0m\u001b[0;34m)\u001b[0m\u001b[0;34m\u001b[0m\u001b[0m\n\u001b[0m\u001b[1;32m     13\u001b[0m         \u001b[0;32mreturn\u001b[0m \u001b[0mresponse\u001b[0m\u001b[0;34m\u001b[0m\u001b[0m\n\u001b[1;32m     14\u001b[0m \u001b[0;34m\u001b[0m\u001b[0m\n",
      "\u001b[0;32m<ipython-input-43-3ccd82959d51>\u001b[0m in \u001b[0;36mhttp_error_ntlm_auth_reqed\u001b[0;34m(self, host, req, headers)\u001b[0m\n\u001b[1;32m     22\u001b[0m         \u001b[0;32mif\u001b[0m \u001b[0mntlmsig\u001b[0m \u001b[0;32min\u001b[0m \u001b[0mstr\u001b[0m\u001b[0;34m(\u001b[0m\u001b[0mheaders\u001b[0m\u001b[0;34m)\u001b[0m\u001b[0;34m:\u001b[0m\u001b[0;34m\u001b[0m\u001b[0m\n\u001b[1;32m     23\u001b[0m             \u001b[0mprint\u001b[0m\u001b[0;34m(\u001b[0m\u001b[0;34m'*** NTLM AUTH'\u001b[0m\u001b[0;34m)\u001b[0m\u001b[0;34m\u001b[0m\u001b[0m\n\u001b[0;32m---> 24\u001b[0;31m             \u001b[0;32mreturn\u001b[0m \u001b[0mself\u001b[0m\u001b[0;34m.\u001b[0m\u001b[0mretry_http_ntlm_auth\u001b[0m\u001b[0;34m(\u001b[0m\u001b[0mhost\u001b[0m\u001b[0;34m,\u001b[0m \u001b[0mreq\u001b[0m\u001b[0;34m)\u001b[0m\u001b[0;34m\u001b[0m\u001b[0m\n\u001b[0m\u001b[1;32m     25\u001b[0m \u001b[0;34m\u001b[0m\u001b[0m\n\u001b[1;32m     26\u001b[0m     \u001b[0;32mdef\u001b[0m \u001b[0mretry_http_ntlm_auth\u001b[0m\u001b[0;34m(\u001b[0m\u001b[0mself\u001b[0m\u001b[0;34m,\u001b[0m \u001b[0mhost\u001b[0m\u001b[0;34m,\u001b[0m \u001b[0mreq\u001b[0m\u001b[0;34m)\u001b[0m\u001b[0;34m:\u001b[0m\u001b[0;34m\u001b[0m\u001b[0m\n",
      "\u001b[0;32m<ipython-input-43-3ccd82959d51>\u001b[0m in \u001b[0;36mretry_http_ntlm_auth\u001b[0;34m(self, host, req)\u001b[0m\n\u001b[1;32m     39\u001b[0m \u001b[0;34m\u001b[0m\u001b[0m\n\u001b[1;32m     40\u001b[0m         \u001b[0;31m# will parse host:port\u001b[0m\u001b[0;34m\u001b[0m\u001b[0;34m\u001b[0m\u001b[0m\n\u001b[0;32m---> 41\u001b[0;31m         \u001b[0mh\u001b[0m \u001b[0;34m=\u001b[0m \u001b[0mhttp_class\u001b[0m\u001b[0;34m(\u001b[0m\u001b[0mhost\u001b[0m\u001b[0;34m,\u001b[0m \u001b[0mtimeout\u001b[0m\u001b[0;34m=\u001b[0m\u001b[0mreq\u001b[0m\u001b[0;34m.\u001b[0m\u001b[0mtimeout\u001b[0m\u001b[0;34m,\u001b[0m \u001b[0;34m**\u001b[0m\u001b[0mhttp_conn_args\u001b[0m\u001b[0;34m)\u001b[0m\u001b[0;34m\u001b[0m\u001b[0m\n\u001b[0m\u001b[1;32m     42\u001b[0m \u001b[0;34m\u001b[0m\u001b[0m\n\u001b[1;32m     43\u001b[0m         \u001b[0mheaders\u001b[0m \u001b[0;34m=\u001b[0m \u001b[0mdict\u001b[0m\u001b[0;34m(\u001b[0m\u001b[0mreq\u001b[0m\u001b[0;34m.\u001b[0m\u001b[0munredirected_hdrs\u001b[0m\u001b[0;34m)\u001b[0m\u001b[0;34m\u001b[0m\u001b[0m\n",
      "\u001b[0;31mNameError\u001b[0m: name 'http_class' is not defined"
     ]
    }
   ],
   "source": [
    "# other authentication handlers\n",
    "auth_basic = urllib.request.HTTPBasicAuthHandler(passman)\n",
    "auth_digest = urllib.request.HTTPDigestAuthHandler(passman)\n",
    "\n",
    "# disable proxies (if you want to stay within the corporate network)\n",
    "proxy_handler = urllib.request.ProxyHandler({})\n",
    "\n",
    "# create and install the opener\n",
    "##    # Using auth_digest results in:\n",
    "##    #   ValueError: AbstractDigestAuthHandler does not support the following scheme: 'NTLM'\n",
    "##    # See http://bugs.python.org/issue21413\n",
    "urllib.request.install_opener(\n",
    "    urllib.request.build_opener(\n",
    "        proxy_handler,\n",
    "        auth_NTLM,\n",
    "#            auth_digest,\n",
    "        auth_basic,\n",
    "        ))\n",
    "\n",
    "# retrieve the result    \n",
    "response = urllib.request.urlopen(url)\n",
    "print((response.read()))"
   ]
  },
  {
   "cell_type": "code",
   "execution_count": null,
   "metadata": {
    "collapsed": true
   },
   "outputs": [],
   "source": []
  }
 ],
 "metadata": {
  "kernelspec": {
   "display_name": "Python 3",
   "language": "python",
   "name": "python3"
  },
  "language_info": {
   "codemirror_mode": {
    "name": "ipython",
    "version": 3
   },
   "file_extension": ".py",
   "mimetype": "text/x-python",
   "name": "python",
   "nbconvert_exporter": "python",
   "pygments_lexer": "ipython3",
   "version": "3.4.5"
  }
 },
 "nbformat": 4,
 "nbformat_minor": 0
}
