{
 "cells": [
  {
   "cell_type": "code",
   "execution_count": 1,
   "metadata": {
    "collapsed": true
   },
   "outputs": [],
   "source": [
    "from arcgis import GIS"
   ]
  },
  {
   "cell_type": "code",
   "execution_count": 2,
   "metadata": {
    "collapsed": false
   },
   "outputs": [],
   "source": [
    "gis = GIS()"
   ]
  },
  {
   "cell_type": "code",
   "execution_count": 1,
   "metadata": {
    "collapsed": true
   },
   "outputs": [],
   "source": [
    "from arcgis.geoprocessing import Toolbox"
   ]
  },
  {
   "cell_type": "markdown",
   "metadata": {},
   "source": [
    "# Creating toolboxes to discover and use tools"
   ]
  },
  {
   "cell_type": "code",
   "execution_count": 4,
   "metadata": {
    "collapsed": false
   },
   "outputs": [],
   "source": [
    "tbx = Toolbox('http://gis.ices.dk/gis/rest/services/Tools/ExtractZionData/GPServer', gis)"
   ]
  },
  {
   "cell_type": "markdown",
   "metadata": {},
   "source": [
    "# Dynamic methods with type hints and documentation"
   ]
  },
  {
   "cell_type": "code",
   "execution_count": 5,
   "metadata": {
    "collapsed": false
   },
   "outputs": [
    {
     "name": "stdout",
     "output_type": "stream",
     "text": [
      "Help on method extract_zion_data:\n",
      "\n",
      "extract_zion_data(layers_to_clip:list=['Research_areas', 'Roads', 'Springs', 'Zion park boundary'], area_of_interest:arcgis.features.feature.FeatureSet={'fields': [{'name': 'FID', 'type': 'esriFieldTypeOID', 'alias': 'FID'}, {'name': 'Id', 'type': 'esriFieldTypeInteger', 'alias': 'Id'}, {'name': 'Shape_Length', 'type': 'esriFieldTypeDouble', 'alias': 'Shape_Length'}, {'name': 'Shape_Area', 'type': 'esriFieldTypeDouble', 'alias': 'Shape_Area'}], 'spatialReference': {'wkid': None}, 'geometryType': 'esriGeometryPolygon', 'exceededTransferLimit': False, 'features': [], 'displayFieldName': ''}, feature_format:str='File Geodatabase - GDB - .gdb', raster_format:str='ESRI GRID - GRID') -> arcgis.geoprocessing.tool.DataFile method of arcgis.geoprocessing.tool.Toolbox instance\n",
      "    Parameters:\n",
      "    \n",
      "    \n",
      "       layers_to_clip: Layers to Clip (list). The Layers to be clipped. Layers should be either raster layers or feature layers.\n",
      "          Choice list:['Research_areas', 'Tracts', 'Roads', 'Trails', 'Springs', 'Streams', 'Zion park boundary', 'Hillshade']\n",
      "    \n",
      "       area_of_interest: Area of Interest (FeatureSet). The area by which the layers will be clipped.\n",
      "    \n",
      "       feature_format: Feature Format (str). The format in which the output features will be delivered.\n",
      "          Choice list:['File Geodatabase - GDB - .gdb', 'Shapefile - SHP - .shp', 'Geographic Markup Language - GML - .gml', 'OpenGIS KML Encoding Standard - OGCKML - .kmz', 'Autodesk AutoCAD - DXF_R2007 - .dxf', 'Autodesk AutoCAD - DWG_R2007 - .dwg', 'Bentley Microstation Design (V8) - DGN_V8 - .dgn', 'Adobe 3D PDF - PDF - .pdf', 'Autodesk AutoCad DWF - DWF - .dwf', 'Scalable Vector and Graphics (SVG) - SVG - .svg', 'Scalable Vector and Graphics (SVG) - SVG - .svgz']\n",
      "    \n",
      "       raster_format: Raster Format (str). The format in which the output rasters will be delivered.\n",
      "          Choice list:['ESRI GRID - GRID', 'File Geodatabase - GDB - .gdb', 'ERDAS IMAGINE - IMG - .img', 'Tagged Image File Format - TIFF - .tif', 'Graphic Interchange Format - GIF - .gif', 'Joint Photographics Experts Group - JPEG - .jpg', 'Joint Photographics Experts Group - JPEG 2000 - .jp2', 'Bitmap - BMP - .bmp', 'Portable Network Graphics - PNG - .png']\n",
      "    \n",
      "    Returns: Output Zip File (DataFile)\n",
      "    \n",
      "    See http://gis.ices.dk/gis/rest/directories/arcgisoutput/Tools/ExtractZionData_GPServer/Tools_ExtractZionData/ExtractZionData.htm for additional help.\n",
      "\n"
     ]
    }
   ],
   "source": [
    "help(tbx.extract_zion_data)"
   ]
  },
  {
   "cell_type": "code",
   "execution_count": 6,
   "metadata": {
    "collapsed": false
   },
   "outputs": [
    {
     "data": {
      "text/plain": [
       "{\n",
       "  \"executionType\": \"esriExecutionTypeAsynchronous\",\n",
       "  \"maximumRecords\": 1000,\n",
       "  \"currentVersion\": 10.31,\n",
       "  \"serviceDescription\": \"&lt;P&gt; Extracts the specified Layers in the specified Area of Interest to the selected Formats and returns all the data in a zip file. &lt;/P&gt;&lt;P&gt;This tool is intended primarily for use as a part of a ... (see Description)\",\n",
       "  \"tasks\": [\n",
       "    \"ExtractZionData\"\n",
       "  ],\n",
       "  \"resultMapServerName\": \"\"\n",
       "}"
      ]
     },
     "execution_count": 6,
     "metadata": {},
     "output_type": "execute_result"
    }
   ],
   "source": [
    "tbx.properties"
   ]
  },
  {
   "cell_type": "code",
   "execution_count": 7,
   "metadata": {
    "collapsed": false
   },
   "outputs": [],
   "source": [
    "res = tbx.extract_zion_data()"
   ]
  },
  {
   "cell_type": "code",
   "execution_count": 8,
   "metadata": {
    "collapsed": false
   },
   "outputs": [
    {
     "data": {
      "text/plain": [
       "{\"url\": \"http://gis.ices.dk/gis/rest/directories/arcgisjobs/tools/extractziondata_gpserver/j3ae184adc2c2459eb78d32005051a7f7/scratch/output.zip\"}"
      ]
     },
     "execution_count": 8,
     "metadata": {},
     "output_type": "execute_result"
    }
   ],
   "source": [
    "res"
   ]
  },
  {
   "cell_type": "code",
   "execution_count": 9,
   "metadata": {
    "collapsed": false
   },
   "outputs": [
    {
     "data": {
      "text/plain": [
       "'C:\\\\Users\\\\rohit\\\\AppData\\\\Local\\\\Temp\\\\output.zip'"
      ]
     },
     "execution_count": 9,
     "metadata": {},
     "output_type": "execute_result"
    }
   ],
   "source": [
    "res.download()"
   ]
  },
  {
   "cell_type": "code",
   "execution_count": 10,
   "metadata": {
    "collapsed": true
   },
   "outputs": [],
   "source": [
    "from arcgis.features import FeatureSet"
   ]
  },
  {
   "cell_type": "code",
   "execution_count": 11,
   "metadata": {
    "collapsed": true
   },
   "outputs": [],
   "source": [
    "fs_dict = {'displayFieldName': '',\n",
    "           'spatialReference': {'wkid': None},\n",
    "           'exceededTransferLimit': False, \n",
    "           'fields': \n",
    "           [{'type': 'esriFieldTypeOID', 'name': 'FID', 'alias': 'FID'}, \n",
    "            {'type': 'esriFieldTypeInteger', 'name': 'Id', 'alias': 'Id'}, \n",
    "            {'type': 'esriFieldTypeDouble', 'name': 'Shape_Length', 'alias': 'Shape_Length'}, \n",
    "            {'type': 'esriFieldTypeDouble', 'name': 'Shape_Area', 'alias': 'Shape_Area'}],\n",
    "           'geometryType': 'esriGeometryPolygon', 'features': []}"
   ]
  },
  {
   "cell_type": "code",
   "execution_count": 12,
   "metadata": {
    "collapsed": false
   },
   "outputs": [],
   "source": [
    "fs = FeatureSet.from_dict(fs_dict)"
   ]
  },
  {
   "cell_type": "code",
   "execution_count": 13,
   "metadata": {
    "collapsed": false
   },
   "outputs": [
    {
     "data": {
      "text/plain": [
       "{\"fields\": [{\"name\": \"FID\", \"type\": \"esriFieldTypeOID\", \"alias\": \"FID\"}, {\"name\": \"Id\", \"type\": \"esriFieldTypeInteger\", \"alias\": \"Id\"}, {\"name\": \"Shape_Length\", \"type\": \"esriFieldTypeDouble\", \"alias\": \"Shape_Length\"}, {\"name\": \"Shape_Area\", \"type\": \"esriFieldTypeDouble\", \"alias\": \"Shape_Area\"}], \"spatialReference\": {\"wkid\": null}, \"geometryType\": \"esriGeometryPolygon\", \"features\": [], \"displayFieldName\": \"\"}"
      ]
     },
     "execution_count": 13,
     "metadata": {},
     "output_type": "execute_result"
    }
   ],
   "source": [
    "fs"
   ]
  },
  {
   "cell_type": "code",
   "execution_count": 14,
   "metadata": {
    "collapsed": false
   },
   "outputs": [
    {
     "data": {
      "text/plain": [
       "{'displayFieldName': '',\n",
       " 'features': [],\n",
       " 'fields': [{'alias': 'FID', 'name': 'FID', 'type': 'esriFieldTypeOID'},\n",
       "  {'alias': 'Id', 'name': 'Id', 'type': 'esriFieldTypeInteger'},\n",
       "  {'alias': 'Shape_Length',\n",
       "   'name': 'Shape_Length',\n",
       "   'type': 'esriFieldTypeDouble'},\n",
       "  {'alias': 'Shape_Area',\n",
       "   'name': 'Shape_Area',\n",
       "   'type': 'esriFieldTypeDouble'}],\n",
       " 'geometryType': 'esriGeometryPolygon',\n",
       " 'spatialReference': {'wkid': None}}"
      ]
     },
     "execution_count": 14,
     "metadata": {},
     "output_type": "execute_result"
    }
   ],
   "source": [
    "fs.to_dict()"
   ]
  },
  {
   "cell_type": "code",
   "execution_count": 15,
   "metadata": {
    "collapsed": false
   },
   "outputs": [],
   "source": [
    "r2 = tbx.extract_zion_data(area_of_interest=fs)"
   ]
  },
  {
   "cell_type": "code",
   "execution_count": 16,
   "metadata": {
    "collapsed": false
   },
   "outputs": [
    {
     "data": {
      "text/plain": [
       "{\"url\": \"http://gis.ices.dk/gis/rest/directories/arcgisjobs/tools/extractziondata_gpserver/j3b2c3c0ed5614656a12a10045e6d9dac/scratch/output.zip\"}"
      ]
     },
     "execution_count": 16,
     "metadata": {},
     "output_type": "execute_result"
    }
   ],
   "source": [
    "r2"
   ]
  },
  {
   "cell_type": "code",
   "execution_count": 17,
   "metadata": {
    "collapsed": false
   },
   "outputs": [],
   "source": [
    "multioutputtbx = Toolbox('https://gis-public.co.san-diego.ca.us/arcgis/rest/services/InitialResearchPacketCSV_Phase2/GPServer', gis)"
   ]
  },
  {
   "cell_type": "markdown",
   "metadata": {},
   "source": [
    "# Tools that return multiple values"
   ]
  },
  {
   "cell_type": "code",
   "execution_count": 19,
   "metadata": {
    "collapsed": false
   },
   "outputs": [
    {
     "name": "stdout",
     "output_type": "stream",
     "text": [
      "Help on method initial_research_packet_csv:\n",
      "\n",
      "initial_research_packet_csv(apn_numbers:str='5980100200', project_number:str='PDS2012-3200-21193', project_title:str='PDS') -> tuple method of arcgis.geoprocessing.tool.Toolbox instance\n",
      "    Parameters:\n",
      "    \n",
      "    \n",
      "       apn_numbers: APN Numbers (str). List of APNs seperated by comma.e.g.:1015300300e.g:102-690-07-00,1021809100,1021807700\n",
      "    \n",
      "       project_number: Project Number (str). Project number\n",
      "    \n",
      "       project_title: Project Title (str). Project Title\n",
      "    \n",
      "    Returns a named tuple with the following fields:\n",
      "       report_output_csv_file (Report Output CSV File of type: DataFile)\n",
      "       output_map_flags_file (Output Map Flags File of type: DataFile)\n",
      "       soil_output_file (Soil Output File of type: DataFile)\n",
      "       job_status (Job Status of type: str)\n",
      "    \n",
      "    See http://gis-public.co.san-diego.ca.us/arcgis/rest/directories/arcgisoutput/InitialResearchPacketCSV_Phase2_GPServer/InitialResearchPacketCSV_Phase2/InitialResearchPacket.htm for additional help.\n",
      "\n"
     ]
    }
   ],
   "source": [
    "help(multioutputtbx.initial_research_packet_csv)"
   ]
  },
  {
   "cell_type": "code",
   "execution_count": 20,
   "metadata": {
    "collapsed": false
   },
   "outputs": [],
   "source": [
    "res = multioutputtbx.initial_research_packet_csv()"
   ]
  },
  {
   "cell_type": "code",
   "execution_count": 21,
   "metadata": {
    "collapsed": false
   },
   "outputs": [
    {
     "data": {
      "text/plain": [
       "GeoprocessingResults(output_map_flags_file={\"url\": \"http://gis-public.co.san-diego.ca.us/arcgis/rest/directories/arcgisjobs/initialresearchpacketcsv_phase2_gpserver/j269ea49b3a7f4f7891723c8bbfd1c9fc/scratch/j269ea49b3a7f4f7891723c8bbfd1c9fc_mapflags.txt\"}, job_status='Successfully created csv file', soil_output_file={\"url\": \"http://gis-public.co.san-diego.ca.us/arcgis/rest/directories/arcgisjobs/initialresearchpacketcsv_phase2_gpserver/j269ea49b3a7f4f7891723c8bbfd1c9fc/scratch/j269ea49b3a7f4f7891723c8bbfd1c9fc_soil.txt\"}, report_output_csv_file={\"url\": \"http://gis-public.co.san-diego.ca.us/arcgis/rest/directories/arcgisjobs/initialresearchpacketcsv_phase2_gpserver/j269ea49b3a7f4f7891723c8bbfd1c9fc/scratch/j269ea49b3a7f4f7891723c8bbfd1c9fc_report.csv\"})"
      ]
     },
     "execution_count": 21,
     "metadata": {},
     "output_type": "execute_result"
    }
   ],
   "source": [
    "res"
   ]
  },
  {
   "cell_type": "code",
   "execution_count": 22,
   "metadata": {
    "collapsed": false
   },
   "outputs": [
    {
     "data": {
      "text/plain": [
       "'Successfully created csv file'"
      ]
     },
     "execution_count": 22,
     "metadata": {},
     "output_type": "execute_result"
    }
   ],
   "source": [
    "res.job_status"
   ]
  },
  {
   "cell_type": "code",
   "execution_count": 23,
   "metadata": {
    "collapsed": false
   },
   "outputs": [
    {
     "data": {
      "text/plain": [
       "'C:\\\\Users\\\\rohit\\\\AppData\\\\Local\\\\Temp\\\\j269ea49b3a7f4f7891723c8bbfd1c9fc_mapflags.txt'"
      ]
     },
     "execution_count": 23,
     "metadata": {},
     "output_type": "execute_result"
    }
   ],
   "source": [
    "res.output_map_flags_file.download()"
   ]
  },
  {
   "cell_type": "code",
   "execution_count": 24,
   "metadata": {
    "collapsed": false
   },
   "outputs": [],
   "source": [
    "viewshed = Toolbox('http://sampleserver1.arcgisonline.com/ArcGIS/rest/services/Elevation/ESRI_Elevation_World/GPServer')"
   ]
  },
  {
   "cell_type": "markdown",
   "metadata": {},
   "source": [
    "# Tools that use helper types"
   ]
  },
  {
   "cell_type": "code",
   "execution_count": 25,
   "metadata": {
    "collapsed": false
   },
   "outputs": [
    {
     "name": "stdout",
     "output_type": "stream",
     "text": [
      "Help on method viewshed:\n",
      "\n",
      "viewshed(input_observation_point:arcgis.features.feature.FeatureSet={'fields': [{'name': 'FID', 'type': 'esriFieldTypeOID', 'alias': 'FID'}, {'name': 'Shape', 'type': 'esriFieldTypeGeometry', 'alias': 'Shape'}, {'name': 'OffsetA', 'type': 'esriFieldTypeDouble', 'alias': 'OffsetA'}], 'spatialReference': {'wkid': 54003}, 'Fields': [{'name': 'FID', 'type': 'esriFieldTypeOID', 'alias': 'FID'}, {'name': 'Shape', 'type': 'esriFieldTypeGeometry', 'alias': 'Shape'}, {'name': 'OffsetA', 'type': 'esriFieldTypeDouble', 'alias': 'OffsetA'}], 'geometryType': 'esriGeometryPoint'}, viewshed_distance:arcgis.geoprocessing.tool.LinearUnit={'distance': 15000, 'units': 'esriMeters'}) -> arcgis.features.feature.FeatureSet method of arcgis.geoprocessing.tool.Toolbox instance\n",
      "    Parameters:\n",
      "    \n",
      "    \n",
      "       input_observation_point: Input Observation Point (FeatureSet).\n",
      "    \n",
      "       viewshed_distance: Viewshed Distance (LinearUnit).\n",
      "    \n",
      "    Returns: Viewshed Result (FeatureSet)\n",
      "    \n",
      "    See http://sampleserver1b.arcgisonline.com/arcgisoutput/Elevation_ESRI_Elevation_World/Viewshed.htm for additional help.\n",
      "\n"
     ]
    }
   ],
   "source": [
    "help(viewshed.viewshed)"
   ]
  },
  {
   "cell_type": "code",
   "execution_count": 26,
   "metadata": {
    "collapsed": true
   },
   "outputs": [],
   "source": [
    "from arcgis.geoprocessing import LinearUnit"
   ]
  },
  {
   "cell_type": "code",
   "execution_count": 27,
   "metadata": {
    "collapsed": false
   },
   "outputs": [
    {
     "name": "stdout",
     "output_type": "stream",
     "text": [
      "{\"distance\": 5, \"units\": \"esriMiles\"}\n"
     ]
    }
   ],
   "source": [
    "print(LinearUnit(5, 'Miles'))"
   ]
  },
  {
   "cell_type": "code",
   "execution_count": 28,
   "metadata": {
    "collapsed": false
   },
   "outputs": [],
   "source": [
    "map = gis.map('San Francisco, CA')\n",
    "map"
   ]
  },
  {
   "cell_type": "code",
   "execution_count": 29,
   "metadata": {
    "collapsed": true
   },
   "outputs": [],
   "source": [
    "from arcgis.features import Feature, FeatureSet"
   ]
  },
  {
   "cell_type": "code",
   "execution_count": 30,
   "metadata": {
    "collapsed": true
   },
   "outputs": [],
   "source": [
    "import arcgis"
   ]
  },
  {
   "cell_type": "markdown",
   "metadata": {},
   "source": [
    "# Using Environment parameters"
   ]
  },
  {
   "cell_type": "code",
   "execution_count": 31,
   "metadata": {
    "collapsed": false
   },
   "outputs": [],
   "source": [
    "arcgis.env.out_spatial_reference = 4326"
   ]
  },
  {
   "cell_type": "markdown",
   "metadata": {},
   "source": [
    "# LinearUnit as typed object"
   ]
  },
  {
   "cell_type": "markdown",
   "metadata": {
    "collapsed": false
   },
   "source": [
    "def get_viewshed(m, g):\n",
    "    res = viewshed.viewshed(FeatureSet([Feature(g)]), LinearUnit(5, 'Miles')) #\"5 Miles\") #\n",
    "    m.draw(res)\n",
    "    \n",
    "map.on_click(get_viewshed)"
   ]
  },
  {
   "cell_type": "markdown",
   "metadata": {},
   "source": [
    "\n",
    "def get_viewshed(m, g):\n",
    "    res = viewshed.viewshed(FeatureSet([Feature(g)]), {\"units\": \"esriMiles\", \"distance\": 5}) #\"5 Miles\") #\n",
    "    m.draw(res)\n",
    "    \n",
    "map.on_click(get_viewshed)"
   ]
  },
  {
   "cell_type": "markdown",
   "metadata": {},
   "source": [
    "# Linear unit as string"
   ]
  },
  {
   "cell_type": "code",
   "execution_count": 32,
   "metadata": {
    "collapsed": true
   },
   "outputs": [],
   "source": [
    "\n",
    "def get_viewshed(m, g):\n",
    "    res = viewshed.viewshed(FeatureSet([Feature(g)]), \"5 Miles\")\n",
    "    m.draw(res)\n",
    "    \n",
    "map.on_click(get_viewshed)"
   ]
  },
  {
   "cell_type": "code",
   "execution_count": 33,
   "metadata": {
    "collapsed": false
   },
   "outputs": [],
   "source": [
    "d =  LinearUnit.from_dict({\"units\": \"esriMiles\", \"distance\": 5})"
   ]
  },
  {
   "cell_type": "code",
   "execution_count": 34,
   "metadata": {
    "collapsed": false
   },
   "outputs": [
    {
     "data": {
      "text/plain": [
       "{'distance': 5, 'units': 'Esrimiles'}"
      ]
     },
     "execution_count": 34,
     "metadata": {},
     "output_type": "execute_result"
    }
   ],
   "source": [
    "d.to_dict()"
   ]
  },
  {
   "cell_type": "code",
   "execution_count": 35,
   "metadata": {
    "collapsed": true
   },
   "outputs": [],
   "source": [
    "geosurtools = Toolbox('http://tps.geosur.info/arcgis/rest/services/Models/GeoSUR_ElevationDerivatives/GPServer')"
   ]
  },
  {
   "cell_type": "code",
   "execution_count": 36,
   "metadata": {
    "collapsed": false
   },
   "outputs": [
    {
     "name": "stdout",
     "output_type": "stream",
     "text": [
      "Help on method slope_classificaiton:\n",
      "\n",
      "slope_classificaiton(input_spatial_extent:arcgis.features.feature.FeatureSet={'fields': [{'name': 'OBJECTID', 'type': 'esriFieldTypeOID', 'alias': 'OBJECTID'}, {'name': 'SHAPE_Length', 'type': 'esriFieldTypeDouble', 'alias': 'SHAPE_Length'}, {'name': 'SHAPE_Area', 'type': 'esriFieldTypeDouble', 'alias': 'SHAPE_Area'}], 'spatialReference': {'wkid': 4326, 'latestWkid': 4326}, 'geometryType': 'esriGeometryPolygon', 'exceededTransferLimit': False, 'features': [], 'displayFieldName': ''}, input_elevation_dataset:str='GMTED 30 arc-second (Median)', unit_of_measure:str='Degree', z_factor:str='0.00003', slope_class_list:str='5,10,20,30,40,50') -> tuple method of arcgis.geoprocessing.tool.Toolbox instance\n",
      "    Parameters:\n",
      "    \n",
      "    \n",
      "       input_spatial_extent: Input Spatial Extent (FeatureSet). test\n",
      "    \n",
      "       input_elevation_dataset: Input Elevation Dataset (str). Input Elevation Dataset\n",
      "          Choice list:['SRTM 30m DEM', 'HydroSHEDS 90m DEM', 'GMTED 7.5 arc-second (Median)', 'GMTED 15 arc-second (Median)', 'GMTED 30 arc-second (Median)']\n",
      "    \n",
      "       unit_of_measure: Unit of Measure (str). test\n",
      "    \n",
      "       z_factor: Z Factor (str). test\n",
      "    \n",
      "       slope_class_list: Slope Class List (str). test\n",
      "    \n",
      "    Returns a named tuple with the following fields:\n",
      "       output_url_string (Output URL String of type: str)\n",
      "       output_raster_dataset (Output Raster Dataset of type: RasterData)\n",
      "       metadata_url_string (Metadata URL String of type: str)\n",
      "    \n",
      "    See http://tps.geosur.info/arcgis/rest/directories/arcgisoutput/Models/GeoSUR_ElevationDerivatives_GPServer/Models_GeoSUR_ElevationDerivatives/SlopeClss2.htm for additional help.\n",
      "\n"
     ]
    }
   ],
   "source": [
    "help(geosurtools.slope_classificaiton)"
   ]
  },
  {
   "cell_type": "markdown",
   "metadata": {},
   "source": [
    "# Error reporting"
   ]
  },
  {
   "cell_type": "code",
   "execution_count": null,
   "metadata": {
    "collapsed": true
   },
   "outputs": [],
   "source": [
    "geosurtools.slope_classificaiton()"
   ]
  },
  {
   "cell_type": "markdown",
   "metadata": {},
   "source": [
    "# Capture all log messages"
   ]
  },
  {
   "cell_type": "code",
   "execution_count": 38,
   "metadata": {
    "collapsed": false
   },
   "outputs": [],
   "source": [
    "import logging\n",
    "import sys\n",
    "\n",
    "# Create logger\n",
    "logger = logging.getLogger()\n",
    "logger.setLevel(logging.INFO)\n",
    "\n",
    "# Create STDERR handler\n",
    "handler = logging.StreamHandler(sys.stderr)\n",
    "# ch.setLevel(logging.DEBUG)\n",
    "\n",
    "# Create formatter and add it to the handler\n",
    "formatter = logging.Formatter('%(name)s - %(levelname)s - %(message)s')\n",
    "handler.setFormatter(formatter)\n",
    "\n",
    "# Set STDERR handler as the only handler \n",
    "logger.handlers = [handler]"
   ]
  },
  {
   "cell_type": "code",
   "execution_count": 39,
   "metadata": {
    "collapsed": false
   },
   "outputs": [
    {
     "name": "stderr",
     "output_type": "stream",
     "text": [
      "arcgis.geoprocessing.tool - INFO - Submitted.\n",
      "arcgis.geoprocessing.tool - INFO - Executing...\n",
      "arcgis.geoprocessing.tool - INFO - Executing (Slope Classificaiton): SlopeClss2 \"Feature Set\" \"GMTED 30 arc-second (Median)\" Degree 3.0E-5 5,10,20,30,40,50\n",
      "arcgis.geoprocessing.tool - INFO - Start Time: Mon Nov 07 07:07:52 2016\n",
      "arcgis.geoprocessing.tool - INFO - Executing (Slope Classificaiton): SlopeClss2 \"Feature Set\" \"GeoSUR_ElevationDerivatives\\GMTED 30 arc-second (Median)\" Degree 3.0E-5 5,10,20,30,40,50\n",
      "arcgis.geoprocessing.tool - INFO - Start Time: Mon Nov 07 07:07:52 2016\n",
      "arcgis.geoprocessing.tool - INFO - Executing (TPS Slope Classificaiton): TPSSlopeClass2 \"Feature Set\" \"GeoSUR_ElevationDerivatives\\GMTED 30 arc-second (Median)\" Degree 3.0E-5 5,10,20,30,40,50\n",
      "arcgis.geoprocessing.tool - INFO - Start Time: Mon Nov 07 07:07:52 2016\n",
      "arcgis.geoprocessing.tool - INFO - Running script TPSSlopeClass2...\n",
      "arcgis.geoprocessing.tool - INFO - \n",
      "D:\\geosur_ags\\open\\gp\\sharedtools\\scripts\n",
      "\n",
      "arcgis.geoprocessing.tool - INFO - \n",
      "D:\\geosur_ags\\open\\gp\\sharedtools\\scripts\\tps_slopeclss.xml\n",
      "\n",
      "arcgis.geoprocessing.tool - INFO - maxPixels: 120000000\n",
      "arcgis.geoprocessing.tool - INFO - \n",
      "Spatial Reference Type: Geographic\n",
      "arcgis.geoprocessing.tool - INFO - Raster Input: GeoSUR_ElevationDerivatives\\GMTED 30 arc-second (Median)\n",
      "arcgis.geoprocessing.tool - INFO - Cell Size x:0.008333 y:0.008333\n",
      "arcgis.geoprocessing.tool - INFO - Pixel Width: -1\n",
      "arcgis.geoprocessing.tool - INFO - Pixel Height: -1\n",
      "arcgis.geoprocessing.tool - INFO - Pixels to be processed: 1\n",
      "\n",
      "arcgis.geoprocessing.tool - WARNING - (1.00 - 120000000.00) / 120000000 \n",
      "arcgis.geoprocessing.tool - ERROR - Failed to process input extent. Verify that client                       has a defined coordinate system.\n",
      "Failed to process input extent. Verify that client                       has a defined coordinate system.\n",
      "arcgis.geoprocessing.tool - INFO - Completed script TPSSlopeClass2...\n",
      "arcgis.geoprocessing.tool - ERROR - Failed to execute (TPS Slope Classificaiton).\n",
      "Failed to execute (TPS Slope Classificaiton).\n",
      "arcgis.geoprocessing.tool - INFO - Failed at Mon Nov 07 07:07:52 2016 (Elapsed Time: 0.22 seconds)\n",
      "arcgis.geoprocessing.tool - ERROR - Failed to execute (Slope Classificaiton).\n",
      "Failed to execute (Slope Classificaiton).\n",
      "arcgis.geoprocessing.tool - INFO - Failed at Mon Nov 07 07:07:52 2016 (Elapsed Time: 0.25 seconds)\n",
      "arcgis.geoprocessing.tool - ERROR - Failed to execute (Slope Classificaiton).\n",
      "Failed to execute (Slope Classificaiton).\n",
      "arcgis.geoprocessing.tool - INFO - Failed at Mon Nov 07 07:07:52 2016 (Elapsed Time: 0.28 seconds)\n",
      "arcgis.geoprocessing.tool - ERROR - Failed.\n",
      "Failed.\n"
     ]
    },
    {
     "ename": "Exception",
     "evalue": "Job failed.",
     "output_type": "error",
     "traceback": [
      "\u001b[0;31m---------------------------------------------------------------------------\u001b[0m",
      "\u001b[0;31mException\u001b[0m                                 Traceback (most recent call last)",
      "\u001b[0;32m<ipython-input-39-542d976545df>\u001b[0m in \u001b[0;36m<module>\u001b[0;34m()\u001b[0m\n\u001b[0;32m----> 1\u001b[0;31m \u001b[0mgeosurtools\u001b[0m\u001b[0;34m.\u001b[0m\u001b[0mslope_classificaiton\u001b[0m\u001b[0;34m(\u001b[0m\u001b[0;34m)\u001b[0m\u001b[0;34m\u001b[0m\u001b[0m\n\u001b[0m",
      "\u001b[0;32mC:\\xc\\GitHub\\geosaurus\\src\\arcgis\\geoprocessing\\tool.py\u001b[0m in \u001b[0;36mslope_classificaiton\u001b[0;34m(self, input_spatial_extent, input_elevation_dataset, unit_of_measure, z_factor, slope_class_list)\u001b[0m\n\u001b[1;32m    206\u001b[0m         \u001b[0;31m#    print(k + \" => \" + str(v))\u001b[0m\u001b[0;34m\u001b[0m\u001b[0;34m\u001b[0m\u001b[0m\n\u001b[1;32m    207\u001b[0m \u001b[0;34m\u001b[0m\u001b[0m\n\u001b[0;32m--> 208\u001b[0;31m         \u001b[0;32mreturn\u001b[0m \u001b[0mself\u001b[0m\u001b[0;34m.\u001b[0m\u001b[0m_execute\u001b[0m\u001b[0;34m(\u001b[0m\u001b[0mkwargs\u001b[0m\u001b[0;34m)\u001b[0m\u001b[0;34m\u001b[0m\u001b[0m\n\u001b[0m\u001b[1;32m    209\u001b[0m \u001b[0;34m\u001b[0m\u001b[0m\n\u001b[1;32m    210\u001b[0m     \u001b[0mcode\u001b[0m \u001b[0;34m=\u001b[0m \u001b[0mcall\u001b[0m\u001b[0;34m.\u001b[0m\u001b[0m__code__\u001b[0m\u001b[0;34m\u001b[0m\u001b[0m\n",
      "\u001b[0;32mC:\\xc\\GitHub\\geosaurus\\src\\arcgis\\geoprocessing\\tool.py\u001b[0m in \u001b[0;36m_execute\u001b[0;34m(self, params)\u001b[0m\n\u001b[1;32m    787\u001b[0m             \u001b[0mjob_info\u001b[0m \u001b[0;34m=\u001b[0m \u001b[0mself\u001b[0m\u001b[0;34m.\u001b[0m\u001b[0m_con\u001b[0m\u001b[0;34m.\u001b[0m\u001b[0mpost\u001b[0m\u001b[0;34m(\u001b[0m\u001b[0msubmit_url\u001b[0m\u001b[0;34m,\u001b[0m \u001b[0mgp_params\u001b[0m\u001b[0;34m,\u001b[0m \u001b[0mtoken\u001b[0m\u001b[0;34m=\u001b[0m\u001b[0mself\u001b[0m\u001b[0;34m.\u001b[0m\u001b[0m_token\u001b[0m\u001b[0;34m)\u001b[0m\u001b[0;34m\u001b[0m\u001b[0m\n\u001b[1;32m    788\u001b[0m \u001b[0;34m\u001b[0m\u001b[0m\n\u001b[0;32m--> 789\u001b[0;31m             \u001b[0mjob_info\u001b[0m \u001b[0;34m=\u001b[0m \u001b[0msuper\u001b[0m\u001b[0;34m(\u001b[0m\u001b[0;34m)\u001b[0m\u001b[0;34m.\u001b[0m\u001b[0m_analysis_job_status\u001b[0m\u001b[0;34m(\u001b[0m\u001b[0mtask_url\u001b[0m\u001b[0;34m,\u001b[0m \u001b[0mjob_info\u001b[0m\u001b[0;34m)\u001b[0m\u001b[0;34m\u001b[0m\u001b[0m\n\u001b[0m\u001b[1;32m    790\u001b[0m             \u001b[0mresp\u001b[0m \u001b[0;34m=\u001b[0m \u001b[0msuper\u001b[0m\u001b[0;34m(\u001b[0m\u001b[0;34m)\u001b[0m\u001b[0;34m.\u001b[0m\u001b[0m_analysis_job_results\u001b[0m\u001b[0;34m(\u001b[0m\u001b[0mtask_url\u001b[0m\u001b[0;34m,\u001b[0m \u001b[0mjob_info\u001b[0m\u001b[0;34m)\u001b[0m\u001b[0;34m\u001b[0m\u001b[0m\n\u001b[1;32m    791\u001b[0m             \u001b[0;31m# print('***'+str(resp))\u001b[0m\u001b[0;34m\u001b[0m\u001b[0;34m\u001b[0m\u001b[0m\n",
      "\u001b[0;32mC:\\xc\\GitHub\\geosaurus\\src\\arcgis\\geoprocessing\\tool.py\u001b[0m in \u001b[0;36m_analysis_job_status\u001b[0;34m(self, task_url, job_info)\u001b[0m\n\u001b[1;32m    320\u001b[0m \u001b[0;34m\u001b[0m\u001b[0m\n\u001b[1;32m    321\u001b[0m                     \u001b[0;32mif\u001b[0m \u001b[0mjob_response\u001b[0m\u001b[0;34m.\u001b[0m\u001b[0mget\u001b[0m\u001b[0;34m(\u001b[0m\u001b[0;34m\"jobStatus\"\u001b[0m\u001b[0;34m)\u001b[0m \u001b[0;34m==\u001b[0m \u001b[0;34m\"esriJobFailed\"\u001b[0m\u001b[0;34m:\u001b[0m\u001b[0;34m\u001b[0m\u001b[0m\n\u001b[0;32m--> 322\u001b[0;31m                         \u001b[0;32mraise\u001b[0m \u001b[0mException\u001b[0m\u001b[0;34m(\u001b[0m\u001b[0;34m\"Job failed.\"\u001b[0m\u001b[0;34m)\u001b[0m\u001b[0;34m\u001b[0m\u001b[0m\n\u001b[0m\u001b[1;32m    323\u001b[0m                     \u001b[0;32melif\u001b[0m \u001b[0mjob_response\u001b[0m\u001b[0;34m.\u001b[0m\u001b[0mget\u001b[0m\u001b[0;34m(\u001b[0m\u001b[0;34m\"jobStatus\"\u001b[0m\u001b[0;34m)\u001b[0m \u001b[0;34m==\u001b[0m \u001b[0;34m\"esriJobCancelled\"\u001b[0m\u001b[0;34m:\u001b[0m\u001b[0;34m\u001b[0m\u001b[0m\n\u001b[1;32m    324\u001b[0m                         \u001b[0;32mraise\u001b[0m \u001b[0mException\u001b[0m\u001b[0;34m(\u001b[0m\u001b[0;34m\"Job cancelled.\"\u001b[0m\u001b[0;34m)\u001b[0m\u001b[0;34m\u001b[0m\u001b[0m\n",
      "\u001b[0;31mException\u001b[0m: Job failed."
     ]
    }
   ],
   "source": [
    "geosurtools.slope_classificaiton()"
   ]
  },
  {
   "cell_type": "markdown",
   "metadata": {},
   "source": [
    "# Return map layers"
   ]
  },
  {
   "cell_type": "code",
   "execution_count": 1,
   "metadata": {
    "collapsed": false
   },
   "outputs": [],
   "source": [
    "from arcgis.geoprocessing import Toolbox\n",
    "hotspots = Toolbox('https://sampleserver6.arcgisonline.com/arcgis/rest/services/911CallsHotspot/GPServer')"
   ]
  },
  {
   "cell_type": "code",
   "execution_count": 2,
   "metadata": {
    "collapsed": false
   },
   "outputs": [
    {
     "name": "stdout",
     "output_type": "stream",
     "text": [
      "Help on method execute_911_calls_hotspot:\n",
      "\n",
      "execute_911_calls_hotspot(query:str='(\"DATE\" > date \\'1998-01-01 00:00:00\\' AND \"DATE\" < date \\'1998-01-31 00:00:00\\') AND (\"Day\" = \\'SUN\\' OR \"Day\"= \\'SAT\\')') -> tuple method of arcgis.geoprocessing.tool.Toolbox instance\n",
      "    Parameters:\n",
      "    \n",
      "       query: Query (str). A SQL query string to filter calls. The query can be based on the day of the week such as SUN/MON/TUE/WED/THU/FRI/SAT (Field Name: Day) or a date range between Jan 1st ,1998 to May 31, 1998 (Field Name: Date). An example SQL query string is (\"DATE\" &gt; date '1998-01-01 00:00:00' AND \"DATE\" &lt; date '1998-01-31 00:00:00') AND (\"Day\" = 'SUN' OR \"Day\"= 'SAT')\n",
      "    \n",
      "    Returns the following as a named tuple:\n",
      "       result_layer - Result Layer as a MapImageLayer\n",
      "       output_features - Output_Features as a dict\n",
      "       hotspot_raster - Hotspot Raster as a dict\n",
      "    \n",
      "    See https://sampleserver6.arcgisonline.com/arcgis/rest/directories/arcgisoutput/911CallsHotspot_GPServer/911CallsHotspot/911CallsHotspot.htm for additional help.\n",
      "\n"
     ]
    }
   ],
   "source": [
    "help(hotspots.execute_911_calls_hotspot)"
   ]
  },
  {
   "cell_type": "code",
   "execution_count": 22,
   "metadata": {
    "collapsed": false
   },
   "outputs": [],
   "source": [
    "map_layer, *_ = hotspots.execute_911_calls_hotspot()"
   ]
  },
  {
   "cell_type": "code",
   "execution_count": 23,
   "metadata": {
    "collapsed": false
   },
   "outputs": [
    {
     "data": {
      "text/plain": [
       "<MapImageLayer url:\"https://sampleserver6.arcgisonline.com/arcgis/rest/services/911CallsHotspot/MapServer/jobs/j641d8fb56d1142d583173c5fb268ef24\">"
      ]
     },
     "execution_count": 23,
     "metadata": {},
     "output_type": "execute_result"
    }
   ],
   "source": [
    "map_layer"
   ]
  },
  {
   "cell_type": "code",
   "execution_count": 24,
   "metadata": {
    "collapsed": false
   },
   "outputs": [
    {
     "data": {
      "text/plain": [
       "[<FeatureLayer url:\"https://sampleserver6.arcgisonline.com/arcgis/rest/services/911CallsHotspot/MapServer/jobs/j641d8fb56d1142d583173c5fb268ef24/0\">,\n",
       " <FeatureLayer url:\"https://sampleserver6.arcgisonline.com/arcgis/rest/services/911CallsHotspot/MapServer/jobs/j641d8fb56d1142d583173c5fb268ef24/1\">]"
      ]
     },
     "execution_count": 24,
     "metadata": {},
     "output_type": "execute_result"
    }
   ],
   "source": [
    "map_layer.layers"
   ]
  },
  {
   "cell_type": "code",
   "execution_count": null,
   "metadata": {
    "collapsed": true
   },
   "outputs": [],
   "source": []
  }
 ],
 "metadata": {
  "anaconda-cloud": {},
  "kernelspec": {
   "display_name": "Python [default]",
   "language": "python",
   "name": "python3"
  },
  "language_info": {
   "codemirror_mode": {
    "name": "ipython",
    "version": 3
   },
   "file_extension": ".py",
   "mimetype": "text/x-python",
   "name": "python",
   "nbconvert_exporter": "python",
   "pygments_lexer": "ipython3",
   "version": "3.5.2"
  }
 },
 "nbformat": 4,
 "nbformat_minor": 0
}
