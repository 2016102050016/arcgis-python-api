{
 "cells": [
  {
   "cell_type": "markdown",
   "metadata": {},
   "source": []
  },
  {
   "cell_type": "code",
   "execution_count": 1,
   "metadata": {
    "collapsed": false
   },
   "outputs": [],
   "source": [
    "from arcgis.gis import GIS"
   ]
  },
  {
   "cell_type": "code",
   "execution_count": 2,
   "metadata": {
    "collapsed": false
   },
   "outputs": [],
   "source": [
    "gis = GIS()"
   ]
  },
  {
   "cell_type": "code",
   "execution_count": 3,
   "metadata": {
    "collapsed": false
   },
   "outputs": [],
   "source": [
    "from arcgis.geoprocessing import import_toolbox"
   ]
  },
  {
   "cell_type": "code",
   "execution_count": 4,
   "metadata": {
    "collapsed": false
   },
   "outputs": [],
   "source": [
    "tbx = import_toolbox('http://gis.ices.dk/gis/rest/services/Tools/ExtractZionData/GPServer', gis)"
   ]
  },
  {
   "cell_type": "code",
   "execution_count": 5,
   "metadata": {
    "collapsed": false
   },
   "outputs": [],
   "source": [
    "res = tbx.extract_zion_data()"
   ]
  },
  {
   "cell_type": "code",
   "execution_count": 6,
   "metadata": {
    "collapsed": false
   },
   "outputs": [
    {
     "name": "stdout",
     "output_type": "stream",
     "text": [
      "Help on function extract_zion_data:\n",
      "\n",
      "extract_zion_data(layers_to_clip:str=\"['Research_areas', 'Roads', 'Springs', 'Zion park boundary']\", area_of_interest:arcgis.features.feature.FeatureSet={'fields': [{'name': 'FID', 'alias': 'FID', 'type': 'esriFieldTypeOID'}, {'name': 'Id', 'alias': 'Id', 'type': 'esriFieldTypeInteger'}, {'name': 'Shape_Length', 'alias': 'Shape_Length', 'type': 'esriFieldTypeDouble'}, {'name': 'Shape_Area', 'alias': 'Shape_Area', 'type': 'esriFieldTypeDouble'}], 'exceededTransferLimit': False, 'geometryType': 'esriGeometryPolygon', 'features': [], 'displayFieldName': '', 'spatialReference': {'wkid': None}}, feature_format:str='File Geodatabase - GDB - .gdb', raster_format:str='ESRI GRID - GRID', gis=None) -> arcgis.geoprocessing.tool.DataFile\n",
      "    &lt;P&gt; Extracts the specified Layers in the specified Area of Interest to the selected Formats and returns all the data in a zip file. &lt;/P&gt;&lt;P&gt;This tool is intended primarily for use as a part of a geoprocessing service. Full step by step instructions for making a Clip and Ship / Data Extraction geoprocessing service can be found here (under construction).&lt;/P&gt;&lt;P&gt;When using this tool as a part of a geoprocessing service, first copy the tool into a custom toolbox. After copying, edit the model and configure it if necessary.&lt;/P&gt;\n",
      "    \n",
      "    Parameters:\n",
      "    \n",
      "       layers_to_clip: Layers to Clip (str). Required parameter.  The Layers to be clipped. Layers should be either raster layers or feature layers.\n",
      "          Choice list:['Research_areas', 'Tracts', 'Roads', 'Trails', 'Springs', 'Streams', 'Zion park boundary', 'Hillshade']\n",
      "    \n",
      "       area_of_interest: Area of Interest (FeatureSet). Required parameter.  The area by which the layers will be clipped.\n",
      "    \n",
      "       feature_format: Feature Format (str). Required parameter.  The format in which the output features will be delivered.\n",
      "          Choice list:['File Geodatabase - GDB - .gdb', 'Shapefile - SHP - .shp', 'Geographic Markup Language - GML - .gml', 'OpenGIS KML Encoding Standard - OGCKML - .kmz', 'Autodesk AutoCAD - DXF_R2007 - .dxf', 'Autodesk AutoCAD - DWG_R2007 - .dwg', 'Bentley Microstation Design (V8) - DGN_V8 - .dgn', 'Adobe 3D PDF - PDF - .pdf', 'Autodesk AutoCad DWF - DWF - .dwf', 'Scalable Vector and Graphics (SVG) - SVG - .svg', 'Scalable Vector and Graphics (SVG) - SVG - .svgz']\n",
      "    \n",
      "       raster_format: Raster Format (str). Required parameter.  The format in which the output rasters will be delivered.\n",
      "          Choice list:['ESRI GRID - GRID', 'File Geodatabase - GDB - .gdb', 'ERDAS IMAGINE - IMG - .img', 'Tagged Image File Format - TIFF - .tif', 'Graphic Interchange Format - GIF - .gif', 'Joint Photographics Experts Group - JPEG - .jpg', 'Joint Photographics Experts Group - JPEG 2000 - .jp2', 'Bitmap - BMP - .bmp', 'Portable Network Graphics - PNG - .png']\n",
      "    \n",
      "    gis: Optional, the GIS on which this tool runs. If not specified, the active GIS is used.\n",
      "    \n",
      "    \n",
      "    Returns: \n",
      "       output_zip_file - Output Zip File as a DataFile\n",
      "    \n",
      "    See http://gis.ices.dk/gis/rest/directories/arcgisoutput/Tools/ExtractZionData_GPServer/Tools_ExtractZionData/ExtractZionData.htm for additional help.\n",
      "\n"
     ]
    }
   ],
   "source": [
    "help(tbx.extract_zion_data)"
   ]
  },
  {
   "cell_type": "code",
   "execution_count": 7,
   "metadata": {
    "collapsed": false
   },
   "outputs": [
    {
     "data": {
      "text/plain": [
       "'C:\\\\Users\\\\rohit\\\\AppData\\\\Local\\\\Temp\\\\output.zip'"
      ]
     },
     "execution_count": 7,
     "metadata": {},
     "output_type": "execute_result"
    }
   ],
   "source": [
    "res.download()"
   ]
  },
  {
   "cell_type": "code",
   "execution_count": 8,
   "metadata": {
    "collapsed": false
   },
   "outputs": [],
   "source": [
    "from arcgis.features import FeatureSet"
   ]
  },
  {
   "cell_type": "code",
   "execution_count": 9,
   "metadata": {
    "collapsed": false
   },
   "outputs": [],
   "source": [
    "fs_dict = {'displayFieldName': '',\n",
    "           'spatialReference': {'wkid': None},\n",
    "           'exceededTransferLimit': False, \n",
    "           'fields': \n",
    "           [{'type': 'esriFieldTypeOID', 'name': 'FID', 'alias': 'FID'}, \n",
    "            {'type': 'esriFieldTypeInteger', 'name': 'Id', 'alias': 'Id'}, \n",
    "            {'type': 'esriFieldTypeDouble', 'name': 'Shape_Length', 'alias': 'Shape_Length'}, \n",
    "            {'type': 'esriFieldTypeDouble', 'name': 'Shape_Area', 'alias': 'Shape_Area'}],\n",
    "           'geometryType': 'esriGeometryPolygon', 'features': []}"
   ]
  },
  {
   "cell_type": "code",
   "execution_count": 10,
   "metadata": {
    "collapsed": true
   },
   "outputs": [],
   "source": [
    "fs = FeatureSet.from_dict(fs_dict)"
   ]
  },
  {
   "cell_type": "code",
   "execution_count": 11,
   "metadata": {
    "collapsed": false
   },
   "outputs": [
    {
     "data": {
      "text/plain": [
       "{\"features\": [], \"geometryType\": \"esriGeometryPolygon\", \"fields\": [{\"name\": \"FID\", \"alias\": \"FID\", \"type\": \"esriFieldTypeOID\"}, {\"name\": \"Id\", \"alias\": \"Id\", \"type\": \"esriFieldTypeInteger\"}, {\"name\": \"Shape_Length\", \"alias\": \"Shape_Length\", \"type\": \"esriFieldTypeDouble\"}, {\"name\": \"Shape_Area\", \"alias\": \"Shape_Area\", \"type\": \"esriFieldTypeDouble\"}], \"displayFieldName\": \"\", \"spatialReference\": {\"wkid\": null}}"
      ]
     },
     "execution_count": 11,
     "metadata": {},
     "output_type": "execute_result"
    }
   ],
   "source": [
    "fs"
   ]
  },
  {
   "cell_type": "code",
   "execution_count": 12,
   "metadata": {
    "collapsed": false
   },
   "outputs": [
    {
     "data": {
      "text/plain": [
       "{'displayFieldName': '',\n",
       " 'features': [],\n",
       " 'fields': [{'alias': 'FID', 'name': 'FID', 'type': 'esriFieldTypeOID'},\n",
       "  {'alias': 'Id', 'name': 'Id', 'type': 'esriFieldTypeInteger'},\n",
       "  {'alias': 'Shape_Length',\n",
       "   'name': 'Shape_Length',\n",
       "   'type': 'esriFieldTypeDouble'},\n",
       "  {'alias': 'Shape_Area',\n",
       "   'name': 'Shape_Area',\n",
       "   'type': 'esriFieldTypeDouble'}],\n",
       " 'geometryType': 'esriGeometryPolygon',\n",
       " 'spatialReference': {'wkid': None}}"
      ]
     },
     "execution_count": 12,
     "metadata": {},
     "output_type": "execute_result"
    }
   ],
   "source": [
    "fs.to_dict()"
   ]
  },
  {
   "cell_type": "code",
   "execution_count": 13,
   "metadata": {
    "collapsed": false
   },
   "outputs": [],
   "source": [
    "r2 = tbx.extract_zion_data(area_of_interest=fs)"
   ]
  },
  {
   "cell_type": "code",
   "execution_count": 14,
   "metadata": {
    "collapsed": false
   },
   "outputs": [
    {
     "data": {
      "text/plain": [
       "{\"url\": \"http://gis.ices.dk/gis/rest/directories/arcgisjobs/tools/extractziondata_gpserver/j68f1a083ae7f4c32ad5e1bb3886892d0/scratch/output.zip\"}"
      ]
     },
     "execution_count": 14,
     "metadata": {},
     "output_type": "execute_result"
    }
   ],
   "source": [
    "r2"
   ]
  },
  {
   "cell_type": "code",
   "execution_count": 15,
   "metadata": {
    "collapsed": false
   },
   "outputs": [],
   "source": [
    "multioutputtbx = import_toolbox('https://gis-public.co.san-diego.ca.us/arcgis/rest/services/InitialResearchPacketCSV_Phase2/GPServer', gis)"
   ]
  },
  {
   "cell_type": "code",
   "execution_count": 16,
   "metadata": {
    "collapsed": false
   },
   "outputs": [
    {
     "name": "stdout",
     "output_type": "stream",
     "text": [
      "Help on function initial_research_packet_csv:\n",
      "\n",
      "initial_research_packet_csv(apn_numbers:str='5980100200', project_number:str='PDS2012-3200-21193', project_title:str='PDS', gis=None) -> tuple\n",
      "    Script for getting user's inputs and call python script to create data in term of CSV\n",
      "    \n",
      "    Parameters:\n",
      "    \n",
      "       apn_numbers: APN Numbers (str). Required parameter.  List of APNs seperated by comma.e.g.:1015300300e.g:102-690-07-00,1021809100,1021807700\n",
      "    \n",
      "       project_number: Project Number (str). Required parameter.  Project number\n",
      "    \n",
      "       project_title: Project Title (str). Required parameter.  Project Title\n",
      "    \n",
      "    gis: Optional, the GIS on which this tool runs. If not specified, the active GIS is used.\n",
      "    \n",
      "    \n",
      "    Returns the following as a named tuple:\n",
      "       report_output_csv_file - Report Output CSV File as a DataFile\n",
      "       output_map_flags_file - Output Map Flags File as a DataFile\n",
      "       soil_output_file - Soil Output File as a DataFile\n",
      "       job_status - Job Status as a str\n",
      "    \n",
      "    See http://gis-public.co.san-diego.ca.us/arcgis/rest/directories/arcgisoutput/InitialResearchPacketCSV_Phase2_GPServer/InitialResearchPacketCSV_Phase2/InitialResearchPacket.htm for additional help.\n",
      "\n"
     ]
    }
   ],
   "source": [
    "help(multioutputtbx.initial_research_packet_csv)"
   ]
  },
  {
   "cell_type": "code",
   "execution_count": 17,
   "metadata": {
    "collapsed": false
   },
   "outputs": [],
   "source": [
    "res = multioutputtbx.initial_research_packet_csv()"
   ]
  },
  {
   "cell_type": "code",
   "execution_count": 18,
   "metadata": {
    "collapsed": false
   },
   "outputs": [
    {
     "data": {
      "text/plain": [
       "ToolOutput(report_output_csv_file={\"url\": \"http://gis-public.co.san-diego.ca.us/arcgis/rest/directories/arcgisjobs/initialresearchpacketcsv_phase2_gpserver/j654e0228620e46d2b24611ec4fff1c64/scratch/j654e0228620e46d2b24611ec4fff1c64_report.csv\"}, output_map_flags_file={\"url\": \"http://gis-public.co.san-diego.ca.us/arcgis/rest/directories/arcgisjobs/initialresearchpacketcsv_phase2_gpserver/j654e0228620e46d2b24611ec4fff1c64/scratch/j654e0228620e46d2b24611ec4fff1c64_mapflags.txt\"}, soil_output_file={\"url\": \"http://gis-public.co.san-diego.ca.us/arcgis/rest/directories/arcgisjobs/initialresearchpacketcsv_phase2_gpserver/j654e0228620e46d2b24611ec4fff1c64/scratch/j654e0228620e46d2b24611ec4fff1c64_soil.txt\"}, job_status='Successfully created csv file')"
      ]
     },
     "execution_count": 18,
     "metadata": {},
     "output_type": "execute_result"
    }
   ],
   "source": [
    "res"
   ]
  },
  {
   "cell_type": "code",
   "execution_count": 19,
   "metadata": {
    "collapsed": false
   },
   "outputs": [
    {
     "data": {
      "text/plain": [
       "'Successfully created csv file'"
      ]
     },
     "execution_count": 19,
     "metadata": {},
     "output_type": "execute_result"
    }
   ],
   "source": [
    "res.job_status"
   ]
  },
  {
   "cell_type": "code",
   "execution_count": 20,
   "metadata": {
    "collapsed": false
   },
   "outputs": [
    {
     "data": {
      "text/plain": [
       "'C:\\\\Users\\\\rohit\\\\AppData\\\\Local\\\\Temp\\\\j654e0228620e46d2b24611ec4fff1c64_report.csv'"
      ]
     },
     "execution_count": 20,
     "metadata": {},
     "output_type": "execute_result"
    }
   ],
   "source": [
    "res.report_output_csv_file.download()"
   ]
  },
  {
   "cell_type": "code",
   "execution_count": 21,
   "metadata": {
    "collapsed": false
   },
   "outputs": [],
   "source": [
    "from arcgis.geoprocessing.tool import import_toolbox\n",
    "viewshed = import_toolbox('http://sampleserver1.arcgisonline.com/ArcGIS/rest/services/Elevation/ESRI_Elevation_World/GPServer')"
   ]
  },
  {
   "cell_type": "code",
   "execution_count": 22,
   "metadata": {
    "collapsed": false
   },
   "outputs": [
    {
     "name": "stdout",
     "output_type": "stream",
     "text": [
      "Help on function viewshed:\n",
      "\n",
      "viewshed(input_observation_point:arcgis.features.feature.FeatureSet={'Fields': [{'name': 'FID', 'alias': 'FID', 'type': 'esriFieldTypeOID'}, {'name': 'Shape', 'alias': 'Shape', 'type': 'esriFieldTypeGeometry'}, {'name': 'OffsetA', 'alias': 'OffsetA', 'type': 'esriFieldTypeDouble'}], 'fields': [{'name': 'FID', 'alias': 'FID', 'type': 'esriFieldTypeOID'}, {'name': 'Shape', 'alias': 'Shape', 'type': 'esriFieldTypeGeometry'}, {'name': 'OffsetA', 'alias': 'OffsetA', 'type': 'esriFieldTypeDouble'}], 'spatialReference': {'wkid': 54003}, 'geometryType': 'esriGeometryPoint'}, viewshed_distance:arcgis.geoprocessing.tool.LinearUnit={'distance': 15000, 'units': 'esriMeters'}, gis=None) -> arcgis.features.feature.FeatureSet\n",
      "    Parameters:\n",
      "    \n",
      "       input_observation_point: Input Observation Point (FeatureSet). Required parameter. \n",
      "    \n",
      "       viewshed_distance: Viewshed Distance (LinearUnit). Required parameter. \n",
      "    \n",
      "    gis: Optional, the GIS on which this tool runs. If not specified, the active GIS is used.\n",
      "    \n",
      "    \n",
      "    Returns: \n",
      "       viewshed_result - Viewshed Result as a FeatureSet\n",
      "    \n",
      "    See http://sampleserver1c.arcgisonline.com/arcgisoutput/Elevation_ESRI_Elevation_World/Viewshed.htm for additional help.\n",
      "\n"
     ]
    }
   ],
   "source": [
    "help(viewshed.viewshed)"
   ]
  },
  {
   "cell_type": "code",
   "execution_count": 23,
   "metadata": {
    "collapsed": true
   },
   "outputs": [],
   "source": [
    "from arcgis.geoprocessing import LinearUnit"
   ]
  },
  {
   "cell_type": "code",
   "execution_count": 24,
   "metadata": {
    "collapsed": false
   },
   "outputs": [
    {
     "name": "stdout",
     "output_type": "stream",
     "text": [
      "{\"distance\": 5, \"units\": \"esriMiles\"}\n"
     ]
    }
   ],
   "source": [
    "print(LinearUnit(5, 'Miles'))"
   ]
  },
  {
   "cell_type": "code",
   "execution_count": 25,
   "metadata": {
    "collapsed": false
   },
   "outputs": [
    {
     "name": "stderr",
     "output_type": "stream",
     "text": [
      "Widget Javascript not detected.  It may not be installed properly. Did you enable the widgetsnbextension? If not, then run \"jupyter nbextension enable --py --sys-prefix widgetsnbextension\"\n"
     ]
    }
   ],
   "source": [
    "from arcgis.gis import GIS\n",
    "gis = GIS()\n",
    "map = gis.map('San Francisco, CA')\n",
    "map"
   ]
  },
  {
   "cell_type": "code",
   "execution_count": 26,
   "metadata": {
    "collapsed": false
   },
   "outputs": [],
   "source": [
    "import arcgis\n",
    "arcgis.env.out_spatial_reference = 4326"
   ]
  },
  {
   "cell_type": "code",
   "execution_count": 27,
   "metadata": {
    "collapsed": false
   },
   "outputs": [],
   "source": [
    "from arcgis.features import Feature, FeatureSet\n",
    "def get_viewshed(m, g):\n",
    "    res = viewshed.viewshed(FeatureSet([Feature(g)]), \"5 Miles\")\n",
    "    m.draw(res)\n",
    "    \n",
    "map.on_click(get_viewshed)"
   ]
  },
  {
   "cell_type": "code",
   "execution_count": 28,
   "metadata": {
    "collapsed": true
   },
   "outputs": [],
   "source": [
    "from arcgis.features import Feature, FeatureSet\n",
    "\n",
    "def get_viewshed(m, g):\n",
    "    res = viewshed.viewshed(FeatureSet([Feature(g)]), LinearUnit(5, 'Miles')) #\"5 Miles\") #\n",
    "    m.draw(res)\n",
    "    \n",
    "map.on_click(get_viewshed)"
   ]
  },
  {
   "cell_type": "code",
   "execution_count": 29,
   "metadata": {
    "collapsed": true
   },
   "outputs": [],
   "source": [
    "d =  LinearUnit.from_dict({\"units\": \"esriMiles\", \"distance\": 5})"
   ]
  },
  {
   "cell_type": "code",
   "execution_count": 30,
   "metadata": {
    "collapsed": false
   },
   "outputs": [
    {
     "data": {
      "text/plain": [
       "{'distance': 5, 'units': 'Esrimiles'}"
      ]
     },
     "execution_count": 30,
     "metadata": {},
     "output_type": "execute_result"
    }
   ],
   "source": [
    "d.to_dict()"
   ]
  },
  {
   "cell_type": "code",
   "execution_count": 31,
   "metadata": {
    "collapsed": false
   },
   "outputs": [],
   "source": [
    "geosurtools = import_toolbox('http://tps.geosur.info/arcgis/rest/services/Models/GeoSUR_ElevationDerivatives/GPServer')"
   ]
  },
  {
   "cell_type": "code",
   "execution_count": 32,
   "metadata": {
    "collapsed": false
   },
   "outputs": [
    {
     "name": "stdout",
     "output_type": "stream",
     "text": [
      "Help on function slope_classificaiton:\n",
      "\n",
      "slope_classificaiton(input_spatial_extent:arcgis.features.feature.FeatureSet={'fields': [{'name': 'OBJECTID', 'alias': 'OBJECTID', 'type': 'esriFieldTypeOID'}, {'name': 'SHAPE_Length', 'alias': 'SHAPE_Length', 'type': 'esriFieldTypeDouble'}, {'name': 'SHAPE_Area', 'alias': 'SHAPE_Area', 'type': 'esriFieldTypeDouble'}], 'exceededTransferLimit': False, 'geometryType': 'esriGeometryPolygon', 'features': [], 'displayFieldName': '', 'spatialReference': {'latestWkid': 4326, 'wkid': 4326}}, input_elevation_dataset:str='GMTED 30 arc-second (Median)', unit_of_measure:str='Degree', z_factor:str='0.00003', slope_class_list:str='5,10,20,30,40,50', gis=None) -> tuple\n",
      "    Create a classified slope for selected elevation dataset\n",
      "    \n",
      "    Parameters:\n",
      "    \n",
      "       input_spatial_extent: Input Spatial Extent (FeatureSet). Required parameter.  test\n",
      "    \n",
      "       input_elevation_dataset: Input Elevation Dataset (str). Required parameter.  Input Elevation Dataset\n",
      "          Choice list:['SRTM 30m DEM', 'HydroSHEDS 90m DEM', 'GMTED 7.5 arc-second (Median)', 'GMTED 15 arc-second (Median)', 'GMTED 30 arc-second (Median)']\n",
      "    \n",
      "       unit_of_measure: Unit of Measure (str). Required parameter.  test\n",
      "    \n",
      "       z_factor: Z Factor (str). Required parameter.  test\n",
      "    \n",
      "       slope_class_list: Slope Class List (str). Required parameter.  test\n",
      "    \n",
      "    gis: Optional, the GIS on which this tool runs. If not specified, the active GIS is used.\n",
      "    \n",
      "    \n",
      "    Returns the following as a named tuple:\n",
      "       output_url_string - Output URL String as a str\n",
      "       output_raster_dataset - Output Raster Dataset as a RasterData\n",
      "       metadata_url_string - Metadata URL String as a str\n",
      "    \n",
      "    See http://tps.geosur.info/arcgis/rest/directories/arcgisoutput/Models/GeoSUR_ElevationDerivatives_GPServer/Models_GeoSUR_ElevationDerivatives/SlopeClss2.htm for additional help.\n",
      "\n"
     ]
    }
   ],
   "source": [
    "help(geosurtools.slope_classificaiton)"
   ]
  },
  {
   "cell_type": "code",
   "execution_count": 33,
   "metadata": {
    "collapsed": false
   },
   "outputs": [],
   "source": [
    "hotspots = import_toolbox('https://sampleserver6.arcgisonline.com/arcgis/rest/services/911CallsHotspot/GPServer')"
   ]
  },
  {
   "cell_type": "code",
   "execution_count": 34,
   "metadata": {
    "collapsed": false
   },
   "outputs": [
    {
     "name": "stdout",
     "output_type": "stream",
     "text": [
      "Help on function execute_911_calls_hotspot:\n",
      "\n",
      "execute_911_calls_hotspot(query:str='(\"DATE\" > date \\'1998-01-01 00:00:00\\' AND \"DATE\" < date \\'1998-01-31 00:00:00\\') AND (\"Day\" = \\'SUN\\' OR \"Day\"= \\'SAT\\')', gis=None) -> tuple\n",
      "    The tool filters 911 calls based on the query provided by the client and creates a hotspot raster based on the frequency of calls. The hotspot raster is created using the Spatial Statistics Hot Spot Analysis tool, which uses the Getis‐Ord Gi* algorithm. The Hotspots represent statistically significant spatialclusters of high and low 911 emergency calls in the study area. The red regions in the raster indicates high frequency and the blue regions represent low frequency of calls.\n",
      "    \n",
      "    Parameters:\n",
      "    \n",
      "       query: Query (str). Required parameter.  A SQL query string to filter calls. The query can be based on the day of the week such as SUN/MON/TUE/WED/THU/FRI/SAT (Field Name: Day) or a date range between Jan 1st ,1998 to May 31, 1998 (Field Name: Date). An example SQL query string is (\"DATE\" &gt; date '1998-01-01 00:00:00' AND \"DATE\" &lt; date '1998-01-31 00:00:00') AND (\"Day\" = 'SUN' OR \"Day\"= 'SAT')\n",
      "    \n",
      "    gis: Optional, the GIS on which this tool runs. If not specified, the active GIS is used.\n",
      "    \n",
      "    \n",
      "    Returns the following as a named tuple:\n",
      "       result_layer - Result Layer as a MapImageLayer\n",
      "       output_features - Output_Features as a dict\n",
      "       hotspot_raster - Hotspot Raster as a dict\n",
      "    \n",
      "    See https://sampleserver6.arcgisonline.com/arcgis/rest/directories/arcgisoutput/911CallsHotspot_GPServer/911CallsHotspot/911CallsHotspot.htm for additional help.\n",
      "\n"
     ]
    }
   ],
   "source": [
    "help(hotspots.execute_911_calls_hotspot)"
   ]
  },
  {
   "cell_type": "code",
   "execution_count": 35,
   "metadata": {
    "collapsed": false
   },
   "outputs": [],
   "source": [
    "result_layer, output_features, hotspot_raster = hotspots.execute_911_calls_hotspot()"
   ]
  },
  {
   "cell_type": "code",
   "execution_count": 36,
   "metadata": {
    "collapsed": false
   },
   "outputs": [
    {
     "data": {
      "text/plain": [
       "<MapImageLayer url:\"https://sampleserver6.arcgisonline.com/arcgis/rest/services/911CallsHotspot/MapServer/jobs/j72761c46ae9743cebb0c594802d4bb1a\">"
      ]
     },
     "execution_count": 36,
     "metadata": {},
     "output_type": "execute_result"
    }
   ],
   "source": [
    "result_layer"
   ]
  },
  {
   "cell_type": "code",
   "execution_count": 37,
   "metadata": {
    "collapsed": false
   },
   "outputs": [
    {
     "data": {
      "text/plain": [
       "[<FeatureLayer url:\"https://sampleserver6.arcgisonline.com/arcgis/rest/services/911CallsHotspot/MapServer/jobs/j72761c46ae9743cebb0c594802d4bb1a/0\">,\n",
       " <FeatureLayer url:\"https://sampleserver6.arcgisonline.com/arcgis/rest/services/911CallsHotspot/MapServer/jobs/j72761c46ae9743cebb0c594802d4bb1a/1\">]"
      ]
     },
     "execution_count": 37,
     "metadata": {},
     "output_type": "execute_result"
    }
   ],
   "source": [
    "result_layer.layers"
   ]
  },
  {
   "cell_type": "code",
   "execution_count": 38,
   "metadata": {
    "collapsed": false
   },
   "outputs": [
    {
     "data": {
      "text/plain": [
       "{'mapImage': {'extent': {'spatialReference': {'latestWkid': 102726,\n",
       "    'wkid': 102726},\n",
       "   'xmax': 7628948.291202795,\n",
       "   'xmin': 7586498.220384206,\n",
       "   'ymax': 687779.355638728,\n",
       "   'ymin': 645329.284820139},\n",
       "  'height': 400,\n",
       "  'href': 'https://sampleserver6.arcgisonline.com/arcgis/rest/directories/arcgisoutput/911CallsHotspot_GPServer/911CallsHotspot_MapServer/_ags_map33f8053c6c1e4923aa9ef05566e8e185.png',\n",
       "  'scale': 122256.20395753652,\n",
       "  'width': 400}}"
      ]
     },
     "execution_count": 38,
     "metadata": {},
     "output_type": "execute_result"
    }
   ],
   "source": [
    "hotspot_raster"
   ]
  },
  {
   "cell_type": "code",
   "execution_count": 39,
   "metadata": {
    "collapsed": false
   },
   "outputs": [
    {
     "name": "stderr",
     "output_type": "stream",
     "text": [
      "Failed to process input extent. Verify that client                       has a defined coordinate system.\n",
      "Failed to execute (TPS Slope Classificaiton).\n",
      "Failed to execute (Slope Classificaiton).\n",
      "Failed to execute (Slope Classificaiton).\n",
      "Failed.\n"
     ]
    },
    {
     "ename": "Exception",
     "evalue": "Job failed.",
     "output_type": "error",
     "traceback": [
      "\u001b[0;31m---------------------------------------------------------------------------\u001b[0m",
      "\u001b[0;31mException\u001b[0m                                 Traceback (most recent call last)",
      "\u001b[0;32m<ipython-input-39-542d976545df>\u001b[0m in \u001b[0;36m<module>\u001b[0;34m()\u001b[0m\n\u001b[0;32m----> 1\u001b[0;31m \u001b[0mgeosurtools\u001b[0m\u001b[0;34m.\u001b[0m\u001b[0mslope_classificaiton\u001b[0m\u001b[0;34m(\u001b[0m\u001b[0;34m)\u001b[0m\u001b[0;34m\u001b[0m\u001b[0m\n\u001b[0m",
      "\u001b[0;32m<string>\u001b[0m in \u001b[0;36mslope_classificaiton\u001b[0;34m(input_spatial_extent, input_elevation_dataset, unit_of_measure, z_factor, slope_class_list, gis)\u001b[0m\n",
      "\u001b[0;32mC:\\xc\\GitHub\\geosaurus\\src\\arcgis\\geoprocessing\\_support.py\u001b[0m in \u001b[0;36m_execute_gp_tool\u001b[0;34m(gis, task_name, params, param_db, return_values, use_async, url)\u001b[0m\n\u001b[1;32m    141\u001b[0m \u001b[0;34m\u001b[0m\u001b[0m\n\u001b[1;32m    142\u001b[0m         \u001b[0mjob_info\u001b[0m \u001b[0;34m=\u001b[0m \u001b[0mgptool\u001b[0m\u001b[0;34m.\u001b[0m\u001b[0m_con\u001b[0m\u001b[0;34m.\u001b[0m\u001b[0mpost\u001b[0m\u001b[0;34m(\u001b[0m\u001b[0msubmit_url\u001b[0m\u001b[0;34m,\u001b[0m \u001b[0mgp_params\u001b[0m\u001b[0;34m,\u001b[0m \u001b[0mtoken\u001b[0m\u001b[0;34m=\u001b[0m\u001b[0mgptool\u001b[0m\u001b[0;34m.\u001b[0m\u001b[0m_token\u001b[0m\u001b[0;34m)\u001b[0m\u001b[0;34m\u001b[0m\u001b[0m\n\u001b[0;32m--> 143\u001b[0;31m         \u001b[0mjob_info\u001b[0m \u001b[0;34m=\u001b[0m \u001b[0m_analysis_job_status\u001b[0m\u001b[0;34m(\u001b[0m\u001b[0mgptool\u001b[0m\u001b[0;34m,\u001b[0m \u001b[0mtask_url\u001b[0m\u001b[0;34m,\u001b[0m \u001b[0mjob_info\u001b[0m\u001b[0;34m)\u001b[0m\u001b[0;34m\u001b[0m\u001b[0m\n\u001b[0m\u001b[1;32m    144\u001b[0m         \u001b[0mresp\u001b[0m \u001b[0;34m=\u001b[0m \u001b[0m_analysis_job_results\u001b[0m\u001b[0;34m(\u001b[0m\u001b[0mgptool\u001b[0m\u001b[0;34m,\u001b[0m \u001b[0mtask_url\u001b[0m\u001b[0;34m,\u001b[0m \u001b[0mjob_info\u001b[0m\u001b[0;34m)\u001b[0m\u001b[0;34m\u001b[0m\u001b[0m\n\u001b[1;32m    145\u001b[0m \u001b[0;34m\u001b[0m\u001b[0m\n",
      "\u001b[0;32mC:\\xc\\GitHub\\geosaurus\\src\\arcgis\\geoprocessing\\_support.py\u001b[0m in \u001b[0;36m_analysis_job_status\u001b[0;34m(gptool, task_url, job_info)\u001b[0m\n\u001b[1;32m     56\u001b[0m \u001b[0;34m\u001b[0m\u001b[0m\n\u001b[1;32m     57\u001b[0m                 \u001b[0;32mif\u001b[0m \u001b[0mjob_response\u001b[0m\u001b[0;34m.\u001b[0m\u001b[0mget\u001b[0m\u001b[0;34m(\u001b[0m\u001b[0;34m\"jobStatus\"\u001b[0m\u001b[0;34m)\u001b[0m \u001b[0;34m==\u001b[0m \u001b[0;34m\"esriJobFailed\"\u001b[0m\u001b[0;34m:\u001b[0m\u001b[0;34m\u001b[0m\u001b[0m\n\u001b[0;32m---> 58\u001b[0;31m                     \u001b[0;32mraise\u001b[0m \u001b[0mException\u001b[0m\u001b[0;34m(\u001b[0m\u001b[0;34m\"Job failed.\"\u001b[0m\u001b[0;34m)\u001b[0m\u001b[0;34m\u001b[0m\u001b[0m\n\u001b[0m\u001b[1;32m     59\u001b[0m                 \u001b[0;32melif\u001b[0m \u001b[0mjob_response\u001b[0m\u001b[0;34m.\u001b[0m\u001b[0mget\u001b[0m\u001b[0;34m(\u001b[0m\u001b[0;34m\"jobStatus\"\u001b[0m\u001b[0;34m)\u001b[0m \u001b[0;34m==\u001b[0m \u001b[0;34m\"esriJobCancelled\"\u001b[0m\u001b[0;34m:\u001b[0m\u001b[0;34m\u001b[0m\u001b[0m\n\u001b[1;32m     60\u001b[0m                     \u001b[0;32mraise\u001b[0m \u001b[0mException\u001b[0m\u001b[0;34m(\u001b[0m\u001b[0;34m\"Job cancelled.\"\u001b[0m\u001b[0;34m)\u001b[0m\u001b[0;34m\u001b[0m\u001b[0m\n",
      "\u001b[0;31mException\u001b[0m: Job failed."
     ]
    }
   ],
   "source": [
    "geosurtools.slope_classificaiton()"
   ]
  },
  {
   "cell_type": "code",
   "execution_count": 40,
   "metadata": {
    "collapsed": true
   },
   "outputs": [],
   "source": [
    "import logging\n",
    "import sys\n",
    "\n",
    "# Create logger\n",
    "logger = logging.getLogger()\n",
    "logger.setLevel(logging.INFO)\n",
    "\n",
    "# Create STDERR handler\n",
    "handler = logging.StreamHandler(sys.stderr)\n",
    "# ch.setLevel(logging.DEBUG)\n",
    "\n",
    "# Create formatter and add it to the handler\n",
    "formatter = logging.Formatter('%(name)s - %(levelname)s - %(message)s')\n",
    "handler.setFormatter(formatter)\n",
    "\n",
    "# Set STDERR handler as the only handler \n",
    "logger.handlers = [handler]"
   ]
  },
  {
   "cell_type": "code",
   "execution_count": 41,
   "metadata": {
    "collapsed": false
   },
   "outputs": [
    {
     "name": "stderr",
     "output_type": "stream",
     "text": [
      "arcgis.geoprocessing._support - INFO - Submitted.\n",
      "arcgis.geoprocessing._support - INFO - Executing...\n",
      "arcgis.geoprocessing._support - INFO - Executing (Slope Classificaiton): SlopeClss2 \"Feature Set\" \"GMTED 30 arc-second (Median)\" Degree 3.0E-5 5,10,20,30,40,50\n",
      "arcgis.geoprocessing._support - INFO - Start Time: Thu Nov 10 05:13:40 2016\n",
      "arcgis.geoprocessing._support - INFO - Executing (Slope Classificaiton): SlopeClss2 \"Feature Set\" \"GeoSUR_ElevationDerivatives\\GMTED 30 arc-second (Median)\" Degree 3.0E-5 5,10,20,30,40,50\n",
      "arcgis.geoprocessing._support - INFO - Start Time: Thu Nov 10 05:13:40 2016\n",
      "arcgis.geoprocessing._support - INFO - Executing (TPS Slope Classificaiton): TPSSlopeClass2 \"Feature Set\" \"GeoSUR_ElevationDerivatives\\GMTED 30 arc-second (Median)\" Degree 3.0E-5 5,10,20,30,40,50\n",
      "arcgis.geoprocessing._support - INFO - Start Time: Thu Nov 10 05:13:41 2016\n",
      "arcgis.geoprocessing._support - INFO - Running script TPSSlopeClass2...\n",
      "arcgis.geoprocessing._support - INFO - \n",
      "D:\\geosur_ags\\open\\gp\\sharedtools\\scripts\n",
      "\n",
      "arcgis.geoprocessing._support - INFO - \n",
      "D:\\geosur_ags\\open\\gp\\sharedtools\\scripts\\tps_slopeclss.xml\n",
      "\n",
      "arcgis.geoprocessing._support - INFO - maxPixels: 120000000\n",
      "arcgis.geoprocessing._support - INFO - \n",
      "Spatial Reference Type: Geographic\n",
      "arcgis.geoprocessing._support - INFO - Raster Input: GeoSUR_ElevationDerivatives\\GMTED 30 arc-second (Median)\n",
      "arcgis.geoprocessing._support - INFO - Cell Size x:0.008333 y:0.008333\n",
      "arcgis.geoprocessing._support - INFO - Pixel Width: -1\n",
      "arcgis.geoprocessing._support - INFO - Pixel Height: -1\n",
      "arcgis.geoprocessing._support - INFO - Pixels to be processed: 1\n",
      "\n",
      "arcgis.geoprocessing._support - WARNING - (1.00 - 120000000.00) / 120000000 \n",
      "arcgis.geoprocessing._support - ERROR - Failed to process input extent. Verify that client                       has a defined coordinate system.\n",
      "Failed to process input extent. Verify that client                       has a defined coordinate system.\n",
      "arcgis.geoprocessing._support - INFO - Completed script TPSSlopeClass2...\n",
      "arcgis.geoprocessing._support - ERROR - Failed to execute (TPS Slope Classificaiton).\n",
      "Failed to execute (TPS Slope Classificaiton).\n",
      "arcgis.geoprocessing._support - INFO - Failed at Thu Nov 10 05:13:41 2016 (Elapsed Time: 0.23 seconds)\n",
      "arcgis.geoprocessing._support - ERROR - Failed to execute (Slope Classificaiton).\n",
      "Failed to execute (Slope Classificaiton).\n",
      "arcgis.geoprocessing._support - INFO - Failed at Thu Nov 10 05:13:41 2016 (Elapsed Time: 0.31 seconds)\n",
      "arcgis.geoprocessing._support - ERROR - Failed to execute (Slope Classificaiton).\n",
      "Failed to execute (Slope Classificaiton).\n",
      "arcgis.geoprocessing._support - INFO - Failed at Thu Nov 10 05:13:41 2016 (Elapsed Time: 0.35 seconds)\n",
      "arcgis.geoprocessing._support - ERROR - Failed.\n",
      "Failed.\n"
     ]
    },
    {
     "ename": "Exception",
     "evalue": "Job failed.",
     "output_type": "error",
     "traceback": [
      "\u001b[0;31m---------------------------------------------------------------------------\u001b[0m",
      "\u001b[0;31mException\u001b[0m                                 Traceback (most recent call last)",
      "\u001b[0;32m<ipython-input-41-542d976545df>\u001b[0m in \u001b[0;36m<module>\u001b[0;34m()\u001b[0m\n\u001b[0;32m----> 1\u001b[0;31m \u001b[0mgeosurtools\u001b[0m\u001b[0;34m.\u001b[0m\u001b[0mslope_classificaiton\u001b[0m\u001b[0;34m(\u001b[0m\u001b[0;34m)\u001b[0m\u001b[0;34m\u001b[0m\u001b[0m\n\u001b[0m",
      "\u001b[0;32m<string>\u001b[0m in \u001b[0;36mslope_classificaiton\u001b[0;34m(input_spatial_extent, input_elevation_dataset, unit_of_measure, z_factor, slope_class_list, gis)\u001b[0m\n",
      "\u001b[0;32mC:\\xc\\GitHub\\geosaurus\\src\\arcgis\\geoprocessing\\_support.py\u001b[0m in \u001b[0;36m_execute_gp_tool\u001b[0;34m(gis, task_name, params, param_db, return_values, use_async, url)\u001b[0m\n\u001b[1;32m    141\u001b[0m \u001b[0;34m\u001b[0m\u001b[0m\n\u001b[1;32m    142\u001b[0m         \u001b[0mjob_info\u001b[0m \u001b[0;34m=\u001b[0m \u001b[0mgptool\u001b[0m\u001b[0;34m.\u001b[0m\u001b[0m_con\u001b[0m\u001b[0;34m.\u001b[0m\u001b[0mpost\u001b[0m\u001b[0;34m(\u001b[0m\u001b[0msubmit_url\u001b[0m\u001b[0;34m,\u001b[0m \u001b[0mgp_params\u001b[0m\u001b[0;34m,\u001b[0m \u001b[0mtoken\u001b[0m\u001b[0;34m=\u001b[0m\u001b[0mgptool\u001b[0m\u001b[0;34m.\u001b[0m\u001b[0m_token\u001b[0m\u001b[0;34m)\u001b[0m\u001b[0;34m\u001b[0m\u001b[0m\n\u001b[0;32m--> 143\u001b[0;31m         \u001b[0mjob_info\u001b[0m \u001b[0;34m=\u001b[0m \u001b[0m_analysis_job_status\u001b[0m\u001b[0;34m(\u001b[0m\u001b[0mgptool\u001b[0m\u001b[0;34m,\u001b[0m \u001b[0mtask_url\u001b[0m\u001b[0;34m,\u001b[0m \u001b[0mjob_info\u001b[0m\u001b[0;34m)\u001b[0m\u001b[0;34m\u001b[0m\u001b[0m\n\u001b[0m\u001b[1;32m    144\u001b[0m         \u001b[0mresp\u001b[0m \u001b[0;34m=\u001b[0m \u001b[0m_analysis_job_results\u001b[0m\u001b[0;34m(\u001b[0m\u001b[0mgptool\u001b[0m\u001b[0;34m,\u001b[0m \u001b[0mtask_url\u001b[0m\u001b[0;34m,\u001b[0m \u001b[0mjob_info\u001b[0m\u001b[0;34m)\u001b[0m\u001b[0;34m\u001b[0m\u001b[0m\n\u001b[1;32m    145\u001b[0m \u001b[0;34m\u001b[0m\u001b[0m\n",
      "\u001b[0;32mC:\\xc\\GitHub\\geosaurus\\src\\arcgis\\geoprocessing\\_support.py\u001b[0m in \u001b[0;36m_analysis_job_status\u001b[0;34m(gptool, task_url, job_info)\u001b[0m\n\u001b[1;32m     56\u001b[0m \u001b[0;34m\u001b[0m\u001b[0m\n\u001b[1;32m     57\u001b[0m                 \u001b[0;32mif\u001b[0m \u001b[0mjob_response\u001b[0m\u001b[0;34m.\u001b[0m\u001b[0mget\u001b[0m\u001b[0;34m(\u001b[0m\u001b[0;34m\"jobStatus\"\u001b[0m\u001b[0;34m)\u001b[0m \u001b[0;34m==\u001b[0m \u001b[0;34m\"esriJobFailed\"\u001b[0m\u001b[0;34m:\u001b[0m\u001b[0;34m\u001b[0m\u001b[0m\n\u001b[0;32m---> 58\u001b[0;31m                     \u001b[0;32mraise\u001b[0m \u001b[0mException\u001b[0m\u001b[0;34m(\u001b[0m\u001b[0;34m\"Job failed.\"\u001b[0m\u001b[0;34m)\u001b[0m\u001b[0;34m\u001b[0m\u001b[0m\n\u001b[0m\u001b[1;32m     59\u001b[0m                 \u001b[0;32melif\u001b[0m \u001b[0mjob_response\u001b[0m\u001b[0;34m.\u001b[0m\u001b[0mget\u001b[0m\u001b[0;34m(\u001b[0m\u001b[0;34m\"jobStatus\"\u001b[0m\u001b[0;34m)\u001b[0m \u001b[0;34m==\u001b[0m \u001b[0;34m\"esriJobCancelled\"\u001b[0m\u001b[0;34m:\u001b[0m\u001b[0;34m\u001b[0m\u001b[0m\n\u001b[1;32m     60\u001b[0m                     \u001b[0;32mraise\u001b[0m \u001b[0mException\u001b[0m\u001b[0;34m(\u001b[0m\u001b[0;34m\"Job cancelled.\"\u001b[0m\u001b[0;34m)\u001b[0m\u001b[0;34m\u001b[0m\u001b[0m\n",
      "\u001b[0;31mException\u001b[0m: Job failed."
     ]
    }
   ],
   "source": [
    "geosurtools.slope_classificaiton()"
   ]
  },
  {
   "cell_type": "code",
   "execution_count": null,
   "metadata": {
    "collapsed": true
   },
   "outputs": [],
   "source": []
  }
 ],
 "metadata": {
  "anaconda-cloud": {},
  "kernelspec": {
   "display_name": "Python [default]",
   "language": "python",
   "name": "python3"
  },
  "language_info": {
   "codemirror_mode": {
    "name": "ipython",
    "version": 3
   },
   "file_extension": ".py",
   "mimetype": "text/x-python",
   "name": "python",
   "nbconvert_exporter": "python",
   "pygments_lexer": "ipython3",
   "version": "3.5.2"
  }
 },
 "nbformat": 4,
 "nbformat_minor": 0
}
