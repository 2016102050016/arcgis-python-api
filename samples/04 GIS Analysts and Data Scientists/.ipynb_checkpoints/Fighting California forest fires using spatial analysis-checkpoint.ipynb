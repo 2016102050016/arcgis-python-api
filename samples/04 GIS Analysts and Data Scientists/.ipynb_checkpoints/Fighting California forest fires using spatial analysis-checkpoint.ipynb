{
 "cells": [
  {
   "cell_type": "markdown",
   "metadata": {},
   "source": [
    "# Fighting California forest fires using spatial analysis\n",
    "\n",
    "The state of California has had a dangerous fire season in 2015 and 2016. A standard procedure while fighting these fires is identifying facilities that are at risk and evacuating them. Tasks such as this can be accomplished easily using **spatial analysis** tools available on your GIS. Spatial analysis tools allow overlaying the extent of fire and the locations of the facilities on a map and identifying the ones that fall within the fire's extent.\n",
    "\n",
    "Thus, this sample demonstrates the application spatial analysis tools such as **buffer and overlay**.\n",
    "\n",
    "## Data preparation\n",
    "To run through this sample, we need a web feature layer with 2 layers, one representing the extent of fire and another with the locations of facilities. To accomplish this, let us publish a zipped file geodatabase (.fgdb) containing this data. To learn more about publishing, see the samples under \"05 Content Publishers\" section."
   ]
  },
  {
   "cell_type": "code",
   "execution_count": 1,
   "metadata": {
    "collapsed": true
   },
   "outputs": [],
   "source": [
    "# Create a GIS connection\n",
    "from arcgis import GIS\n",
    "\n",
    "gis = GIS(\"https://deldev.maps.arcgis.com\",\"demo_deldev\",\"P@ssword123\")"
   ]
  },
  {
   "cell_type": "code",
   "execution_count": 16,
   "metadata": {
    "collapsed": true
   },
   "outputs": [],
   "source": [
    "# Upload the zipped file geodatabase and add it as an item\n",
    "gdb_file_path = \".\\data\\CA_Fires_Facilities.gdb.zip\"\n",
    "item_properties = {'title':'California fires'}\n",
    "added_item = gis.content.add(item_properties, gdb_file_path)"
   ]
  },
  {
   "cell_type": "code",
   "execution_count": 17,
   "metadata": {
    "collapsed": false
   },
   "outputs": [
    {
     "data": {
      "text/html": [
       "<div class=\"item_container\" style=\"height: auto; overflow: hidden; border: 1px solid #cfcfcf; border-radius: 2px; background: #f6fafa; line-height: 1.21429em; padding: 10px;\">\n",
       "                    <div class=\"item_left\" style=\"width: 210px; float: left;\">\n",
       "                       <a href='https://deldev.maps.arcgis.com/home/item.html?id=147474be70ea45cbbae10f011cfadb43' target='_blank'>\n",
       "                        <img src='http://static.arcgis.com/images/desktopapp.png' class=\"itemThumbnail\">\n",
       "                       </a>\n",
       "                    </div>\n",
       "\n",
       "                    <div class=\"item_right\"     style=\"float: none; width: auto; overflow: hidden;\">\n",
       "                        <a href='https://deldev.maps.arcgis.com/home/item.html?id=147474be70ea45cbbae10f011cfadb43' target='_blank'><b>California fires</b>\n",
       "                        </a>\n",
       "                        <br/><img src='https://deldev.maps.arcgis.com/home/js/jsapi/esri/css/images/item_type_icons/layers16.png' style=\"vertical-align:middle;\">File Geodatabase by demo_deldev\n",
       "                        <br/>Last Modified: October 15, 2016\n",
       "                        <br/>0 comments, 0 views\n",
       "                    </div>\n",
       "                </div>\n",
       "                "
      ],
      "text/plain": [
       "<Item title:\"California fires\" type:File Geodatabase owner:demo_deldev>"
      ]
     },
     "execution_count": 17,
     "metadata": {},
     "output_type": "execute_result"
    }
   ],
   "source": [
    "added_item"
   ]
  },
  {
   "cell_type": "code",
   "execution_count": 18,
   "metadata": {
    "collapsed": false
   },
   "outputs": [
    {
     "data": {
      "text/html": [
       "<div class=\"item_container\" style=\"height: auto; overflow: hidden; border: 1px solid #cfcfcf; border-radius: 2px; background: #f6fafa; line-height: 1.21429em; padding: 10px;\">\n",
       "                    <div class=\"item_left\" style=\"width: 210px; float: left;\">\n",
       "                       <a href='https://deldev.maps.arcgis.com/home/item.html?id=f895e4ef0107465186b6050e3a590e3d' target='_blank'>\n",
       "                        <img src='http://static.arcgis.com/images/desktopapp.png' class=\"itemThumbnail\">\n",
       "                       </a>\n",
       "                    </div>\n",
       "\n",
       "                    <div class=\"item_right\"     style=\"float: none; width: auto; overflow: hidden;\">\n",
       "                        <a href='https://deldev.maps.arcgis.com/home/item.html?id=f895e4ef0107465186b6050e3a590e3d' target='_blank'><b>California fires</b>\n",
       "                        </a>\n",
       "                        <br/><img src='https://deldev.maps.arcgis.com/home/js/jsapi/esri/css/images/item_type_icons/featureshosted16.png' style=\"vertical-align:middle;\">Feature Service by demo_deldev\n",
       "                        <br/>Last Modified: October 15, 2016\n",
       "                        <br/>0 comments, 0 views\n",
       "                    </div>\n",
       "                </div>\n",
       "                "
      ],
      "text/plain": [
       "<Item title:\"California fires\" type:Feature Service owner:demo_deldev>"
      ]
     },
     "execution_count": 18,
     "metadata": {},
     "output_type": "execute_result"
    }
   ],
   "source": [
    "# Publish as a web layer\n",
    "CA_fires_item = added_item.publish()\n",
    "CA_fires_item"
   ]
  },
  {
   "cell_type": "code",
   "execution_count": 18,
   "metadata": {
    "collapsed": false
   },
   "outputs": [
    {
     "data": {
      "text/html": [
       "<div class=\"item_container\" style=\"height: auto; overflow: hidden; border: 1px solid #cfcfcf; border-radius: 2px; background: #f6fafa; line-height: 1.21429em; padding: 10px;\">\n",
       "                    <div class=\"item_left\" style=\"width: 210px; float: left;\">\n",
       "                       <a href='https://deldev.maps.arcgis.com/home/item.html?id=f895e4ef0107465186b6050e3a590e3d' target='_blank'>\n",
       "                        <img src='http://static.arcgis.com/images/desktopapp.png' class=\"itemThumbnail\">\n",
       "                       </a>\n",
       "                    </div>\n",
       "\n",
       "                    <div class=\"item_right\"     style=\"float: none; width: auto; overflow: hidden;\">\n",
       "                        <a href='https://deldev.maps.arcgis.com/home/item.html?id=f895e4ef0107465186b6050e3a590e3d' target='_blank'><b>California fires</b>\n",
       "                        </a>\n",
       "                        <br/><img src='https://deldev.maps.arcgis.com/home/js/jsapi/esri/css/images/item_type_icons/featureshosted16.png' style=\"vertical-align:middle;\">Feature Service by demo_deldev\n",
       "                        <br/>Last Modified: October 15, 2016\n",
       "                        <br/>0 comments, 0 views\n",
       "                    </div>\n",
       "                </div>\n",
       "                "
      ],
      "text/plain": [
       "<Item title:\"California fires\" type:Feature Service owner:demo_deldev>"
      ]
     },
     "execution_count": 18,
     "metadata": {},
     "output_type": "execute_result"
    }
   ],
   "source": [
    "CA_fires_item = gis.content.search('title:California_fires', 'Feature Service')[0]\n",
    "CA_fires_item"
   ]
  },
  {
   "cell_type": "code",
   "execution_count": 19,
   "metadata": {
    "collapsed": false
   },
   "outputs": [
    {
     "name": "stdout",
     "output_type": "stream",
     "text": [
      "SoCal_Infrastructure\n",
      "active_fires\n"
     ]
    }
   ],
   "source": [
    "for layer in CA_fires_item.layers:\n",
    "    print(layer.properties.name)"
   ]
  },
  {
   "cell_type": "markdown",
   "metadata": {},
   "source": [
    "## Visualize the fire data\n",
    "Let us create a map widget and display the fire datasets."
   ]
  },
  {
   "cell_type": "code",
   "execution_count": 20,
   "metadata": {
    "collapsed": false
   },
   "outputs": [],
   "source": [
    "map1 = gis.map(\"San Bernardino, CA\", 8)\n",
    "map1"
   ]
  },
  {
   "cell_type": "code",
   "execution_count": 21,
   "metadata": {
    "collapsed": true
   },
   "outputs": [],
   "source": [
    "map1.add_layer(CA_fires_item)"
   ]
  },
  {
   "cell_type": "markdown",
   "metadata": {
    "collapsed": true
   },
   "source": [
    "The feature layer we just published contains two layers, the first is a point layer representing the facility locations and second is a polygon layer representing the fire boundaries. As you interact with the map widget, you can notice that a few facilities are in the vicinity of fires. The rest of the sample shows how to extract these facilities programmatically using GIS spatial analysis. "
   ]
  },
  {
   "cell_type": "markdown",
   "metadata": {},
   "source": [
    "## Create a buffer of 4 miles around fire boundaries\n",
    "To minimize the risk, let us create a buffer of 4 miles around the fire boundaries and consider all facilities that fall within this are at risk. The process of buffer expands the feature's boundaries in all directions. To learn more about buffers, refer to the [tool documentation](http://desktop.arcgis.com/en/arcmap/latest/tools/analysis-toolbox/buffer.htm). To learn more about the REST API used for the tool, refer to the [API documentation](https://developers.arcgis.com/rest/analysis/api-reference/create-buffers.htm)\n",
    "\n",
    "To perform buffers, we use the **`FeatureAnalysisTools`** class available from **`tools`** module. We access this via `featureanalysis` property of the `tools` property of your `GIS` object. \n",
    "\n",
    "As an input to the tool, we provide a **`FeatureLayer`** object created from the first layer of the web layer we just published. `FeatureLayer` objects can be accessed from the `layers` property of the **`Feature Service Item`** object. "
   ]
  },
  {
   "cell_type": "code",
   "execution_count": 22,
   "metadata": {
    "collapsed": false
   },
   "outputs": [],
   "source": [
    "fire_boundaries_layer = CA_fires_item.layers[1]\n",
    "facility_location_layer = CA_fires_item.layers[0]"
   ]
  },
  {
   "cell_type": "code",
   "execution_count": 25,
   "metadata": {
    "collapsed": false
   },
   "outputs": [],
   "source": [
    "# Access the tools via the GIS object.\n",
    "import datetime\n",
    "timestamp = '{:%Y_%m_%d_%H_%M_%S}'.format(datetime.datetime.now())\n",
    "\n",
    "fire_buffers = gis.tools.featureanalysis.create_buffers(fire_boundaries_layer,\n",
    "                                                    distances = [4],\n",
    "                                                    units = \"miles\",\n",
    "                                                    output_name = \"California_fire_buffers_\" + timestamp)"
   ]
  },
  {
   "cell_type": "code",
   "execution_count": 26,
   "metadata": {
    "collapsed": false
   },
   "outputs": [
    {
     "data": {
      "text/html": [
       "<div class=\"item_container\" style=\"height: auto; overflow: hidden; border: 1px solid #cfcfcf; border-radius: 2px; background: #f6fafa; line-height: 1.21429em; padding: 10px;\">\n",
       "                    <div class=\"item_left\" style=\"width: 210px; float: left;\">\n",
       "                       <a href='https://deldev.maps.arcgis.com/home/item.html?id=d94dc15cef9b480d959ea1a0b0ab5e10' target='_blank'>\n",
       "                        <img src='http://static.arcgis.com/images/desktopapp.png' class=\"itemThumbnail\">\n",
       "                       </a>\n",
       "                    </div>\n",
       "\n",
       "                    <div class=\"item_right\"     style=\"float: none; width: auto; overflow: hidden;\">\n",
       "                        <a href='https://deldev.maps.arcgis.com/home/item.html?id=d94dc15cef9b480d959ea1a0b0ab5e10' target='_blank'><b>California_fire_buffers_2016_10_15_10_11_37</b>\n",
       "                        </a>\n",
       "                        <br/><img src='https://deldev.maps.arcgis.com/home/js/jsapi/esri/css/images/item_type_icons/featureshosted16.png' style=\"vertical-align:middle;\">Feature Service by demo_deldev\n",
       "                        <br/>Last Modified: October 15, 2016\n",
       "                        <br/>0 comments, 0 views\n",
       "                    </div>\n",
       "                </div>\n",
       "                "
      ],
      "text/plain": [
       "<Item title:\"California_fire_buffers_2016_10_15_10_11_37\" type:Feature Service owner:demo_deldev>"
      ]
     },
     "execution_count": 26,
     "metadata": {},
     "output_type": "execute_result"
    }
   ],
   "source": [
    "fire_buffers"
   ]
  },
  {
   "cell_type": "markdown",
   "metadata": {},
   "source": [
    "Since the `output_name` parameter was specified, the tool created a new feature service for output. We can visualize this by adding it to a new map."
   ]
  },
  {
   "cell_type": "code",
   "execution_count": 27,
   "metadata": {
    "collapsed": true
   },
   "outputs": [],
   "source": [
    "map2 = gis.map(\"San Bernardino, CA\", 8)\n",
    "map2"
   ]
  },
  {
   "cell_type": "code",
   "execution_count": 28,
   "metadata": {
    "collapsed": false
   },
   "outputs": [],
   "source": [
    "map2.add_layer(fire_buffers)"
   ]
  },
  {
   "cell_type": "markdown",
   "metadata": {},
   "source": [
    "To illustrate the effect of buffers, let us add the original layers to the map. Now we can observe more facilities falling within the buffered area."
   ]
  },
  {
   "cell_type": "code",
   "execution_count": 29,
   "metadata": {
    "collapsed": true
   },
   "outputs": [],
   "source": [
    "map2.add_layer(CA_fires_item)"
   ]
  },
  {
   "cell_type": "markdown",
   "metadata": {},
   "source": [
    "## Perform overlay analysis to extract facilities that fall within the fire buffers\n",
    "\n",
    "To programattically extract the locations that fall within the fire buffers, we use **`overlay_layers`** tool under `FeatureAnalysisTools` class just like we did for `create_buffers` tool earlier. The overlay layers tool supports a few overlay types, here we use **`Intersect`** as we need to perform a spatial intersection to identify the facilities that are located within the fire boundaries. To learn more about this operation, refer to the [documentation](https://developers.arcgis.com/rest/analysis/api-reference/overlay-layers.htm)."
   ]
  },
  {
   "cell_type": "code",
   "execution_count": 30,
   "metadata": {
    "collapsed": false
   },
   "outputs": [
    {
     "name": "stdout",
     "output_type": "stream",
     "text": [
      "{\"code\" : 0, \"messageCode\":\"GPEXT_017\",\"message\": \"Service At_risk_infrastructure already exists.\", \"params\": {\"name\" : \"At_risk_infrastructure\"}}\n",
      "{\"messageCode\": \"AO_100013\", \"message\": \"OverlayLayers failed.\"}\n",
      "Failed to execute (OverlayLayers).\n",
      "Failed.\n"
     ]
    },
    {
     "ename": "Exception",
     "evalue": "Job failed.",
     "output_type": "error",
     "traceback": [
      "\u001b[0;31m---------------------------------------------------------------------------\u001b[0m",
      "\u001b[0;31mException\u001b[0m                                 Traceback (most recent call last)",
      "\u001b[0;32m<ipython-input-30-e0d3c04e7370>\u001b[0m in \u001b[0;36m<module>\u001b[0;34m()\u001b[0m\n\u001b[1;32m      3\u001b[0m                                                      \u001b[0moverlay_layer\u001b[0m \u001b[0;34m=\u001b[0m \u001b[0mfacility_location_layer\u001b[0m\u001b[0;34m,\u001b[0m\u001b[0;34m\u001b[0m\u001b[0m\n\u001b[1;32m      4\u001b[0m                                                      \u001b[0moverlay_type\u001b[0m \u001b[0;34m=\u001b[0m \u001b[0;34m\"Intersect\"\u001b[0m\u001b[0;34m,\u001b[0m\u001b[0;34m\u001b[0m\u001b[0m\n\u001b[0;32m----> 5\u001b[0;31m                                                      output_name = \"At_risk_infrastructure\")\n\u001b[0m",
      "\u001b[0;32mC:\\xc\\GitHub\\geosaurus\\src\\arcgis\\tools.py\u001b[0m in \u001b[0;36moverlay_layers\u001b[0;34m(self, input_layer, overlay_layer, overlay_type, snap_to_input, output_type, tolerance, output_name, context)\u001b[0m\n\u001b[1;32m   1622\u001b[0m         \u001b[0mtask_url\u001b[0m\u001b[0;34m,\u001b[0m \u001b[0mjob_info\u001b[0m \u001b[0;34m=\u001b[0m \u001b[0msuper\u001b[0m\u001b[0;34m(\u001b[0m\u001b[0;34m)\u001b[0m\u001b[0;34m.\u001b[0m\u001b[0m_analysis_job\u001b[0m\u001b[0;34m(\u001b[0m\u001b[0mtask\u001b[0m\u001b[0;34m,\u001b[0m \u001b[0mparams\u001b[0m\u001b[0;34m)\u001b[0m\u001b[0;34m\u001b[0m\u001b[0m\n\u001b[1;32m   1623\u001b[0m \u001b[0;34m\u001b[0m\u001b[0m\n\u001b[0;32m-> 1624\u001b[0;31m         \u001b[0mjob_info\u001b[0m \u001b[0;34m=\u001b[0m \u001b[0msuper\u001b[0m\u001b[0;34m(\u001b[0m\u001b[0;34m)\u001b[0m\u001b[0;34m.\u001b[0m\u001b[0m_analysis_job_status\u001b[0m\u001b[0;34m(\u001b[0m\u001b[0mtask_url\u001b[0m\u001b[0;34m,\u001b[0m \u001b[0mjob_info\u001b[0m\u001b[0;34m)\u001b[0m\u001b[0;34m\u001b[0m\u001b[0m\n\u001b[0m\u001b[1;32m   1625\u001b[0m         \u001b[0mjob_values\u001b[0m \u001b[0;34m=\u001b[0m \u001b[0msuper\u001b[0m\u001b[0;34m(\u001b[0m\u001b[0;34m)\u001b[0m\u001b[0;34m.\u001b[0m\u001b[0m_analysis_job_results\u001b[0m\u001b[0;34m(\u001b[0m\u001b[0mtask_url\u001b[0m\u001b[0;34m,\u001b[0m \u001b[0mjob_info\u001b[0m\u001b[0;34m)\u001b[0m\u001b[0;34m\u001b[0m\u001b[0m\n\u001b[1;32m   1626\u001b[0m         \u001b[0;31m#print(job_values)\u001b[0m\u001b[0;34m\u001b[0m\u001b[0;34m\u001b[0m\u001b[0m\n",
      "\u001b[0;32mC:\\xc\\GitHub\\geosaurus\\src\\arcgis\\tools.py\u001b[0m in \u001b[0;36m_analysis_job_status\u001b[0;34m(self, task_url, job_info)\u001b[0m\n\u001b[1;32m    477\u001b[0m \u001b[0;34m\u001b[0m\u001b[0m\n\u001b[1;32m    478\u001b[0m                     \u001b[0;32mif\u001b[0m \u001b[0mjob_response\u001b[0m\u001b[0;34m.\u001b[0m\u001b[0mget\u001b[0m\u001b[0;34m(\u001b[0m\u001b[0;34m\"jobStatus\"\u001b[0m\u001b[0;34m)\u001b[0m \u001b[0;34m==\u001b[0m \u001b[0;34m\"esriJobFailed\"\u001b[0m\u001b[0;34m:\u001b[0m\u001b[0;34m\u001b[0m\u001b[0m\n\u001b[0;32m--> 479\u001b[0;31m                         \u001b[0;32mraise\u001b[0m \u001b[0mException\u001b[0m\u001b[0;34m(\u001b[0m\u001b[0;34m\"Job failed.\"\u001b[0m\u001b[0;34m)\u001b[0m\u001b[0;34m\u001b[0m\u001b[0m\n\u001b[0m\u001b[1;32m    480\u001b[0m                     \u001b[0;32melif\u001b[0m \u001b[0mjob_response\u001b[0m\u001b[0;34m.\u001b[0m\u001b[0mget\u001b[0m\u001b[0;34m(\u001b[0m\u001b[0;34m\"jobStatus\"\u001b[0m\u001b[0;34m)\u001b[0m \u001b[0;34m==\u001b[0m \u001b[0;34m\"esriJobCancelled\"\u001b[0m\u001b[0;34m:\u001b[0m\u001b[0;34m\u001b[0m\u001b[0m\n\u001b[1;32m    481\u001b[0m                         \u001b[0;32mraise\u001b[0m \u001b[0mException\u001b[0m\u001b[0;34m(\u001b[0m\u001b[0;34m\"Job cancelled.\"\u001b[0m\u001b[0;34m)\u001b[0m\u001b[0;34m\u001b[0m\u001b[0m\n",
      "\u001b[0;31mException\u001b[0m: Job failed."
     ]
    }
   ],
   "source": [
    "# Feed the fire buffer feature layer \n",
    "overlay_result = gis.tools.featureanalysis.overlay_layers(input_layer = fire_buffers,\n",
    "                                                     overlay_layer = facility_location_layer,\n",
    "                                                     overlay_type = \"Intersect\",\n",
    "                                                     output_name = \"At_risk_infrastructure_\"+timestamp)"
   ]
  },
  {
   "cell_type": "code",
   "execution_count": 20,
   "metadata": {
    "collapsed": false
   },
   "outputs": [
    {
     "data": {
      "text/html": [
       "<div class=\"item_container\" style=\"height: auto; overflow: hidden; border: 1px solid #cfcfcf; border-radius: 2px; background: #f6fafa; line-height: 1.21429em; padding: 10px;\">\n",
       "                    <div class=\"item_left\" style=\"width: 210px; float: left;\">\n",
       "                       <a href='https://deldev.maps.arcgis.com/home/item.html?id=deb79009acab4ecc88bb576b5ebce24e' target='_blank'>\n",
       "                        <img src='http://static.arcgis.com/images/desktopapp.png' class=\"itemThumbnail\">\n",
       "                       </a>\n",
       "                    </div>\n",
       "\n",
       "                    <div class=\"item_right\"     style=\"float: none; width: auto; overflow: hidden;\">\n",
       "                        <a href='https://deldev.maps.arcgis.com/home/item.html?id=deb79009acab4ecc88bb576b5ebce24e' target='_blank'><b>At_risk_infrastructure</b>\n",
       "                        </a>\n",
       "                        <br/><img src='https://deldev.maps.arcgis.com/home/js/jsapi/esri/css/images/item_type_icons/featureshosted16.png' style=\"vertical-align:middle;\">Feature Service by demo_deldev\n",
       "                        <br/>Last Modified: October 15, 2016\n",
       "                        <br/>0 comments, 0 views\n",
       "                    </div>\n",
       "                </div>\n",
       "                "
      ],
      "text/plain": [
       "<Item title:\"At_risk_infrastructure\" type:Feature Service owner:demo_deldev>"
      ]
     },
     "execution_count": 20,
     "metadata": {},
     "output_type": "execute_result"
    }
   ],
   "source": [
    "overlay_result"
   ]
  },
  {
   "cell_type": "markdown",
   "metadata": {
    "collapsed": true
   },
   "source": [
    "Let us create another map and display only the overlay result"
   ]
  },
  {
   "cell_type": "code",
   "execution_count": 30,
   "metadata": {
    "collapsed": true
   },
   "outputs": [],
   "source": [
    "map3 = gis.map(\"San Bernardino, CA\", 8)\n",
    "map3"
   ]
  },
  {
   "cell_type": "code",
   "execution_count": 32,
   "metadata": {
    "collapsed": true
   },
   "outputs": [],
   "source": [
    "map3.add_layer(overlay_result)"
   ]
  },
  {
   "cell_type": "markdown",
   "metadata": {},
   "source": [
    "Let us read this result as a `FeatureLayer` and display the attribute table to get a sense of the results."
   ]
  },
  {
   "cell_type": "code",
   "execution_count": 23,
   "metadata": {
    "collapsed": false
   },
   "outputs": [
    {
     "data": {
      "text/plain": [
       "{'attributes': {'AnalysisArea': 112.45956956,\n",
       "  'BUFF_DIST': 4,\n",
       "  'Join_Count': 1,\n",
       "  'OBJECTID_1': 1,\n",
       "  'ORIG_FID': 5,\n",
       "  'TARGET_FID': 15,\n",
       "  'acres': 10850,\n",
       "  'addrln1': ' ',\n",
       "  'addrln2': ' ',\n",
       "  'cat1': 'Physical Features',\n",
       "  'cat2': 'Power Plants',\n",
       "  'cat3': ' ',\n",
       "  'city': ' ',\n",
       "  'containmen': 0.5,\n",
       "  'date_updat': 1288569600000,\n",
       "  'descriptio': ' ',\n",
       "  'dis_status': ' ',\n",
       "  'email': ' ',\n",
       "  'ext_id': '1654548',\n",
       "  'hours': ' ',\n",
       "  'info1': ' ',\n",
       "  'info2': ' ',\n",
       "  'latitude': 34.1766729,\n",
       "  'link': 'http://egis3.lacounty.gov/lms/?p=24626',\n",
       "  'longitude': -117.872006,\n",
       "  'name': 'Azusa Powerplant Conduit',\n",
       "  'name_1': 'Fish Fire',\n",
       "  'objectid': 40242905,\n",
       "  'org_name': 'US Geological Survey (USGS)',\n",
       "  'perimeter1': 1300,\n",
       "  'perimeter_': 1466924400000,\n",
       "  'phones': ' ',\n",
       "  'point_x': 6600383.59242,\n",
       "  'point_y': 1886699.63928,\n",
       "  'post_id': 24626,\n",
       "  'source': 'HSIP Freedom Gnis_cultural_fe',\n",
       "  'state': ' ',\n",
       "  'status': 'Active',\n",
       "  'url': ' ',\n",
       "  'use_type': 'publish',\n",
       "  'zip': ' '},\n",
       " 'geometry': {'x': -13121451.6931, 'y': 4052549.6177999973}}"
      ]
     },
     "execution_count": 23,
     "metadata": {},
     "output_type": "execute_result"
    }
   ],
   "source": [
    "at_risk_facilities_FS = FeatureService(overlay_result.url, gis)\n",
    "at_risk_facilities = at_risk_facilities_FS.layers[0]\n",
    "\n",
    "at_risk_facilities.query()[0] # only the first item is displayed for brevity"
   ]
  },
  {
   "cell_type": "markdown",
   "metadata": {},
   "source": [
    "## Read analysis results as a pandas dataframe for analysis\n",
    "The query we ran in the previous step returned a list of dictionaries representing the features. To inspect this further, let us convert it into a [pandas](http://pandas.pydata.org/) [dataframe](http://pandas.pydata.org/pandas-docs/stable/generated/pandas.DataFrame.html)."
   ]
  },
  {
   "cell_type": "code",
   "execution_count": 25,
   "metadata": {
    "collapsed": true
   },
   "outputs": [],
   "source": [
    "import pandas as pd"
   ]
  },
  {
   "cell_type": "code",
   "execution_count": 26,
   "metadata": {
    "collapsed": false
   },
   "outputs": [
    {
     "data": {
      "text/html": [
       "<div>\n",
       "<table border=\"1\" class=\"dataframe\">\n",
       "  <thead>\n",
       "    <tr style=\"text-align: right;\">\n",
       "      <th></th>\n",
       "      <th>AnalysisArea</th>\n",
       "      <th>BUFF_DIST</th>\n",
       "      <th>Join_Count</th>\n",
       "      <th>OBJECTID_1</th>\n",
       "      <th>ORIG_FID</th>\n",
       "      <th>TARGET_FID</th>\n",
       "      <th>acres</th>\n",
       "      <th>addrln1</th>\n",
       "      <th>addrln2</th>\n",
       "      <th>cat1</th>\n",
       "      <th>...</th>\n",
       "      <th>phones</th>\n",
       "      <th>point_x</th>\n",
       "      <th>point_y</th>\n",
       "      <th>post_id</th>\n",
       "      <th>source</th>\n",
       "      <th>state</th>\n",
       "      <th>status</th>\n",
       "      <th>url</th>\n",
       "      <th>use_type</th>\n",
       "      <th>zip</th>\n",
       "    </tr>\n",
       "  </thead>\n",
       "  <tbody>\n",
       "    <tr>\n",
       "      <th>0</th>\n",
       "      <td>112.459570</td>\n",
       "      <td>4</td>\n",
       "      <td>1</td>\n",
       "      <td>1</td>\n",
       "      <td>5</td>\n",
       "      <td>15</td>\n",
       "      <td>10850</td>\n",
       "      <td></td>\n",
       "      <td></td>\n",
       "      <td>Physical Features</td>\n",
       "      <td>...</td>\n",
       "      <td></td>\n",
       "      <td>6.600384e+06</td>\n",
       "      <td>1.886700e+06</td>\n",
       "      <td>24626</td>\n",
       "      <td>HSIP Freedom Gnis_cultural_fe</td>\n",
       "      <td></td>\n",
       "      <td>Active</td>\n",
       "      <td></td>\n",
       "      <td>publish</td>\n",
       "      <td></td>\n",
       "    </tr>\n",
       "    <tr>\n",
       "      <th>1</th>\n",
       "      <td>57.433120</td>\n",
       "      <td>4</td>\n",
       "      <td>2</td>\n",
       "      <td>2</td>\n",
       "      <td>2</td>\n",
       "      <td>17</td>\n",
       "      <td>1080</td>\n",
       "      <td></td>\n",
       "      <td></td>\n",
       "      <td>Health and Mental Health</td>\n",
       "      <td>...</td>\n",
       "      <td></td>\n",
       "      <td>6.369202e+06</td>\n",
       "      <td>1.880309e+06</td>\n",
       "      <td>26620</td>\n",
       "      <td>HSIP Freedom Gnis_structures</td>\n",
       "      <td></td>\n",
       "      <td>Active</td>\n",
       "      <td></td>\n",
       "      <td>publish</td>\n",
       "      <td></td>\n",
       "    </tr>\n",
       "    <tr>\n",
       "      <th>2</th>\n",
       "      <td>60.135539</td>\n",
       "      <td>4</td>\n",
       "      <td>1</td>\n",
       "      <td>3</td>\n",
       "      <td>4</td>\n",
       "      <td>48</td>\n",
       "      <td>8940</td>\n",
       "      <td></td>\n",
       "      <td></td>\n",
       "      <td>Health and Mental Health</td>\n",
       "      <td>...</td>\n",
       "      <td></td>\n",
       "      <td>6.445879e+06</td>\n",
       "      <td>1.924838e+06</td>\n",
       "      <td>27055</td>\n",
       "      <td>HSIP Freedom Gnis_structures</td>\n",
       "      <td></td>\n",
       "      <td>Active</td>\n",
       "      <td></td>\n",
       "      <td>publish</td>\n",
       "      <td></td>\n",
       "    </tr>\n",
       "    <tr>\n",
       "      <th>3</th>\n",
       "      <td>60.135539</td>\n",
       "      <td>4</td>\n",
       "      <td>1</td>\n",
       "      <td>4</td>\n",
       "      <td>4</td>\n",
       "      <td>57</td>\n",
       "      <td>8940</td>\n",
       "      <td>12653 Osborne St.</td>\n",
       "      <td></td>\n",
       "      <td>Transportation</td>\n",
       "      <td>...</td>\n",
       "      <td>818) 896-5271 (Primary)</td>\n",
       "      <td>6.436785e+06</td>\n",
       "      <td>1.916959e+06</td>\n",
       "      <td>13559</td>\n",
       "      <td>Current Services Locator</td>\n",
       "      <td>CA</td>\n",
       "      <td>Active</td>\n",
       "      <td></td>\n",
       "      <td>publish</td>\n",
       "      <td>91331</td>\n",
       "    </tr>\n",
       "    <tr>\n",
       "      <th>4</th>\n",
       "      <td>57.433120</td>\n",
       "      <td>4</td>\n",
       "      <td>2</td>\n",
       "      <td>5</td>\n",
       "      <td>2</td>\n",
       "      <td>59</td>\n",
       "      <td>1080</td>\n",
       "      <td>5601 De Soto Ave.</td>\n",
       "      <td></td>\n",
       "      <td>Health and Mental Health</td>\n",
       "      <td>...</td>\n",
       "      <td></td>\n",
       "      <td>6.383286e+06</td>\n",
       "      <td>1.885131e+06</td>\n",
       "      <td>730</td>\n",
       "      <td>Current Services Locator</td>\n",
       "      <td>CA</td>\n",
       "      <td>Active</td>\n",
       "      <td>www.kaiserpermanente.org</td>\n",
       "      <td>publish</td>\n",
       "      <td>91365</td>\n",
       "    </tr>\n",
       "    <tr>\n",
       "      <th>5</th>\n",
       "      <td>60.135539</td>\n",
       "      <td>4</td>\n",
       "      <td>1</td>\n",
       "      <td>6</td>\n",
       "      <td>4</td>\n",
       "      <td>166</td>\n",
       "      <td>8940</td>\n",
       "      <td>9449 San Fernando Rd.</td>\n",
       "      <td></td>\n",
       "      <td>Health and Mental Health</td>\n",
       "      <td>...</td>\n",
       "      <td>Mental Health Resource - 24 hours Service/Inta...</td>\n",
       "      <td>6.441925e+06</td>\n",
       "      <td>1.910013e+06</td>\n",
       "      <td>637</td>\n",
       "      <td>211</td>\n",
       "      <td>CA</td>\n",
       "      <td>Active</td>\n",
       "      <td>www.pacificahospital.com</td>\n",
       "      <td>publish</td>\n",
       "      <td>91352</td>\n",
       "    </tr>\n",
       "    <tr>\n",
       "      <th>6</th>\n",
       "      <td>60.135539</td>\n",
       "      <td>4</td>\n",
       "      <td>1</td>\n",
       "      <td>7</td>\n",
       "      <td>4</td>\n",
       "      <td>218</td>\n",
       "      <td>8940</td>\n",
       "      <td>12756 Van Nuys Blvd</td>\n",
       "      <td></td>\n",
       "      <td>Health and Mental Health</td>\n",
       "      <td>...</td>\n",
       "      <td>Administrative (818) 898-1388 Ext.51115, WIC S...</td>\n",
       "      <td>6.437589e+06</td>\n",
       "      <td>1.922409e+06</td>\n",
       "      <td>70599</td>\n",
       "      <td>211</td>\n",
       "      <td>CA</td>\n",
       "      <td>Active</td>\n",
       "      <td>www.nevhc.org/</td>\n",
       "      <td>publish</td>\n",
       "      <td>91331</td>\n",
       "    </tr>\n",
       "  </tbody>\n",
       "</table>\n",
       "<p>7 rows × 41 columns</p>\n",
       "</div>"
      ],
      "text/plain": [
       "   AnalysisArea  BUFF_DIST  Join_Count  OBJECTID_1  ORIG_FID  TARGET_FID  \\\n",
       "0    112.459570          4           1           1         5          15   \n",
       "1     57.433120          4           2           2         2          17   \n",
       "2     60.135539          4           1           3         4          48   \n",
       "3     60.135539          4           1           4         4          57   \n",
       "4     57.433120          4           2           5         2          59   \n",
       "5     60.135539          4           1           6         4         166   \n",
       "6     60.135539          4           1           7         4         218   \n",
       "\n",
       "   acres                addrln1 addrln2                      cat1  ...    \\\n",
       "0  10850                                        Physical Features  ...     \n",
       "1   1080                                 Health and Mental Health  ...     \n",
       "2   8940                                 Health and Mental Health  ...     \n",
       "3   8940      12653 Osborne St.                    Transportation  ...     \n",
       "4   1080      5601 De Soto Ave.          Health and Mental Health  ...     \n",
       "5   8940  9449 San Fernando Rd.          Health and Mental Health  ...     \n",
       "6   8940    12756 Van Nuys Blvd          Health and Mental Health  ...     \n",
       "\n",
       "                                              phones       point_x  \\\n",
       "0                                                     6.600384e+06   \n",
       "1                                                     6.369202e+06   \n",
       "2                                                     6.445879e+06   \n",
       "3                            818) 896-5271 (Primary)  6.436785e+06   \n",
       "4                                                     6.383286e+06   \n",
       "5  Mental Health Resource - 24 hours Service/Inta...  6.441925e+06   \n",
       "6  Administrative (818) 898-1388 Ext.51115, WIC S...  6.437589e+06   \n",
       "\n",
       "        point_y  post_id                         source state  status  \\\n",
       "0  1.886700e+06    24626  HSIP Freedom Gnis_cultural_fe        Active   \n",
       "1  1.880309e+06    26620   HSIP Freedom Gnis_structures        Active   \n",
       "2  1.924838e+06    27055   HSIP Freedom Gnis_structures        Active   \n",
       "3  1.916959e+06    13559       Current Services Locator    CA  Active   \n",
       "4  1.885131e+06      730       Current Services Locator    CA  Active   \n",
       "5  1.910013e+06      637                            211    CA  Active   \n",
       "6  1.922409e+06    70599                            211    CA  Active   \n",
       "\n",
       "                        url use_type    zip  \n",
       "0                            publish         \n",
       "1                            publish         \n",
       "2                            publish         \n",
       "3                            publish  91331  \n",
       "4  www.kaiserpermanente.org  publish  91365  \n",
       "5  www.pacificahospital.com  publish  91352  \n",
       "6            www.nevhc.org/  publish  91331  \n",
       "\n",
       "[7 rows x 41 columns]"
      ]
     },
     "execution_count": 26,
     "metadata": {},
     "output_type": "execute_result"
    }
   ],
   "source": [
    "# Let us filter the query such that it only returns the attributes and not the geometries\n",
    "query_results = at_risk_facilities.query(returnGeometry = False)\n",
    "\n",
    "# Let us simplfy the dictionary\n",
    "query_results_att = [q['attributes'] for q in query_results]\n",
    "\n",
    "# Read it as a data frame\n",
    "df1 = pd.DataFrame(query_results_att)\n",
    "df1"
   ]
  },
  {
   "cell_type": "markdown",
   "metadata": {},
   "source": [
    "From the data frame, we can see there are 7 features which fell within the fire buffers. To make this result usable, let us export a CSV with only the facility name and other critical details."
   ]
  },
  {
   "cell_type": "code",
   "execution_count": 27,
   "metadata": {
    "collapsed": false
   },
   "outputs": [
    {
     "data": {
      "text/html": [
       "<div>\n",
       "<table border=\"1\" class=\"dataframe\">\n",
       "  <thead>\n",
       "    <tr style=\"text-align: right;\">\n",
       "      <th></th>\n",
       "      <th>name</th>\n",
       "      <th>cat1</th>\n",
       "      <th>post_id</th>\n",
       "    </tr>\n",
       "  </thead>\n",
       "  <tbody>\n",
       "    <tr>\n",
       "      <th>0</th>\n",
       "      <td>Azusa Powerplant Conduit</td>\n",
       "      <td>Physical Features</td>\n",
       "      <td>24626</td>\n",
       "    </tr>\n",
       "    <tr>\n",
       "      <th>1</th>\n",
       "      <td>Motion Picture And Television Fund Hospital</td>\n",
       "      <td>Health and Mental Health</td>\n",
       "      <td>26620</td>\n",
       "    </tr>\n",
       "    <tr>\n",
       "      <th>2</th>\n",
       "      <td>Pacoima Memorial Hospital</td>\n",
       "      <td>Health and Mental Health</td>\n",
       "      <td>27055</td>\n",
       "    </tr>\n",
       "    <tr>\n",
       "      <th>3</th>\n",
       "      <td>Whiteman Airport</td>\n",
       "      <td>Transportation</td>\n",
       "      <td>13559</td>\n",
       "    </tr>\n",
       "    <tr>\n",
       "      <th>4</th>\n",
       "      <td>Kaiser Permanente - Woodland Hills Medical Center</td>\n",
       "      <td>Health and Mental Health</td>\n",
       "      <td>730</td>\n",
       "    </tr>\n",
       "    <tr>\n",
       "      <th>5</th>\n",
       "      <td>Pacifica Hospital Of The Valley</td>\n",
       "      <td>Health and Mental Health</td>\n",
       "      <td>637</td>\n",
       "    </tr>\n",
       "    <tr>\n",
       "      <th>6</th>\n",
       "      <td>Northeast Valley Health Corporation - Pacoima ...</td>\n",
       "      <td>Health and Mental Health</td>\n",
       "      <td>70599</td>\n",
       "    </tr>\n",
       "  </tbody>\n",
       "</table>\n",
       "</div>"
      ],
      "text/plain": [
       "                                                name  \\\n",
       "0                           Azusa Powerplant Conduit   \n",
       "1        Motion Picture And Television Fund Hospital   \n",
       "2                          Pacoima Memorial Hospital   \n",
       "3                                   Whiteman Airport   \n",
       "4  Kaiser Permanente - Woodland Hills Medical Center   \n",
       "5                    Pacifica Hospital Of The Valley   \n",
       "6  Northeast Valley Health Corporation - Pacoima ...   \n",
       "\n",
       "                       cat1  post_id  \n",
       "0         Physical Features    24626  \n",
       "1  Health and Mental Health    26620  \n",
       "2  Health and Mental Health    27055  \n",
       "3            Transportation    13559  \n",
       "4  Health and Mental Health      730  \n",
       "5  Health and Mental Health      637  \n",
       "6  Health and Mental Health    70599  "
      ]
     },
     "execution_count": 27,
     "metadata": {},
     "output_type": "execute_result"
    }
   ],
   "source": [
    "df1_simplified = df1[['name', 'cat1', 'post_id']]\n",
    "df1_simplified"
   ]
  },
  {
   "cell_type": "code",
   "execution_count": 28,
   "metadata": {
    "collapsed": false
   },
   "outputs": [],
   "source": [
    "# Export this to a csv file. This CSV can then be shared with fire fighters.\n",
    "csv_file = r'.\\data\\at_risk_facilities.csv'\n",
    "df1_simplified.to_csv(csv_file)"
   ]
  },
  {
   "cell_type": "markdown",
   "metadata": {},
   "source": [
    "## Summary\n",
    "Thus this sample demonstrated how **spatial analysis** can be easily performed using ArcGIS Python API. The first part of the sample showed how **buffers** can be used to expand the boundary of features. The second part showed how **overlay analysis** can be used to perform *point in polygon* search which allowed us to programmatically identify the facilities that fell within the risk zones. Finally the sample showed how other powerful data science libraries such as **pandas** can be used in conjunction with ArcGIS to explore the results.\n",
    "\n",
    "Throught out the sample, the analysis tasks were performed remotely on the ArcGIS server as geoprocessing tasks instead of on the local machine which can greatly speed up the processing time for larger datasets."
   ]
  },
  {
   "cell_type": "code",
   "execution_count": null,
   "metadata": {
    "collapsed": true
   },
   "outputs": [],
   "source": []
  }
 ],
 "metadata": {
  "kernelspec": {
   "display_name": "Python 3",
   "language": "python",
   "name": "python3"
  },
  "language_info": {
   "codemirror_mode": {
    "name": "ipython",
    "version": 3
   },
   "file_extension": ".py",
   "mimetype": "text/x-python",
   "name": "python",
   "nbconvert_exporter": "python",
   "pygments_lexer": "ipython3",
   "version": "3.4.5"
  },
  "widgets": {
   "state": {
    "48602d83c4cb44a794c2ddc4b407e3f9": {
     "views": [
      {
       "cell_index": 8
      }
     ]
    },
    "a69855f672d6486fb9f14b182a2a10d1": {
     "views": [
      {
       "cell_index": 16
      }
     ]
    }
   },
   "version": "1.2.0"
  }
 },
 "nbformat": 4,
 "nbformat_minor": 0
}
