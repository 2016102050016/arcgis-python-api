{
 "cells": [
  {
   "cell_type": "markdown",
   "metadata": {},
   "source": [
    "#geocode() method"
   ]
  },
  {
   "cell_type": "markdown",
   "metadata": {},
   "source": [
    "The <code>geocode()</code> method geocodes one location per request; the input address can be either a string containing a single line address, or divided among multiple parameters using a Python dict with keys that are named the same as those in the accepted address fields.\n",
    "\n",
    "<img src=\"https://developers.arcgis.com/rest/geocode/api-reference/GUID-F2F78690-5FB5-4BF1-8633-26BF184C45A9-web.png\"/>"
   ]
  },
  {
   "cell_type": "markdown",
   "metadata": {},
   "source": [
    "The geocode() method supports finding the following types of\n",
    "locations: <ul purpose=\"ul\" id=\"UL_D677D90485774D6B87807430DC7EDA09\"><li purpose=\"li\" id=\"LI_E7197DD4478C4F0C9BD6E2654CC9F05D\"><b>Street addresses</b> <ul purpose=\"ul\" id=\"UL_2751AF055F8F4155BB2207584178AB67\"><li purpose=\"li\" id=\"LI_AA949A57EC914ABBBA77304DDBEAC802\"><code class=\"usertext\">27488 Stanford Ave, Bowden, North Dakota</code></li><li purpose=\"li\" id=\"LI_1D8A35AF641D4BA7AA70A0F26D4F9092\"><code class=\"usertext\">380 New York St, Redlands, CA 92373</code></li></ul></li><li purpose=\"li\" id=\"LI_D2E856F9AC384E7E8351265ADF25B949\"><b>Points of interest (POI)</b> by name and type<ul purpose=\"ul\" id=\"UL_83358C5FA5DD408BB1B1748481F423EC\"><li purpose=\"li\" id=\"LI_4A56A31BD1CB485E92DE6300EF1BF6B7\"><code class=\"usertext\">Disneyland</code></li><li purpose=\"li\" id=\"LI_AFF58AA0ABD041999ED2F10C0B3A96A4\"><code class=\"usertext\">banks in Paris</code></li><li purpose=\"li\" id=\"LI_2E2F3F5BB97641D586BF2117C345B74C\"><code class=\"usertext\">los angeles starbucks</code></li><li purpose=\"li\" id=\"LI_DCA3B149BB3B49ED912C07D9E9D56BAF\"><code class=\"usertext\">mount everest</code></li></ul></li><li purpose=\"li\" id=\"LI_51BA14AA27124BE3A9EE9F44CC3B6CDD\"><b>Administrative place names</b>, such as\n",
    "city, county, state, province, or country names <ul purpose=\"ul\" id=\"UL_C6254F5AEB4849369128F768D0877230\"><li purpose=\"li\" id=\"LI_C62D2E56AB374859BD823D0C9533B0CC\"><code class=\"usertext\">Seattle, Washington</code></li><li purpose=\"li\" id=\"LI_8ED527D916E44ADF8957D9CF040A91ED\"><code class=\"usertext\">State of Mahārāshtra</code></li><li purpose=\"li\" id=\"LI_EED027AE03634D07BDF55652DE5358F2\"><code class=\"usertext\">Liechtenstein</code></li></ul></li><li purpose=\"li\" id=\"LI_DBB7D6390DA143ABB017598395DE5075\"><b>Postal codes</b> <ul purpose=\"ul\" id=\"UL_19D4B6B7534541179119E82956AB7D99\"><li purpose=\"li\" id=\"LI_5886C62A652D4F299324F26CBB6A4026\"><code class=\"usertext\">92591</code></li><li purpose=\"li\" id=\"LI_0DBAEE9C46AA41E195BE2D696473C123\"><code class=\"usertext\">TW9 1DN</code></li></ul></li><!-- li purpose=\"li\" id=\"LI_AEFFC2F9878741B7AEF0B1391A16E7D3\"><b>X/Y coordinates</b> <ul purpose=\"ul\" id=\"UL_3A092A7A61084344800FDA80AB00C14E\"><li purpose=\"li\" id=\"LI_FE466B975CC241B68C3720C9D5BEBC56\"><code class=\"usertext\">-117.155579,32.703761</code></li --></ul></li></ul>"
   ]
  },
  {
   "cell_type": "markdown",
   "metadata": {},
   "source": [
    "There are several options for refining or restricting search results. These include:\n",
    "\n",
    "* Specify output fields to return in the geocoding response with the outFields parameter.\n",
    "* Specify the spatial reference of candidates with the outSR parameter.\n",
    "* Limit the number of candidates with the maxLocations parameter.\n",
    "* Confine the search results to a specified area with the searchExtent parameter.\n",
    "* Use the location and distance parameters to prefer local candidates, which will then be returned higher in the candidates list.\n",
    "* Filter search results using the category parameter."
   ]
  },
  {
   "cell_type": "markdown",
   "metadata": {},
   "source": [
    "##Method parameters\n",
    "The <code>geocode()</code> method supports searching for places and addresses in single field format, or in multifield format with the address components separated into mulitple parameters.\n",
    "\n",
    "###address parameter\n",
    "#### single line address\n",
    "The <b>address</b> parameter specifies the location to be geocoded. This can be a string containing the single line address, i.e street address, place name, postal code, or POI."
   ]
  },
  {
   "cell_type": "code",
   "execution_count": 72,
   "metadata": {
    "collapsed": false
   },
   "outputs": [],
   "source": [
    "gis = GIS(\"https://deldev.maps.arcgis.com\", \"demo_deldev\", \"P@ssw0rd\")\n",
    "\n",
    "# use the GIS's configured geocoder\n",
    "geocoder = gis.tools.geocoder"
   ]
  },
  {
   "cell_type": "markdown",
   "metadata": {},
   "source": [
    "###Example: plot an address using a single line address"
   ]
  },
  {
   "cell_type": "code",
   "execution_count": 73,
   "metadata": {
    "collapsed": true
   },
   "outputs": [],
   "source": [
    "single_line_address = \"380 New York Street, Redlands, CA 92373\""
   ]
  },
  {
   "cell_type": "code",
   "execution_count": 74,
   "metadata": {
    "collapsed": false
   },
   "outputs": [],
   "source": [
    "map = gis.map(\"Redlands, CA\")\n",
    "map"
   ]
  },
  {
   "cell_type": "code",
   "execution_count": 75,
   "metadata": {
    "collapsed": false
   },
   "outputs": [],
   "source": [
    "#geocode the single line address and plot the location of the first geocode result on the map\n",
    "\n",
    "esrihq = geocoder.geocode(single_line_address)[0]\n",
    "popup = { \n",
    "    \"title\" : \"Esri Headquarters\", \n",
    "    \"content\" : esrihq['address']\n",
    "    }\n",
    "map.draw(esrihq['location'], popup)"
   ]
  },
  {
   "cell_type": "markdown",
   "metadata": {},
   "source": [
    "####multi field address\n",
    "Alternatively, the address can be specified in a multifield format using a dictionary containing the various address fields accepted by the corresponding geocode service. \n",
    "\n",
    "In order to provide a way to find addresses in many different countries, which may use different addressing formats, the <code>geocode()</code> method uses standardized field names for submitting address components. \n",
    "\n",
    "The Geocoder's 'addressFields' property specifies the various address fields accepted by it when geocoding addresses. The neighborhood, city, subregion, and region parameters represent typical administrative divisions within a country. They may have different contexts for different countries, and not all administrative divisions are used in all countries. For instance, with addresses in the United States, only the city (city) and region(state) parameters are used; for addresses in Mexico, the neighborhood parameter is used for districts (colonias) within a city, city for municipalities (municipios), and the region parameter for states (estados); Spain uses all four administrative divisions.\n",
    "\n",
    "For example, if the addressFields of a geocode service resource includes fields with the following names: Address, City, Region and Postal, then the address argument is of the form below.\n",
    "\n",
    "###Example: plot an address using a multiple field address"
   ]
  },
  {
   "cell_type": "code",
   "execution_count": 76,
   "metadata": {
    "collapsed": true
   },
   "outputs": [],
   "source": [
    "multi_field_address = { \n",
    "    \"Address\" : \"380 New York Street\",\n",
    "    \"City\" : \"Redlands\",\n",
    "    \"Region\" : \"CA\",\n",
    "    \"Postal\" : 92373\n",
    "    }"
   ]
  },
  {
   "cell_type": "code",
   "execution_count": 77,
   "metadata": {
    "collapsed": true
   },
   "outputs": [],
   "source": [
    "map = gis.map(\"Redlands, CA\")\n",
    "map"
   ]
  },
  {
   "cell_type": "code",
   "execution_count": 78,
   "metadata": {
    "collapsed": false
   },
   "outputs": [],
   "source": [
    "#geocode the multi field address and plot the location of the first geocode result on the map\n",
    "\n",
    "esrihq = geocoder.geocode(multi_field_address)[0]\n",
    "popup = { \n",
    "    \"title\" : \"Esri Headquarters\", \n",
    "    \"content\" : esrihq['address']\n",
    "    }\n",
    "map.draw(esrihq['location'], popup)"
   ]
  },
  {
   "cell_type": "markdown",
   "metadata": {},
   "source": [
    "The geocoder() method retuns an array of potential address matches (also refered to as address candidates). Each address candidate is represented as a Python dictionary with the following keys:"
   ]
  },
  {
   "cell_type": "code",
   "execution_count": 79,
   "metadata": {
    "collapsed": false
   },
   "outputs": [
    {
     "data": {
      "text/plain": [
       "dict_keys(['address', 'location', 'extent', 'score', 'attributes'])"
      ]
     },
     "execution_count": 79,
     "metadata": {},
     "output_type": "execute_result"
    }
   ],
   "source": [
    "esrihq.keys()"
   ]
  },
  {
   "cell_type": "markdown",
   "metadata": {},
   "source": [
    "The dict keys-values are the following:\n",
    "* <code>score</code> represents the level of confidence of the geocoder in the match, ranked from 0-100\n",
    "* <code>location</code> contains the (x, y) location of the match,\n",
    "* <code>address</code> includes the matched address,\n",
    "* <code>attributes</code> include several parameters from the 'Candidate Fields' property above, and\n",
    "* <code>extent</code> specifies an appropriate extent for the matched address."
   ]
  },
  {
   "cell_type": "markdown",
   "metadata": {},
   "source": [
    "###searchExtent parameter\n",
    "\n",
    "A set of bounding box coordinates that limit the search area to a specific region. This is especially useful for applications in which a user will search for places and addresses within the current map extent.\n",
    "\n",
    "You can specify the spatial reference of the searchExtent coordinates, which is necessary if the map spatial reference is different than that of the geocoding service; otherwise, the spatial reference of the coordinates is assumed to be the same as that of the geocoding service.\n",
    "\n",
    "The input can either be a comma-separated list of coordinates defining the bounding box or a JSON envelope object. The spatial reference of the bounding box coordinates can be included if an envelope object is used.\n",
    "\n",
    "###Example: Starbucks around Union Square in San Francisco, CA\n",
    "The example below finds and plots upto 100 Starbucks locations around Union Square in San Francisco, CA. The extent parameter is obtained from the geocoder's geocoding result for Union Square (<code>unionsquare['extent']</code>) and passed into the next geocode() request for 100 Starbucks locations:"
   ]
  },
  {
   "cell_type": "code",
   "execution_count": 80,
   "metadata": {
    "collapsed": false
   },
   "outputs": [],
   "source": [
    "unionsquare = geocoder.geocode(\"Union Square, San Francisco, CA\")[0]\n",
    "map = gis.map(\"Union Square, San Francisco, CA\", 14)\n",
    "map"
   ]
  },
  {
   "cell_type": "code",
   "execution_count": 81,
   "metadata": {
    "collapsed": true
   },
   "outputs": [],
   "source": [
    "# find and plot upto 100 Starbucks(TM) locations around Union Square in San Francisco, CA\n",
    "starbucks = geocoder.geocode(\"Starbucks\", unionsquare['extent'], maxLocations=100)\n",
    "for starbuck in starbucks:\n",
    "    map.draw(starbuck['location'])"
   ]
  },
  {
   "cell_type": "markdown",
   "metadata": {},
   "source": [
    "### location parameter\n",
    "\n",
    "Defines an origin point location that is used with the distance parameter to sort geocoding candidates based upon their proximity to the location. The distance parameter specifies the radial distance from the location in meters. The priority of candidates within this radius is boosted relative to those outside the radius.\n",
    "\n",
    "This is useful in mobile applications where a user will want to search for places in the vicinity of their current GPS location; the location and distance parameters can be used in this scenario.\n",
    "\n",
    "The location parameter can be specified without specifying a distance. If distance is not specified, it defaults to 50000 meters.\n",
    "\n",
    "The location can be represented with a simple comma-separated syntax (x,y), or as a JSON point object. If the comma-separated syntax is used, the spatial reference of the coordinates must be WGS84. Otherwise, the spatial reference of the point coordinates can be defined in the JSON object.\n",
    "\n",
    "Example using simple syntax (WGS84):\n",
    "location=-117.196,34.056\n",
    "JSON example with a spatial reference:\n",
    "<code>\n",
    "location=\n",
    "{\n",
    "    \"x\": -13046165.572,\n",
    "    \"y\": 4036389.847,\n",
    "    \"spatialReference\": {\n",
    "        \"wkid\": 102100\n",
    "    }\n",
    "}\n",
    "</code>\n",
    "\n",
    "###distance parameter\n",
    "\n",
    "Specifies the radius of an area around a point location that is used to boost the rank of geocoding candidates so that candidates closest to the location are returned first. The distance value is in meters.\n",
    "\n",
    "If the distance parameter is specified, then the location parameter must be specified as well.\n",
    "\n",
    "It is important to note that unlike the searchExtent parameter, the location and distance parameters allow searches to extend beyond the specified search radius. They are not used to filter results, but rather to rank resulting candidates based on their distance from a location. You must pass a searchExtent value in addition to location and distance if you want to confine the search results to a specific area.\n",
    "\n",
    "Example of searching within two miles of the current extent:\n",
    "<code>distance=3218.69</code>\n",
    "\n",
    "###category parameter\n",
    "\n",
    "A place or address type which can be used to filter geocoding results. The parameter supports input of single category values or multiple comma-separated values. The category parameter can be passed in a request with or without a single line address input. \n",
    "\n",
    "Example of category filtering with a single category:\n",
    "\n",
    "<code>category=\"Address\"</code>\n",
    "\n",
    "Example of category filtering with multiple categories:\n",
    "\n",
    "<code>category=\"Address,Postal\"</code>\n",
    "\n",
    "Note:\n",
    "The category parameter is only functional when used with single line address input. It does not work with multi field addresses; specifically the address, neighborhood, city, region, subregion, countryCode, and postal parameters.\n",
    "\n",
    "###Example: Indian Food around Union Square in San Francisco, CA"
   ]
  },
  {
   "cell_type": "code",
   "execution_count": 82,
   "metadata": {
    "collapsed": true
   },
   "outputs": [],
   "source": [
    "unionsquare = geocoder.geocode(\"Union Square, San Francisco, CA\")[0]\n",
    "\n",
    "map = gis.map(\"Union Square, San Francisco, CA\", 14)\n",
    "map"
   ]
  },
  {
   "cell_type": "code",
   "execution_count": 83,
   "metadata": {
    "collapsed": false
   },
   "outputs": [],
   "source": [
    "# find and plot upto 100 Indian restaurants around Union Square in San Francisco, CA\n",
    "\n",
    "dhaabas = geocoder.geocode(None, unionsquare['extent'], category=\"Indian Food\", maxLocations=100)\n",
    "for dhaaba in dhaabas:\n",
    "    popup = { \n",
    "    \"title\" : dhaaba['address'], \n",
    "    \"content\" : \"Phone: \" + dhaaba['attributes']['Phone']\n",
    "    }\n",
    "    map.draw(dhaaba['location'], popup)"
   ]
  },
  {
   "cell_type": "markdown",
   "metadata": {},
   "source": [
    "###Example: Searching for multiple categories and plotting them with different smbols\n",
    "In the example below, we search for Indian food as well as Thai Food in San Francisco and plot their locations using different symbols based on the 'Type' attribute:"
   ]
  },
  {
   "cell_type": "code",
   "execution_count": 84,
   "metadata": {
    "collapsed": true
   },
   "outputs": [],
   "source": [
    "categories = \"Indian Food, Thai Food\""
   ]
  },
  {
   "cell_type": "code",
   "execution_count": 85,
   "metadata": {
    "collapsed": true
   },
   "outputs": [],
   "source": [
    "unionsquare = geocoder.geocode(\"San Francisco, CA\")[0]\n",
    "\n",
    "map = gis.map(\"San Francisco, CA\")\n",
    "map"
   ]
  },
  {
   "cell_type": "code",
   "execution_count": 86,
   "metadata": {
    "collapsed": false
   },
   "outputs": [],
   "source": [
    "# find and plot upto 100 Indian and Thai restaurants in San Francisco, CA\n",
    "\n",
    "thaisymbol = {\n",
    "\"type\": \"esriSMS\",\n",
    " \"style\": \"esriSMSSquare\",\n",
    " \"color\": [76,115,0,255],\n",
    " \"size\": 8,\n",
    " \"angle\": 0,\n",
    " \"xoffset\": 0,\n",
    " \"yoffset\": 0,\n",
    " \"outline\": \n",
    "  {\n",
    "  \"color\": [152,230,0,255],\n",
    "   \"width\": 1\n",
    "  }\n",
    "}\n",
    "\n",
    "restaurants = geocoder.geocode(None, unionsquare['extent'], category=categories, maxLocations=100)\n",
    "for restaurant in restaurants:\n",
    "    popup = { \n",
    "    \"title\" : restaurant['address'], \n",
    "    \"content\" : \"Phone: \" + restaurant['attributes']['Phone']\n",
    "        }\n",
    "    if restaurant['attributes']['Type'] == 'Thai Food':\n",
    "        map.draw(restaurant['location'], popup, thaisymbol) # use a green square symbol for Thai food\n",
    "    else:\n",
    "        map.draw(restaurant['location'], popup)"
   ]
  },
  {
   "cell_type": "markdown",
   "metadata": {},
   "source": [
    "### outSR parameter\n",
    "\n",
    "The spatial reference of the x/y coordinates returned by the geocode method. This is useful for applications using a map with a spatial reference different than that of the geocoder.\n",
    "\n",
    "The spatial reference can be specified as either a well-known ID (WKID) or as a <a href=\"http://resources.arcgis.com/EN/HELP/REST/APIREF/GEOMETRY.HTML#SR\">JSON spatial reference object</a>. If outSR is not specified, the spatial reference of the output locations is the same as that of the geocoder. The World Geocoding Service spatial reference is WGS84 (WKID = 4326).\n",
    "\n",
    "For a list of valid WKID values, see <a href=\"http://resources.arcgis.com/EN/HELP/REST/APIREF/PCS.HTML\">Projected Coordinate Systems</a> and <a href=\"http://resources.arcgis.com/EN/HELP/REST/APIREF/GCS.HTML\">Geographic Coordinate Systems</a>.\n",
    "\n",
    "Example (102100 is the WKID for the Web Mercator projection):\n",
    "\n",
    "<code>outSR=102100</code>\n",
    "\n",
    "### outFields parameter\n",
    "\n",
    "The list of fields to be returned in the response. Descriptions for each of these fields are available in the <a href=\"https://developers.arcgis.com/rest/geocode/api-reference/geocoding-service-output.htm#ESRI_SECTION1_42D7D3D0231241E9B656C01438209440\">Output fields section of this document</a>.\n",
    "\n",
    "The returned address, x/y coordinates of the match location, match score, spatial reference, extent of the output feature, and the addr_type (match level) are returned by default.\n",
    "\n",
    "Example that returns all output fields:\n",
    "\n",
    "<code>outFields=*</code>\n",
    "\n",
    "Example that returns the specified fields only:\n",
    "\n",
    "<code>outFields=AddrNum,StName,City</code>\n",
    "\n",
    "### maxLocations parameter\n",
    "\n",
    "The maximum number of locations to be returned by a search, up to the maximum number allowed by the geocoder. If not specified, then all matching candidates up to the maximum are returned.\n",
    "\n",
    "The World Geocoding Service allows up to 20 candidates to be returned for a single request. Note that up to 50 POI candidates can be returned.\n",
    "\n",
    "Example:\n",
    "\n",
    "<code>maxLocations=10</code>\n",
    "\n",
    "### forStorage parameter\n",
    "\n",
    "Specifies whether the results of the operation will be persisted. The default value is false, which indicates the results of the operation can't be stored, but they can be temporarily displayed on a map for instance. If you store the results, in a database for example, you need to set this parameter to true.\n",
    "\n",
    "Applications are contractually prohibited from storing the results of geocoding transactions unless they make the request by passing the forStorage parameter with a value of true.\n",
    "\n",
    "ArcGIS Online service credits are deducted from the organization account for each geocode transaction that includes the forStorage parameter with a value of true. Refer to the <a href=\"http://www.esri.com/SOFTWARE/ARCGIS/ARCGISONLINE/CREDITS\">ArcGIS Online service credits overview page<a/> for more information on how credits are charged.\n",
    "\n",
    "To learn more about free and paid geocoding operations, see <a href=\"https://developers.arcgis.com/rest/geocode/api-reference/geocoding-free-vs-paid.htm\">this help topic</a>.\n",
    "\n",
    "Example:\n",
    "\n",
    "<code>forStorage=true</code>"
   ]
  },
  {
   "cell_type": "markdown",
   "metadata": {},
   "source": [
    "# Search for street addresses\n",
    "You can search for a street address, street name, or street intersection using the geocode() method. For best results, you should include as much location information as possible in the search in addition to the street address. See the section entitled <a href=\"https://developers.arcgis.com/rest/geocode/api-reference/geocoding-service-output.htm#GUID-AF8BB306-55A7-4808-B816-6E2F8D4E2486\">Match accuracy</a> for more information about obtaining optimal results for address searches.\n",
    "\n",
    "You can pass the address components as a single address string or separated into multiple parameters using a dict. Examples of each are shown. Note that in each case the response is the same for both the single and multiple parameter addresses.\n",
    "\n",
    "### Example: Find a street address (380 New York Street, Redlands, CA 92373)\n",
    "\n",
    "Single line address:"
   ]
  },
  {
   "cell_type": "code",
   "execution_count": 87,
   "metadata": {
    "collapsed": true
   },
   "outputs": [],
   "source": [
    "single_line_address = \"380 New York Street, Redlands, CA 92373\""
   ]
  },
  {
   "cell_type": "code",
   "execution_count": 88,
   "metadata": {
    "collapsed": true
   },
   "outputs": [],
   "source": [
    "map = gis.map(\"Redlands, CA\")\n",
    "map"
   ]
  },
  {
   "cell_type": "code",
   "execution_count": 89,
   "metadata": {
    "collapsed": true
   },
   "outputs": [],
   "source": [
    "#geocode the single line address and plot the location of the first geocode result on the map\n",
    "\n",
    "esrihq = geocoder.geocode(single_line_address)[0]\n",
    "popup = { \n",
    "    \"title\" : \"Esri Headquarters\", \n",
    "    \"content\" : esrihq['address']\n",
    "    }\n",
    "map.draw(esrihq['location'], popup)"
   ]
  },
  {
   "cell_type": "markdown",
   "metadata": {},
   "source": [
    "###Example: plot an address using a multiple field address\n",
    "\n",
    "In this example, the street address component (380 New York St) is passed as the value for the address parameter; the city component (Redlands) as the value for the city parameter; the state component (CA) as the region parameter; and the zip code (92373) as the value for the postal parameter."
   ]
  },
  {
   "cell_type": "code",
   "execution_count": 90,
   "metadata": {
    "collapsed": true
   },
   "outputs": [],
   "source": [
    "multi_field_address = { \n",
    "    \"Address\" : \"380 New York Street\",\n",
    "    \"City\" : \"Redlands\",\n",
    "    \"Region\" : \"CA\",\n",
    "    \"Postal\" : 92373\n",
    "    }"
   ]
  },
  {
   "cell_type": "code",
   "execution_count": 91,
   "metadata": {
    "collapsed": true
   },
   "outputs": [],
   "source": [
    "map = gis.map(\"Redlands, CA\")\n",
    "map"
   ]
  },
  {
   "cell_type": "code",
   "execution_count": 92,
   "metadata": {
    "collapsed": true
   },
   "outputs": [],
   "source": [
    "#geocode the multiple field address and plot the location of the first geocode result on the map\n",
    "\n",
    "esrihq = geocoder.geocode(multi_field_address)[0]\n",
    "popup = { \n",
    "    \"title\" : \"Esri Headquarters\", \n",
    "    \"content\" : esrihq['address']\n",
    "    }\n",
    "map.draw(esrihq['location'], popup)"
   ]
  },
  {
   "cell_type": "markdown",
   "metadata": {},
   "source": [
    "###Example: Search for a street intersection\n",
    "The following example illustrates how to search for a street intersection. An intersection is where two streets cross each other, and hence an intersection search consists of the intersecting street names plus the containing administrative division or postal code. For example, <code>redlands blvd and new york st 92373</code> is a valid intersection search, as is <code>redlands blvd & new york st redlands ca</code>."
   ]
  },
  {
   "cell_type": "code",
   "execution_count": 93,
   "metadata": {
    "collapsed": true
   },
   "outputs": [],
   "source": [
    "intersection = \"redlands blvd and new york st 92373\""
   ]
  },
  {
   "cell_type": "code",
   "execution_count": 94,
   "metadata": {
    "collapsed": true
   },
   "outputs": [],
   "source": [
    "multi_field_intersection = { \n",
    "    \"Address\" : \"redlands blvd & new york st\",\n",
    "    \"City\" : \"Redlands\",\n",
    "    \"Region\" : \"CA\"\n",
    "    }"
   ]
  },
  {
   "cell_type": "code",
   "execution_count": 95,
   "metadata": {
    "collapsed": true
   },
   "outputs": [],
   "source": [
    "map = gis.map(\"Esri, Redlands, CA\", 15)\n",
    "map"
   ]
  },
  {
   "cell_type": "code",
   "execution_count": 96,
   "metadata": {
    "collapsed": true
   },
   "outputs": [],
   "source": [
    "# geocode the intersection address and plot the location of the first geocode result on the map\n",
    "\n",
    "# either of the two intersection address formats can be used, they give itentical results:\n",
    "# intersection_result = geocoder.geocode(intersection)[0]\n",
    "intersection_result = geocoder.geocode(multi_field_intersection)[0]\n",
    "\n",
    "popup = { \n",
    "    \"title\" : \"redlands blvd and new york st\", \n",
    "    \"content\" : intersection_result['address']\n",
    "        }\n",
    "map.draw(intersection_result['location'], popup)"
   ]
  },
  {
   "cell_type": "markdown",
   "metadata": {},
   "source": [
    "# Search for Points of Interests (POIs)\n",
    "\n",
    "A POI is a point location that can represent a cultural or geographic landmark, business, or administrative division. For example, you can find amusement parks, museums, schools restaurants, hotels, gas stations, or other types of businesses or landmarks; geographic features, such as mountains, lakes, rivers, or deserts; or administrative places, such as neighborhoods, cities, states, counties, or countries. The geocode method supports geocoding POIs by name or by type.\n",
    "\n",
    "The supported types are listed in this <a href=\"https://developers.arcgis.com/rest/geocode/api-reference/geocoding-category-filtering.htm#GUID-20D9858C-C27C-4C9C-BE4C-1EDB36E04D62\">table</a>.\n",
    "\n",
    "As with street addresses, you can search for POIs with findAddressCandidates using the single field or multifield approach.\n",
    "\n",
    "## Single field POI search\n",
    "\n",
    "To search for POIs with a single field search, use the singleLine parameter. In general, valid singleLine POI search strings can be formatted in variations of two basic structures:\n",
    "\n",
    "1. &lt;name or type&gt; &lt;optional connector&gt; &lt;optional zone&gt;\n",
    "2. &lt;optional zone&gt; &lt;name or type&gt;\n",
    "Where:\n",
    "\n",
    "* &lt;name or type&gt; = A place name, such as \"Disneyland\", \"Starbucks\", \"Niagra Falls\", or \"Paris\"; or a type, such as \"amusement parks\", \"waterfalls\", or \"coffee shops\"\n",
    "* &lt;optional zone&gt; = A zone—which can be a city, state or region, country, or any combination thereof—provides a spatial boundary to the search; it can be included to limit matching candidates but is not required\n",
    "* &lt;optional connector&gt; = \"in\", \"at\", or \"near\"; this is not required for the search\n",
    "\n",
    "Examples of valid single line address search strings include:\n",
    "\n",
    "Business name searches:\n",
    "\n",
    "* Starbucks San Diego\n",
    "* Starbucks San Diego CA\n",
    "* Starbucks San Diego USA\n",
    "* Starbucks in San Diego\n",
    "* San Diego Starbucks\n",
    "* San Diego CA Starbucks\n",
    "* San Diego USA Starbucks\n",
    "\n",
    "Type searches:\n",
    "\n",
    "* coffee shops San Diego\n",
    "* coffee shops San Diego CA\n",
    "* coffee shops San Diego USA\n",
    "* coffee shops in San Diego CA\n",
    "* San Diego coffee shops\n",
    "* San Diego CA coffee shops\n",
    "* San Diego USA coffee shops\n",
    "\n",
    "## Multifield POI search\n",
    "\n",
    "When searching for POIs using multifield input, the name or type of the POI must be passed as the value for the address parameter. The zone information can be passed in the neighborhood, city, subregion, region, and countryCode parameters.\n",
    "\n",
    "Note:\n",
    "The postal and postalExt parameters are not valid input for POI searches.\n",
    "\n",
    "### General information\n",
    "\n",
    "It is important to note that instead of providing a zone, you can limit searches to a specific area by using the searchExtent parameter. You can also influence the sorting of match candidates according to their proximity to a location with the location and distance parameters.\n",
    "\n",
    "As with address searches, the quality of POI search results is dependent on the amount and quality of information in the search string. If you just search for hotels without qualifying information such as zone, search extent, or location, then your results will not be meaningful. Adding supplemental information to the search string—the more specific the better—will result in more accurate and relevant matches.\n",
    "\n",
    "Note:\n",
    "There may be instances when searches yield unexpected results. For example, a search for New York pizza, where the expected results are pizzerias in New York City, may instead return a match to a restaurant named New York Pizza in Sacramento, California. This is because exact place name matches are given higher priority to increase performance. If this occurs, you can obtain the desired results by modifying the search string—in this case, a search for pizza in NYC should yield the expected results.\n",
    "\n",
    "Note:\n",
    "The address, phone number, and website URL of a POI can be returned by including <code>outFields=Place_addr,Phone,URL</code> in the request. But not all POIs have address, phone, and URL values associated with them. \n",
    "\n",
    "\n",
    "### Example: Find a business name (Starbucks Sydney AUS)\n"
   ]
  },
  {
   "cell_type": "code",
   "execution_count": 97,
   "metadata": {
    "collapsed": true
   },
   "outputs": [],
   "source": [
    "starbucks_sydney = \"starbucks sydney AUS\""
   ]
  },
  {
   "cell_type": "markdown",
   "metadata": {},
   "source": [
    "We can use either the single line address above, or the multiple field address below to search."
   ]
  },
  {
   "cell_type": "code",
   "execution_count": 98,
   "metadata": {
    "collapsed": false
   },
   "outputs": [],
   "source": [
    "starbucks_sydney = {\n",
    "    \"Address\": \"starbucks\",\n",
    "    \"City\": \"Sydney\",\n",
    "    \"CountryCode\": \"AUS\"\n",
    "    }"
   ]
  },
  {
   "cell_type": "code",
   "execution_count": 99,
   "metadata": {
    "collapsed": true
   },
   "outputs": [],
   "source": [
    "map = gis.map(\"Sydney, AUS\", 13)\n",
    "map"
   ]
  },
  {
   "cell_type": "code",
   "execution_count": 100,
   "metadata": {
    "collapsed": true
   },
   "outputs": [],
   "source": [
    "starbucks = geocoder.geocode(starbucks_sydney)\n",
    "for starbuck in starbucks:\n",
    "    map.draw(starbuck['location'])"
   ]
  },
  {
   "cell_type": "markdown",
   "metadata": {},
   "source": [
    "###Example: Find a business type (hotels Miami, FL)"
   ]
  },
  {
   "cell_type": "code",
   "execution_count": 101,
   "metadata": {
    "collapsed": true
   },
   "outputs": [],
   "source": [
    "address = \"hotels miami FL\""
   ]
  },
  {
   "cell_type": "markdown",
   "metadata": {},
   "source": [
    "We can use either the single line address above, or the multiple field address below to search."
   ]
  },
  {
   "cell_type": "code",
   "execution_count": 102,
   "metadata": {
    "collapsed": true
   },
   "outputs": [],
   "source": [
    "address = {\n",
    "    \"Address\": \"hotels\",\n",
    "    \"City\": \"miami\",\n",
    "    \"Region\": \"FL\"\n",
    "    }"
   ]
  },
  {
   "cell_type": "code",
   "execution_count": 103,
   "metadata": {
    "collapsed": false
   },
   "outputs": [],
   "source": [
    "map = gis.map(\"Miami, Florida\", 10)\n",
    "map"
   ]
  },
  {
   "cell_type": "code",
   "execution_count": 104,
   "metadata": {
    "collapsed": true
   },
   "outputs": [],
   "source": [
    "miamihotels = geocoder.geocode(address)\n",
    "for hotel in miamihotels:\n",
    "    map.draw(hotel['location'])"
   ]
  },
  {
   "cell_type": "markdown",
   "metadata": {},
   "source": [
    "#Search for administrative place names\n",
    "The geocode method supports single field and multifield searches for administrative place names. This includes searches for neighborhoods, cities, counties, states, provinces, or countries. If a search for a city name results in multiple matches with the same name, the World Geocoding Service will sort the candidates in order of their relative importance to each other (as indicated by the value of the Rank output field), with priority generally based on population and capital status. For example, there are many cities in the world named London, so a search for \"London\" results in several equivalent matches; London, UK will always be the top candidate since it has the greatest population.\n",
    "\n",
    "### Example: Find a city name (London)"
   ]
  },
  {
   "cell_type": "code",
   "execution_count": 105,
   "metadata": {
    "collapsed": true
   },
   "outputs": [],
   "source": [
    "address = \"London\""
   ]
  },
  {
   "cell_type": "code",
   "execution_count": 106,
   "metadata": {
    "collapsed": true
   },
   "outputs": [],
   "source": [
    "map = gis.map(\"United Kingdon\", 5)\n",
    "map"
   ]
  },
  {
   "cell_type": "code",
   "execution_count": 107,
   "metadata": {
    "collapsed": true
   },
   "outputs": [],
   "source": [
    "london = geocoder.geocode(address)[0]"
   ]
  },
  {
   "cell_type": "code",
   "execution_count": 108,
   "metadata": {
    "collapsed": true
   },
   "outputs": [],
   "source": [
    "map.draw(london['location'])"
   ]
  },
  {
   "cell_type": "markdown",
   "metadata": {},
   "source": [
    "However, rank alone is not always enough to distinguish between administrative places. Also, you may not necessarily want to find the highest-ranked feature for a particular search. It may be necessary to remove ambiguity by refining searches with additional information. For example, a search for \"Oxford\" returns Oxford, UK as the top candidate based on rank. If you instead want to find the town of Oxford, Alabama, it is necessary to add the state information to the search.\n",
    "\n",
    "###Example: Search for city, state (Oxford, AL)"
   ]
  },
  {
   "cell_type": "code",
   "execution_count": 109,
   "metadata": {
    "collapsed": true
   },
   "outputs": [],
   "source": [
    "address = \"Oxford AL\""
   ]
  },
  {
   "cell_type": "markdown",
   "metadata": {},
   "source": [
    "Either the single line address above or the multiple foeld address below can be used to search for Oxford, AL."
   ]
  },
  {
   "cell_type": "code",
   "execution_count": 110,
   "metadata": {
    "collapsed": true
   },
   "outputs": [],
   "source": [
    "address = {\n",
    "    \"Address\" : \"Oxford\",\n",
    "    \"Region\" : \"AL\"\n",
    "}"
   ]
  },
  {
   "cell_type": "code",
   "execution_count": 111,
   "metadata": {
    "collapsed": true
   },
   "outputs": [],
   "source": [
    "map = gis.map(\"United States\", 4)\n",
    "map"
   ]
  },
  {
   "cell_type": "code",
   "execution_count": 112,
   "metadata": {
    "collapsed": true
   },
   "outputs": [],
   "source": [
    "oxford = geocoder.geocode(address)[0]\n",
    "map.draw(oxford['location'])"
   ]
  },
  {
   "cell_type": "markdown",
   "metadata": {},
   "source": [
    "#Search for postal codes\n",
    "\n",
    "The geocode method supports searches for postal codes and postal code extensions. When searching for postal codes it is important to note that the same code can be valid in more than one country; for best results it may be necessary to include additional information with the postal code, such as city or country.\n",
    "\n",
    "###Example: Find a postal code (110085 India)"
   ]
  },
  {
   "cell_type": "code",
   "execution_count": 113,
   "metadata": {
    "collapsed": true
   },
   "outputs": [],
   "source": [
    "address = {\n",
    "    \"Postal\" : 110001,\n",
    "    \"CountryCode\" : \"India\"\n",
    "}"
   ]
  },
  {
   "cell_type": "code",
   "execution_count": 114,
   "metadata": {
    "collapsed": true
   },
   "outputs": [],
   "source": [
    "map = gis.map(\"New Delhi, India\")\n",
    "map"
   ]
  },
  {
   "cell_type": "code",
   "execution_count": 115,
   "metadata": {
    "collapsed": true
   },
   "outputs": [],
   "source": [
    "pincode = geocoder.geocode(address)[0]\n",
    "map.draw(pincode['location'])"
   ]
  },
  {
   "cell_type": "markdown",
   "metadata": {},
   "source": [
    "The matched address contains several attributes, that provide values for the various output fields supported by the geocoder."
   ]
  },
  {
   "cell_type": "code",
   "execution_count": 116,
   "metadata": {
    "collapsed": false
   },
   "outputs": [
    {
     "data": {
      "text/plain": [
       "{'AddBldg': '',\n",
       " 'AddNum': '',\n",
       " 'AddNumFrom': '',\n",
       " 'AddNumTo': '',\n",
       " 'Addr_type': 'Postal',\n",
       " 'City': '',\n",
       " 'Country': 'IND',\n",
       " 'DisplayX': 77.226595,\n",
       " 'DisplayY': 28.622481,\n",
       " 'Distance': 0,\n",
       " 'LangCode': '',\n",
       " 'Loc_name': 'IND.Postal',\n",
       " 'Match_addr': '110001',\n",
       " 'Nbrhd': '',\n",
       " 'Phone': '',\n",
       " 'PlaceName': '',\n",
       " 'Place_addr': '',\n",
       " 'Postal': '110001',\n",
       " 'PostalExt': '',\n",
       " 'Rank': '',\n",
       " 'Region': '',\n",
       " 'Score': 100,\n",
       " 'Side': '',\n",
       " 'StAddr': '',\n",
       " 'StDir': '',\n",
       " 'StName': '',\n",
       " 'StPreDir': '',\n",
       " 'StPreType': '',\n",
       " 'StType': '',\n",
       " 'Subregion': '',\n",
       " 'Type': '',\n",
       " 'URL': '',\n",
       " 'X': 77.226595,\n",
       " 'Xmax': 77.25453,\n",
       " 'Xmin': 77.19862,\n",
       " 'Y': 28.622481,\n",
       " 'Ymax': 28.641,\n",
       " 'Ymin': 28.60405}"
      ]
     },
     "execution_count": 116,
     "metadata": {},
     "output_type": "execute_result"
    }
   ],
   "source": [
    "pincode['attributes']"
   ]
  },
  {
   "cell_type": "markdown",
   "metadata": {},
   "source": [
    "#Specify output fields\n",
    "\n",
    "The geocode method allows you to specify individual output fields or return all output fields. The outFields parameter is used for this. If you want to return all supported output fields, use the default i.e. outFields=*; If you want to return specific fields, pass the desired field names as comma separated values, such as outFields=PlaceName,Type,City,Country, which returns the name, feature type, city, and country for a POI search.\n",
    "\n",
    "See the topic <a href=\"https://developers.arcgis.com/rest/geocode/api-reference/geocoding-service-output.htm#ESRI_SECTION1_42D7D3D0231241E9B656C01438209440\">Service output</a> for detailed information about the attribute fields returned by the geocode method.\n",
    "\n",
    "###Example: Specify individual outfields for a POI search (PlaceName,Type,City,Country)"
   ]
  },
  {
   "cell_type": "code",
   "execution_count": 117,
   "metadata": {
    "collapsed": true
   },
   "outputs": [],
   "source": [
    "matches = geocoder.geocode(\"coffee shops austin\", outFields=\"PlaceName,Type,City,Country\")"
   ]
  },
  {
   "cell_type": "markdown",
   "metadata": {},
   "source": [
    "The returned attributes only contain the key-value pairs for the specified output fields:"
   ]
  },
  {
   "cell_type": "code",
   "execution_count": 118,
   "metadata": {
    "collapsed": false
   },
   "outputs": [
    {
     "data": {
      "text/plain": [
       "{'City': 'Austin',\n",
       " 'Country': 'USA',\n",
       " 'PlaceName': 'Starbucks',\n",
       " 'Type': 'Coffee Shop'}"
      ]
     },
     "execution_count": 118,
     "metadata": {},
     "output_type": "execute_result"
    }
   ],
   "source": [
    "matches[0]['attributes']"
   ]
  },
  {
   "cell_type": "markdown",
   "metadata": {},
   "source": [
    "#Specify the output spatial reference\n",
    "\n",
    "By default the World Geocoding Service returns candidate geometry in WGS84 coordinates (decimal degrees). You can specify a different spatial reference for output coordinates by using the outSR parameter. This is necessary if you have a mapping application in which you display geocoding candidates and the map spatial reference is not WGS84. For example, the ArcGIS.com basemaps use a Web Mercator spatial reference, with coordinates in meters. In order to display geocoding candidates correctly in such a map you would need to set outSR=102100, which is the well-known ID (WKID) of the Web Mercator spatial reference.\n",
    "\n",
    "For a list of valid WKID values, see <a href=\"http://resources.arcgis.com/EN/HELP/REST/APIREF/PCS.HTML\">Projected Coordinate Systems</a> and <a href=\"http://resources.arcgis.com/EN/HELP/REST/APIREF/GCS.HTML\">Geographic Coordinate Systems</a>.\n",
    "\n",
    "###Example: Specify output coordinates in Web Mercator spatial reference (380 new york st redlands ca)"
   ]
  },
  {
   "cell_type": "code",
   "execution_count": 119,
   "metadata": {
    "collapsed": true
   },
   "outputs": [],
   "source": [
    "esrihq = geocoder.geocode(\"380 New York St, Redlands, CA\")[0]"
   ]
  },
  {
   "cell_type": "code",
   "execution_count": 120,
   "metadata": {
    "collapsed": false
   },
   "outputs": [
    {
     "data": {
      "text/plain": [
       "{'x': -117.1956658832732, 'y': 34.05649020076322}"
      ]
     },
     "execution_count": 120,
     "metadata": {},
     "output_type": "execute_result"
    }
   ],
   "source": [
    "esrihq['location']"
   ]
  },
  {
   "cell_type": "markdown",
   "metadata": {},
   "source": [
    "The location above is in the default spatial reference of the geocoder (4326). We can set the output spatial reference to 102100 using the outSR parameter to obtain the location in the Web Mercator spatial reference(102100):"
   ]
  },
  {
   "cell_type": "code",
   "execution_count": 121,
   "metadata": {
    "collapsed": true
   },
   "outputs": [],
   "source": [
    "esrihq2 = geocoder.geocode(\"380 New York St, Redlands, CA\", outSR=102100)[0]"
   ]
  },
  {
   "cell_type": "code",
   "execution_count": 122,
   "metadata": {
    "collapsed": false
   },
   "outputs": [
    {
     "data": {
      "text/plain": [
       "{'x': -13046161.849304594, 'y': 4036389.80445789}"
      ]
     },
     "execution_count": 122,
     "metadata": {},
     "output_type": "execute_result"
    }
   ],
   "source": [
    "esrihq2['location']"
   ]
  },
  {
   "cell_type": "markdown",
   "metadata": {},
   "source": [
    "#Specify the maximum number of candidates\n",
    "\n",
    "The maxLocations parameter allows you to specify the maximum number of candidates to be returned by a search, up to the maximum number of candidates allowed by the World Geocoding Service. By default the service allows up to 20 candidates to be returned for address searches, and 50 for POI searches. As an example, if you set maxLocations=10, then geocode() will return the top 10 candidates for the search, regardless of whether the search matches to an address or a POI. If no value is specified for maxLocations, then geocode() returns upto a maximum default of 20 matches.\n",
    "\n",
    "###Example: Specify the maximum number of candidates for a POI search (Starbucks in Paris)"
   ]
  },
  {
   "cell_type": "code",
   "execution_count": 123,
   "metadata": {
    "collapsed": true
   },
   "outputs": [],
   "source": [
    "matches = geocoder.geocode(\"coffee shops austin\", outFields=\"PlaceName,City,Country\", maxLocations=3)"
   ]
  },
  {
   "cell_type": "markdown",
   "metadata": {},
   "source": [
    "We get back 3 matches as we've specified maxLocations=3:"
   ]
  },
  {
   "cell_type": "code",
   "execution_count": 124,
   "metadata": {
    "collapsed": false
   },
   "outputs": [
    {
     "data": {
      "text/plain": [
       "3"
      ]
     },
     "execution_count": 124,
     "metadata": {},
     "output_type": "execute_result"
    }
   ],
   "source": [
    "len(matches)"
   ]
  },
  {
   "cell_type": "code",
   "execution_count": 125,
   "metadata": {
    "collapsed": false
   },
   "outputs": [
    {
     "data": {
      "text/plain": [
       "[{'address': 'Starbucks',\n",
       "  'attributes': {'City': 'Austin', 'Country': 'USA', 'PlaceName': 'Starbucks'},\n",
       "  'extent': {'xmax': -97.963419,\n",
       "   'xmin': -97.973419,\n",
       "   'ymax': 30.346169,\n",
       "   'ymin': 30.336169},\n",
       "  'location': {'x': -97.96841805299965, 'y': 30.34116889100045},\n",
       "  'score': 100},\n",
       " {'address': 'Starbucks',\n",
       "  'attributes': {'City': 'Austin', 'Country': 'USA', 'PlaceName': 'Starbucks'},\n",
       "  'extent': {'xmax': -97.92906,\n",
       "   'xmin': -97.93906,\n",
       "   'ymax': 30.308998,\n",
       "   'ymin': 30.298998},\n",
       "  'location': {'x': -97.93405910199965, 'y': 30.303997689000482},\n",
       "  'score': 100},\n",
       " {'address': 'Starbucks',\n",
       "  'attributes': {'City': 'Austin', 'Country': 'USA', 'PlaceName': 'Starbucks'},\n",
       "  'extent': {'xmax': -97.873198,\n",
       "   'xmin': -97.883198,\n",
       "   'ymax': 30.207829,\n",
       "   'ymin': 30.197829},\n",
       "  'location': {'x': -97.87819655899966, 'y': 30.20282866700046},\n",
       "  'score': 100}]"
      ]
     },
     "execution_count": 125,
     "metadata": {},
     "output_type": "execute_result"
    }
   ],
   "source": [
    "matches"
   ]
  },
  {
   "cell_type": "markdown",
   "metadata": {},
   "source": [
    "#Search within an extent\n",
    "\n",
    "The geocode method allows spatial filtering of search results by using the searchExtent parameter. If you want to confine a search to a localized area, something that is especially useful in a mobile application, you can define a bounding rectangle to search within. No candidates outside of the rectangle are returned. Bounding rectangle coordinates can be entered as a simple comma-separated string in the format &lt;lower left corner&gt;,&lt;upper right corner&gt;. If the simple format is used, the coordinates must be in the default spatial reference of the geocoder, which is WGS84. The searchExtent parameter can be used with all supported search types (street address, POI, admin place, postal code).\n",
    "\n",
    "The example URL below illustrates how to find McDonald's in downtown San Diego using the simple searchExtent format.\n",
    "\n",
    "###Example: Find POIs using searchExtent with default spatial reference (McDonald's)\n",
    "The example below finds and plots upto 100 Mc Donalds' locations in San Diego, CA. The extent parameter is obtained from the geocoder's geocoding result for San Diego (sandiego['extent']) and passed into the next geocode() request for 100 Mc Donalds' locations:"
   ]
  },
  {
   "cell_type": "code",
   "execution_count": 126,
   "metadata": {
    "collapsed": true
   },
   "outputs": [],
   "source": [
    "sandiego = geocoder.geocode(\"San Diego, CA\")[0]\n",
    "map = gis.map(\"San Diego, CA\")\n",
    "map"
   ]
  },
  {
   "cell_type": "code",
   "execution_count": 127,
   "metadata": {
    "collapsed": true
   },
   "outputs": [],
   "source": [
    "# find and plot upto 100 Mc Donalds' locations in San Diego, CA\n",
    "\n",
    "mcds = geocoder.geocode(\"McDonalds\", sandiego['extent'],  maxLocations=100)\n",
    "for mcd in mcds:\n",
    "    map.draw(mcd['location'])"
   ]
  },
  {
   "cell_type": "markdown",
   "metadata": {},
   "source": [
    "###Example: Find POIs using searchExtent and zone (Starbucks garland)\n",
    "\n",
    "Requests that include searchExtent can also include zone information (that is, city, state, and country). If the extent defined for searchExtent is large enough to encompass multiple cities, it may be necessary to include the city name in the search to achieve optimal results. For example, if the searchExtent covers the entire state of Texas, and you search for Starbucks, there could be matches returned in any city in Texas. If you specifically want to find Starbucks in Garland for example, then this needs to be specified in the search."
   ]
  },
  {
   "cell_type": "code",
   "execution_count": 128,
   "metadata": {
    "collapsed": true
   },
   "outputs": [],
   "source": [
    "texas = geocoder.geocode(\"TX\")[0]\n",
    "map = gis.map(\"Dallas Fort Worth\", 10)\n",
    "map"
   ]
  },
  {
   "cell_type": "code",
   "execution_count": 129,
   "metadata": {
    "collapsed": true
   },
   "outputs": [],
   "source": [
    "starbucks = geocoder.geocode(\"Starbucks Garland\", texas['extent'], maxLocations=20)\n",
    "for starbuck in starbucks:\n",
    "    map.draw(starbuck['location'])"
   ]
  },
  {
   "cell_type": "markdown",
   "metadata": {},
   "source": [
    "###Example: Find a street address using searchExtent (380 New York St)\n",
    "\n",
    "You can also search for street addresses within an extent. When the searchExtent parameter is defined for an address search, city and postal code can be omitted from the search and valid matches can still be found. However, if the searchExtent is large, it is possible for a street address to occur multiple times within the extent, and it may be necessary to refine the search by including city, state, postal code, or other distinguishing information. Additionally, if the search includes a city or postal code that is outside the searchExtent, no matches will be returned. See the following example which illustrates finding a street address using searchExtent.\n",
    "\n"
   ]
  },
  {
   "cell_type": "code",
   "execution_count": 130,
   "metadata": {
    "collapsed": true
   },
   "outputs": [],
   "source": [
    "map = gis.map(\"Redlands, CA\")\n",
    "map"
   ]
  },
  {
   "cell_type": "code",
   "execution_count": 131,
   "metadata": {
    "collapsed": true
   },
   "outputs": [],
   "source": [
    "redlands = geocoder.geocode(\"Redlands, CA\")[0]\n",
    "\n",
    "# search for \"380 New Yort St\" within the extent of Redlands\n",
    "esrihq = geocoder.geocode(\"380 New York St\", redlands['extent'])[0]\n",
    "map.draw(esrihq['location'])"
   ]
  },
  {
   "cell_type": "code",
   "execution_count": 132,
   "metadata": {
    "collapsed": false
   },
   "outputs": [
    {
     "data": {
      "text/plain": [
       "{'xmax': -117.108538,\n",
       " 'xmin': -117.256538,\n",
       " 'ymax': 34.129567,\n",
       " 'ymin': 33.981567}"
      ]
     },
     "execution_count": 132,
     "metadata": {},
     "output_type": "execute_result"
    }
   ],
   "source": [
    "redlands['extent']"
   ]
  },
  {
   "cell_type": "markdown",
   "metadata": {},
   "source": [
    "#Proximity searches\n",
    "\n",
    "Geocoding results are typically sorted according to their relevance to the search and their relative importance. However, with some applications, especially mobile apps, users are more concerned with finding features closest to their current location. For this reason, the geocode method supports prioritization of candidates based on their distance from a specified point. By passing in the location and distance parameters, you can define a circular area of influence for your searches. The location parameter represents the center point of the area, and the distance parameter defines the radius in meters. The purpose of this area is to boost the rank of results closest to the specified location so that they show up higher in the list of candidates. Results that are within the area receive a greater boost than those outside the area.\n",
    "\n",
    "\n",
    "###Example: Find a place name using proximity search (Golden Nugget)\n",
    "\n",
    "It is important to note that proximity search does not filter results that are outside of the location and distance area—it is intended to influence the sort order of results so that the most locationally relevant candidates are returned first. For instance, if your location is in Las Vegas, distance=3000, and you search for \"Golden Nugget\", the first candidate is Golden Nugget in Las Vegas. The second is Golden Nugget in Biloxi, Mississippi. So even though Golden Nugget in Biloxi, Mississippi is much farther away than the 3000 meter search distance, it is still returned because it is the second most relevant (closest) candidate. In general, the number of candidates returned by a proximity search is only limited by the maxLocations parameter."
   ]
  },
  {
   "cell_type": "code",
   "execution_count": 133,
   "metadata": {
    "collapsed": true
   },
   "outputs": [],
   "source": [
    "map = gis.map(\"Las Vegas\")\n",
    "map"
   ]
  },
  {
   "cell_type": "code",
   "execution_count": 134,
   "metadata": {
    "collapsed": false
   },
   "outputs": [
    {
     "data": {
      "text/plain": [
       "{'x': -115.1372160299997, 'y': 36.174968712000464}"
      ]
     },
     "execution_count": 134,
     "metadata": {},
     "output_type": "execute_result"
    }
   ],
   "source": [
    "lasvegas = geocoder.geocode(\"Las Vegas, NV\")[0]\n",
    "lasvegas['location']"
   ]
  },
  {
   "cell_type": "markdown",
   "metadata": {},
   "source": [
    "We search for Golden Nugget near Las Vegas, NV and plot it on the map:"
   ]
  },
  {
   "cell_type": "code",
   "execution_count": 135,
   "metadata": {
    "collapsed": false
   },
   "outputs": [],
   "source": [
    "goldennuggets = geocoder.geocode(\"Golden Nugget\", location=lasvegas['location'], distance=3000)"
   ]
  },
  {
   "cell_type": "code",
   "execution_count": 136,
   "metadata": {
    "collapsed": false
   },
   "outputs": [],
   "source": [
    "map.draw(goldennuggets[0]['location'])"
   ]
  },
  {
   "cell_type": "code",
   "execution_count": 137,
   "metadata": {
    "collapsed": false
   },
   "outputs": [
    {
     "name": "stdout",
     "output_type": "stream",
     "text": [
      "129 Fremont St, Las Vegas, Nevada\n",
      "151 Beach Blvd, Biloxi, Mississippi\n",
      "Mudalige Mawatha, Colombo, Western\n",
      "2406 W Diversey Ave, Chicago, Illinois\n",
      "Huron Ave, Atlantic City, New Jersey\n",
      "20 Marine Parade, Great Yarmouth, Norfolk\n",
      "Marco-Polo-Strae 3, Satteldorf, Baden-Wrttemberg\n",
      "Brixner Strae 4, Innsbruck, Tirol\n",
      "Rainerstrae 19, Linz, Obersterreich\n",
      "117 Lonsdale St, Melbourne, Victoria\n",
      "29 Bannister Rd, Boddington, Western Australia\n",
      "R348, Ballinasloe, County Galway\n",
      "22 Shaftesbury Avenue, London\n",
      "Mallikatta Road, Mangalore, Karnataka\n",
      "Dr Ramaswamy Salai, Chennai, Tamil Nadu\n"
     ]
    }
   ],
   "source": [
    "# print the matched addresses - note that the address in Las Vegas is the first result\n",
    "for nugget in goldennuggets:\n",
    "    print(nugget['attributes']['Place_addr'])"
   ]
  },
  {
   "cell_type": "markdown",
   "metadata": {},
   "source": [
    "Contrast the results with a search for Golden Nugget without the location and distance parameters influencing the search results:"
   ]
  },
  {
   "cell_type": "code",
   "execution_count": 138,
   "metadata": {
    "collapsed": false
   },
   "outputs": [
    {
     "name": "stdout",
     "output_type": "stream",
     "text": [
      "151 Beach Blvd, Biloxi, Mississippi\n",
      "Mudalige Mawatha, Colombo, Western\n",
      "129 Fremont St, Las Vegas, Nevada\n",
      "2406 W Diversey Ave, Chicago, Illinois\n",
      "Huron Ave, Atlantic City, New Jersey\n",
      "20 Marine Parade, Great Yarmouth, Norfolk\n",
      "Marco-Polo-Strae 3, Satteldorf, Baden-Wrttemberg\n",
      "Brixner Strae 4, Innsbruck, Tirol\n",
      "Rainerstrae 19, Linz, Obersterreich\n",
      "29 Bannister Rd, Boddington, Western Australia\n",
      "117 Lonsdale St, Melbourne, Victoria\n",
      "22 Shaftesbury Avenue, London\n",
      "Mallikatta Road, Mangalore, Karnataka\n",
      "Dr Ramaswamy Salai, Chennai, Tamil Nadu\n",
      "R348, Ballinasloe, County Galway\n"
     ]
    }
   ],
   "source": [
    "goldennuggets = geocoder.geocode(\"Golden Nugget\")\n",
    "for nugget in goldennuggets:\n",
    "    print(nugget['attributes']['Place_addr'])"
   ]
  },
  {
   "cell_type": "markdown",
   "metadata": {},
   "source": [
    "###Example: Find a place name using both proximity and searchExtent (Golden Nugget)\n",
    "\n",
    "If you only want to return candidates within a specific area, and sort the candidates according to their proximity to a location, then you need to define a search extent by passing the searchExtent parameter in the request along with the location and distance parameters. Consider the Golden Nugget example again. If your location is in Las Vegas and you want to confine your search results to places named Golden Nugget that are within the map extent, then you would need to construct a request with the following parameters:"
   ]
  },
  {
   "cell_type": "code",
   "execution_count": 139,
   "metadata": {
    "collapsed": true
   },
   "outputs": [],
   "source": [
    "address = \"Golden Nugget\"\n",
    "location = lasvegas['location']\n",
    "distance =  4000\n",
    "searchExtent = lasvegas['extent']"
   ]
  },
  {
   "cell_type": "code",
   "execution_count": 140,
   "metadata": {
    "collapsed": false
   },
   "outputs": [
    {
     "name": "stdout",
     "output_type": "stream",
     "text": [
      "129 Fremont St, Las Vegas, Nevada\n"
     ]
    }
   ],
   "source": [
    "goldennuggets = geocoder.geocode(address, searchExtent, location, distance)\n",
    "for nugget in goldennuggets:\n",
    "    print(nugget['attributes']['Place_addr'])"
   ]
  },
  {
   "cell_type": "markdown",
   "metadata": {},
   "source": [
    "#Category filtering"
   ]
  },
  {
   "cell_type": "markdown",
   "metadata": {},
   "source": [
    "The geocode method supports filtering searches by category values, which represent address and place types. By including the category parameter in a geocode() call you can avoid false positive matches to unexpected place and address types due to ambiguous searches.\n",
    "\n",
    "Note:\n",
    "The category parameter is only functional when used with single line addresses. It does not work with the multifield parameters; specifically the address, neighborhood, city, region, subregion, countryCode, and postal parameters.\n",
    "\n",
    "For example, a user may search for \"Mammoth\", expecting the service to match to Mammoth Mountain ski resort. However there are many places in the world named \"Mammoth\", and so the search returns several cities named \"Mammoth\".\n",
    "\n",
    "###Example: Search for \"Mammoth\" without category"
   ]
  },
  {
   "cell_type": "code",
   "execution_count": 141,
   "metadata": {
    "collapsed": false
   },
   "outputs": [
    {
     "name": "stdout",
     "output_type": "stream",
     "text": [
      "Mammoth, Arizona, United States\n",
      "Mammoth, California, United States\n",
      "Mammoth, Utah, United States\n",
      "Mammoth, Montana, United States\n",
      "Mammoth, Missouri, United States\n",
      "Mammoth, West Virginia, United States\n",
      "Mammoth, Pennsylvania, United States\n",
      "Mammoth, Wyoming, United States\n",
      "Mammoth, New Zealand\n",
      "Mammoth\n",
      "Mammoth\n",
      "Mammoth\n",
      "Mammoth\n",
      "Mammoth\n",
      "Mammoth\n",
      "Mammoth\n",
      "Mammoth\n",
      "Mammoth\n",
      "Mammoth\n",
      "Mammoth\n"
     ]
    }
   ],
   "source": [
    "mammoths = geocoder.geocode(\"Mammoth\")\n",
    "for mammoth in mammoths:\n",
    "    print(mammoth['address'])"
   ]
  },
  {
   "cell_type": "markdown",
   "metadata": {},
   "source": [
    "The solution for this case is to pass the category parameter in the method call. By including category=Ski Resort, all places that are not ski resorts are bypassed by the search, and only ski resorts whose names begin with \"Mammoth\" are returned.\n",
    "\n",
    "###Example: Search for \"Mammoth\" with category=Ski Resort"
   ]
  },
  {
   "cell_type": "code",
   "execution_count": 142,
   "metadata": {
    "collapsed": false
   },
   "outputs": [
    {
     "name": "stdout",
     "output_type": "stream",
     "text": [
      "Mammoth Mountain\n",
      "Takamagahara Mammoth\n",
      "Mammoth Ski Resort\n"
     ]
    }
   ],
   "source": [
    "mammoths = geocoder.geocode(\"Mammoth\", category=\"Ski Resort\")\n",
    "for mammoth in mammoths:\n",
    "    print(mammoth['address'])"
   ]
  },
  {
   "cell_type": "markdown",
   "metadata": {},
   "source": [
    "See the topic <a href=\"https://developers.arcgis.com/rest/geocode/api-reference/geocoding-category-filtering.htm\">Category filtering</a> for complete details."
   ]
  }
 ],
 "metadata": {
  "kernelspec": {
   "display_name": "Python 3",
   "language": "python",
   "name": "python3"
  },
  "language_info": {
   "codemirror_mode": {
    "name": "ipython",
    "version": 3
   },
   "file_extension": ".py",
   "mimetype": "text/x-python",
   "name": "python",
   "nbconvert_exporter": "python",
   "pygments_lexer": "ipython3",
   "version": "3.4.4"
  }
 },
 "nbformat": 4,
 "nbformat_minor": 0
}
