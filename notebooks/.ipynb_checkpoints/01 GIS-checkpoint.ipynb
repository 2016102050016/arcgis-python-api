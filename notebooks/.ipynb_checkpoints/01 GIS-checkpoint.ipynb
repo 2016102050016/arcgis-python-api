{
 "cells": [
  {
   "cell_type": "markdown",
   "metadata": {
    "collapsed": true
   },
   "source": [
    "# Using The GIS \n",
    "\n",
    "The GIS object is the most important object when working with the arcgis API. The GIS object represents the online GIS you are working with, be it ArcGIS Online or an ArcGIS Portal. You use the GIS object to consume and publish GIS content and administrators may use it to manage GIS users and groups. The GIS object comes with helper services such as analysis, geocoding and geometry services to help in your workflows."
   ]
  },
  {
   "cell_type": "markdown",
   "metadata": {},
   "source": [
    "To use the GIS object, import GIS from the arcgis.gis module:"
   ]
  },
  {
   "cell_type": "code",
   "execution_count": 1,
   "metadata": {
    "collapsed": true
   },
   "outputs": [],
   "source": [
    "from arcgis.gis import *"
   ]
  },
  {
   "cell_type": "markdown",
   "metadata": {},
   "source": [
    "To create the GIS object, we pass in the url and our login credentials:"
   ]
  },
  {
   "cell_type": "code",
   "execution_count": 2,
   "metadata": {
    "collapsed": false
   },
   "outputs": [],
   "source": [
    "gis = GIS(\"https://dev04875.esri.com/arcgis\", \"portaladmin\", rot13(\"cbegnynqzva\"))"
   ]
  },
  {
   "cell_type": "markdown",
   "metadata": {},
   "source": [
    "Here, we're connecting to ArcGIS Online (the default GIS used when the url is not provided) as an anonymous user:"
   ]
  },
  {
   "cell_type": "code",
   "execution_count": 3,
   "metadata": {
    "collapsed": false
   },
   "outputs": [],
   "source": [
    "gis = GIS()"
   ]
  },
  {
   "cell_type": "code",
   "execution_count": 4,
   "metadata": {
    "collapsed": false
   },
   "outputs": [],
   "source": [
    "gis?"
   ]
  },
  {
   "cell_type": "code",
   "execution_count": null,
   "metadata": {
    "collapsed": true
   },
   "outputs": [],
   "source": [
    "gis.groups."
   ]
  },
  {
   "cell_type": "markdown",
   "metadata": {},
   "source": [
    "The GIS object provides helper objects to manage the GIS resources, i.e. the users, groups, content and projects. These helper utilities are in the form of helper objects named users, groups, content and projects respectively. \n",
    "\n",
    "Each such helper object has similar patterns of usage: there are methods to get(), search() and create() the respective resources."
   ]
  },
  {
   "cell_type": "code",
   "execution_count": 4,
   "metadata": {
    "collapsed": false
   },
   "outputs": [],
   "source": [
    "user = gis.users.get('rxsingh')"
   ]
  },
  {
   "cell_type": "markdown",
   "metadata": {},
   "source": [
    "The arcgis API is integrated with IPython Notebook to make it easy to visualize and interact with GIS resources. The user object has a rich representation that can be queried like this:"
   ]
  },
  {
   "cell_type": "code",
   "execution_count": 5,
   "metadata": {
    "collapsed": false
   },
   "outputs": [
    {
     "data": {
      "text/html": [
       "<div class=\"9item_container\" style=\"height: auto; overflow: hidden; border: 1px solid #cfcfcf; border-radius: 2px; background: #f6fafa; line-height: 1.21429em; padding: 10px;\">\n",
       "                    <div class=\"item_left\" style=\"width: 210px; float: left;\">\n",
       "                       <a href='http://www.arcgis.com/home/user.html?user=rxsingh' target='_blank'>\n",
       "                        <img src='http://www.arcgis.com/sharing/rest/community/users/rxsingh/info/rohit150.png' class=\"itemThumbnail\">\n",
       "                       </a>\n",
       "                    </div>\n",
       "        \n",
       "                    <div class=\"item_right\" style=\"float: none; width: auto; overflow: hidden;\">\n",
       "                        <a href='http://www.arcgis.com/home/user.html?user=rxsingh' target='_blank'><b>Rohit Singh</b>\n",
       "                        </a>\n",
       "                        <br><br><b>Bio</b>: \n",
       "                        <br><b>First Name</b>: Rohit\n",
       "                        <br><b>Last Name</b>: Singh\n",
       "                        <br><b>Username</b>: rxsingh\n",
       "                        <br><b>Joined</b>: July 02, 2014\n",
       "                        \n",
       "                    </div>\n",
       "                </div>\n",
       "                "
      ],
      "text/plain": [
       "<User username:rxsingh>"
      ]
     },
     "execution_count": 5,
     "metadata": {},
     "output_type": "execute_result"
    }
   ],
   "source": [
    "user"
   ]
  },
  {
   "cell_type": "markdown",
   "metadata": {},
   "source": [
    "The resources are implemented as Python dictionaries. You can query for the resource properties using the <b><code>resource['property']</code></b> notation:"
   ]
  },
  {
   "cell_type": "code",
   "execution_count": 6,
   "metadata": {
    "collapsed": false
   },
   "outputs": [
    {
     "data": {
      "text/plain": [
       "'Rohit'"
      ]
     },
     "execution_count": 6,
     "metadata": {},
     "output_type": "execute_result"
    }
   ],
   "source": [
    "user['firstName']"
   ]
  },
  {
   "cell_type": "markdown",
   "metadata": {},
   "source": [
    "The properties are also available as properties on the resource object, so you can use the dot notation to access them:"
   ]
  },
  {
   "cell_type": "code",
   "execution_count": 7,
   "metadata": {
    "collapsed": false
   },
   "outputs": [
    {
     "data": {
      "text/plain": [
       "'Singh'"
      ]
     },
     "execution_count": 7,
     "metadata": {},
     "output_type": "execute_result"
    }
   ],
   "source": [
    "user.lastName"
   ]
  },
  {
   "cell_type": "markdown",
   "metadata": {},
   "source": [
    "The resources provide methods to update(), delete() and use the object.\n",
    "\n",
    "We looked as the users helper object above. Here's similar code using the content object to seach GIS content:"
   ]
  },
  {
   "cell_type": "code",
   "execution_count": 8,
   "metadata": {
    "collapsed": false,
    "scrolled": false
   },
   "outputs": [
    {
     "data": {
      "text/html": [
       "<div class=\"item_container\" style=\"height: auto; overflow: hidden; border: 1px solid #cfcfcf; border-radius: 2px; background: #f6fafa; line-height: 1.21429em; padding: 10px;\">\n",
       "                    <div class=\"item_left\" style=\"width: 210px; float: left;\">\n",
       "                       <a href='http://www.arcgis.com/home/item.html?id=26f7674a2ad744f3806af0c426531951' target='_blank'>\n",
       "                        <img src='http://www.arcgis.com/sharing/rest/content/items/26f7674a2ad744f3806af0c426531951/info/thumbnail/SDEmergency_portal_Link_toAGO.png' class=\"itemThumbnail\">\n",
       "                       </a>\n",
       "                    </div>\n",
       "        \n",
       "                    <div class=\"item_right\"     style=\"float: none; width: auto; overflow: hidden;\">\n",
       "                        <a href='http://www.arcgis.com/home/item.html?id=26f7674a2ad744f3806af0c426531951' target='_blank'><b>County of San Diego Emergency Map (Live)</b>\n",
       "                        </a>\n",
       "                        <br>Public feed from the County of San Diego Office of Emergency Services and other emergency-related feeds.<img src='http://www.arcgis.com/home/js/jsapi/esri/css/images/item_type_icons/maps16.png' style=\"vertical-align:middle;\">Web Map by oes_services\n",
       "                        <br>Last Modified: May 17, 2016\n",
       "                        <br>11 comments, 3,254,450 views\n",
       "                    </div>\n",
       "                </div>\n",
       "                "
      ],
      "text/plain": [
       "<Item title:\"County of San Diego Emergency Map (Live)\" type:Web Map owner:oes_services>"
      ]
     },
     "metadata": {},
     "output_type": "display_data"
    },
    {
     "data": {
      "text/html": [
       "<div class=\"item_container\" style=\"height: auto; overflow: hidden; border: 1px solid #cfcfcf; border-radius: 2px; background: #f6fafa; line-height: 1.21429em; padding: 10px;\">\n",
       "                    <div class=\"item_left\" style=\"width: 210px; float: left;\">\n",
       "                       <a href='http://www.arcgis.com/home/item.html?id=1966ef409a344d089b001df85332608f' target='_blank'>\n",
       "                        <img src='http://www.arcgis.com/sharing/rest/content/items/1966ef409a344d089b001df85332608f/info/thumbnail/thumbnail_san_diego_map.png' class=\"itemThumbnail\">\n",
       "                       </a>\n",
       "                    </div>\n",
       "        \n",
       "                    <div class=\"item_right\"     style=\"float: none; width: auto; overflow: hidden;\">\n",
       "                        <a href='http://www.arcgis.com/home/item.html?id=1966ef409a344d089b001df85332608f' target='_blank'><b>San Diego Shortlist</b>\n",
       "                        </a>\n",
       "                        <br>Rupert Essinger from the Esri Story Maps team shares a selection of cool places to go in this Southern Californian beach city where he lives.<img src='http://www.arcgis.com/home/js/jsapi/esri/css/images/item_type_icons/maps16.png' style=\"vertical-align:middle;\">Web Map by RupertEssinger\n",
       "                        <br>Last Modified: June 29, 2015\n",
       "                        <br>22 comments, 290,162 views\n",
       "                    </div>\n",
       "                </div>\n",
       "                "
      ],
      "text/plain": [
       "<Item title:\"San Diego Shortlist\" type:Web Map owner:RupertEssinger>"
      ]
     },
     "metadata": {},
     "output_type": "display_data"
    },
    {
     "data": {
      "text/html": [
       "<div class=\"item_container\" style=\"height: auto; overflow: hidden; border: 1px solid #cfcfcf; border-radius: 2px; background: #f6fafa; line-height: 1.21429em; padding: 10px;\">\n",
       "                    <div class=\"item_left\" style=\"width: 210px; float: left;\">\n",
       "                       <a href='http://www.arcgis.com/home/item.html?id=1fe3292959da4c3d84cbe2def87a89c0' target='_blank'>\n",
       "                        <img src='http://www.arcgis.com/sharing/rest/content/items/1fe3292959da4c3d84cbe2def87a89c0/info/thumbnail/San_Diego_Trolley.png' class=\"itemThumbnail\">\n",
       "                       </a>\n",
       "                    </div>\n",
       "        \n",
       "                    <div class=\"item_right\"     style=\"float: none; width: auto; overflow: hidden;\">\n",
       "                        <a href='http://www.arcgis.com/home/item.html?id=1fe3292959da4c3d84cbe2def87a89c0' target='_blank'><b>San Diego Trolley</b>\n",
       "                        </a>\n",
       "                        <br>Complete trolley lines and stations of the San Diego Trolley using data from San Diego Association of Governments (SANDAG) with several updates applied<img src='http://www.arcgis.com/home/js/jsapi/esri/css/images/item_type_icons/mapimages16.png' style=\"vertical-align:middle;\">Map Service by RupertEssinger\n",
       "                        <br>Last Modified: September 11, 2012\n",
       "                        <br>0 comments, 184,598 views\n",
       "                    </div>\n",
       "                </div>\n",
       "                "
      ],
      "text/plain": [
       "<Item title:\"San Diego Trolley\" type:Map Service owner:RupertEssinger>"
      ]
     },
     "metadata": {},
     "output_type": "display_data"
    }
   ],
   "source": [
    "from IPython.display import display\n",
    "\n",
    "items = gis.content.search('San Diego',max_items=3)\n",
    "for item in items:\n",
    "    display(item)"
   ]
  },
  {
   "cell_type": "markdown",
   "metadata": {},
   "source": [
    "The GIS object provides helper services such as geocoding and geometry services. We can use the geocoder to locate an address. To visualize it, let's first open a map:"
   ]
  },
  {
   "cell_type": "code",
   "execution_count": 9,
   "metadata": {
    "collapsed": false
   },
   "outputs": [],
   "source": [
    "from arcgis.viz import MapView"
   ]
  },
  {
   "cell_type": "code",
   "execution_count": 10,
   "metadata": {
    "collapsed": true
   },
   "outputs": [],
   "source": [
    "map = MapView()"
   ]
  },
  {
   "cell_type": "code",
   "execution_count": 11,
   "metadata": {
    "collapsed": true
   },
   "outputs": [],
   "source": [
    "map"
   ]
  },
  {
   "cell_type": "markdown",
   "metadata": {},
   "source": [
    "Let's find Times Square on the map and zoom in:"
   ]
  },
  {
   "cell_type": "code",
   "execution_count": 12,
   "metadata": {
    "collapsed": false
   },
   "outputs": [],
   "source": [
    "map.center = gis.tools.geocoder.find_best_match(\"Times Square\")"
   ]
  },
  {
   "cell_type": "code",
   "execution_count": 13,
   "metadata": {
    "collapsed": true
   },
   "outputs": [],
   "source": [
    "map.zoom = 12"
   ]
  },
  {
   "cell_type": "code",
   "execution_count": 16,
   "metadata": {
    "collapsed": true
   },
   "outputs": [],
   "source": [
    "map.height = 300"
   ]
  }
 ],
 "metadata": {
  "kernelspec": {
   "display_name": "Python 3",
   "language": "python",
   "name": "python3"
  },
  "language_info": {
   "codemirror_mode": {
    "name": "ipython",
    "version": 3
   },
   "file_extension": ".py",
   "mimetype": "text/x-python",
   "name": "python",
   "nbconvert_exporter": "python",
   "pygments_lexer": "ipython3",
   "version": "3.4.4"
  }
 },
 "nbformat": 4,
 "nbformat_minor": 0
}
